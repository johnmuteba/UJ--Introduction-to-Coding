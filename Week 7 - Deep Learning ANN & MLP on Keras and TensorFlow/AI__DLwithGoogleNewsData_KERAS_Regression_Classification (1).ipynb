{
 "cells": [
  {
   "cell_type": "markdown",
   "id": "066affaf",
   "metadata": {},
   "source": [
    "# <font color=blue/red/yellow> Keras Deep Learning Model with Google News: Regression and Classification problems"
   ]
  },
  {
   "cell_type": "markdown",
   "id": "8c635855",
   "metadata": {},
   "source": [
    "### <font color=green/yellow> By Prof John Weirstrass Muteba Mwamba"
   ]
  },
  {
   "cell_type": "markdown",
   "id": "90d43a79",
   "metadata": {},
   "source": [
    "# GETTING GOOGLE NEWS:"
   ]
  },
  {
   "cell_type": "code",
   "execution_count": 1,
   "id": "9cfbb88c",
   "metadata": {},
   "outputs": [],
   "source": [
    "from GoogleNews import GoogleNews\n",
    "googlenews = GoogleNews()"
   ]
  },
  {
   "cell_type": "code",
   "execution_count": 2,
   "id": "245d501f",
   "metadata": {},
   "outputs": [],
   "source": [
    "# set period\n",
    "googlenews.set_time_range('01/01/2023','02/28/2023') ## Month/DD/YYYY\n",
    "# specify language and region\n",
    "googlenews = GoogleNews(lang='en', region='South Africa')\n",
    "googlenews.get_news('South African Elections',' Electricity supply in South Africa') \n",
    "dat=googlenews.get_texts()"
   ]
  },
  {
   "cell_type": "code",
   "execution_count": 3,
   "id": "ee6b787e",
   "metadata": {},
   "outputs": [
    {
     "data": {
      "text/plain": [
       "100"
      ]
     },
     "execution_count": 3,
     "metadata": {},
     "output_type": "execute_result"
    }
   ],
   "source": [
    "len(dat)"
   ]
  },
  {
   "cell_type": "code",
   "execution_count": 4,
   "id": "b462d02b",
   "metadata": {},
   "outputs": [],
   "source": [
    "googlenews.clear() ## clear the memory to retrive more data"
   ]
  },
  {
   "cell_type": "code",
   "execution_count": 5,
   "id": "c6e24e53",
   "metadata": {},
   "outputs": [],
   "source": [
    "googlenews.search('South African stock markets') \n",
    "googlenews.get_page(2)\n",
    "googlenews.get_page(3)\n",
    "googlenews.get_page(4)\n",
    "googlenews.get_page(5)\n",
    "googlenews.get_page(6)\n",
    "googlenews.get_page(7)\n",
    "googlenews.get_page(8)\n",
    "googlenews.get_page(9)\n",
    "googlenews.get_page(10)\n",
    "googlenews.get_page(11)"
   ]
  },
  {
   "cell_type": "code",
   "execution_count": 6,
   "id": "6b310ea5",
   "metadata": {},
   "outputs": [],
   "source": [
    "googlenews.total_count() ### number of pages retrieved google search"
   ]
  },
  {
   "cell_type": "code",
   "execution_count": 7,
   "id": "7a638d8f",
   "metadata": {},
   "outputs": [],
   "source": [
    "data2=googlenews.get_texts()"
   ]
  },
  {
   "cell_type": "code",
   "execution_count": 8,
   "id": "12bc9796",
   "metadata": {},
   "outputs": [
    {
     "data": {
      "text/plain": [
       "110"
      ]
     },
     "execution_count": 8,
     "metadata": {},
     "output_type": "execute_result"
    }
   ],
   "source": [
    "len(data2)"
   ]
  },
  {
   "cell_type": "code",
   "execution_count": 9,
   "id": "4bf66b8f",
   "metadata": {},
   "outputs": [],
   "source": [
    "googlenews.clear() ##"
   ]
  },
  {
   "cell_type": "code",
   "execution_count": 10,
   "id": "565314a7",
   "metadata": {},
   "outputs": [],
   "source": [
    "googlenews.search('voting in 2024 in South Africa')\n",
    "googlenews.get_page(2)\n",
    "googlenews.get_page(3)\n",
    "googlenews.get_page(4)\n",
    "googlenews.get_page(5)\n",
    "googlenews.get_page(6)\n",
    "googlenews.get_page(7)\n",
    "googlenews.get_page(8)\n",
    "googlenews.get_page(9)\n",
    "googlenews.get_page(10)\n",
    "googlenews.get_page(11)\n",
    "googlenews.get_page(12)\n",
    "googlenews.get_page(13)\n",
    "data3=googlenews.get_texts()"
   ]
  },
  {
   "cell_type": "code",
   "execution_count": 11,
   "id": "f51c9797",
   "metadata": {},
   "outputs": [
    {
     "data": {
      "text/plain": [
       "129"
      ]
     },
     "execution_count": 11,
     "metadata": {},
     "output_type": "execute_result"
    }
   ],
   "source": [
    "len(data3)"
   ]
  },
  {
   "cell_type": "code",
   "execution_count": 12,
   "id": "9815cff1",
   "metadata": {},
   "outputs": [],
   "source": [
    "googlenews.clear() #"
   ]
  },
  {
   "cell_type": "code",
   "execution_count": 13,
   "id": "d66b4773",
   "metadata": {},
   "outputs": [],
   "source": [
    "googlenews.search('South African political parties and elections')\n",
    "googlenews.get_page(2)\n",
    "googlenews.get_page(3)\n",
    "googlenews.get_page(4)\n",
    "googlenews.get_page(5)\n",
    "googlenews.get_page(6)\n",
    "googlenews.get_page(7)\n",
    "googlenews.get_page(8)\n",
    "googlenews.get_page(9)\n",
    "googlenews.get_page(10)\n",
    "data4=googlenews.get_texts()"
   ]
  },
  {
   "cell_type": "code",
   "execution_count": 14,
   "id": "17c1728e",
   "metadata": {},
   "outputs": [
    {
     "data": {
      "text/plain": [
       "100"
      ]
     },
     "execution_count": 14,
     "metadata": {},
     "output_type": "execute_result"
    }
   ],
   "source": [
    "len(data4)"
   ]
  },
  {
   "cell_type": "code",
   "execution_count": 15,
   "id": "b733828f",
   "metadata": {},
   "outputs": [],
   "source": [
    "googlenews.clear() #"
   ]
  },
  {
   "cell_type": "code",
   "execution_count": 16,
   "id": "658eea36",
   "metadata": {},
   "outputs": [],
   "source": [
    "googlenews.get_news('ANC in power after elections','voters decisions in 2024 lections in South Africa') \n",
    "data5=googlenews.get_texts()"
   ]
  },
  {
   "cell_type": "code",
   "execution_count": 17,
   "id": "ee1cfaa7",
   "metadata": {},
   "outputs": [
    {
     "data": {
      "text/plain": [
       "80"
      ]
     },
     "execution_count": 17,
     "metadata": {},
     "output_type": "execute_result"
    }
   ],
   "source": [
    "len(data5)"
   ]
  },
  {
   "cell_type": "markdown",
   "id": "fb437240",
   "metadata": {},
   "source": [
    "# Combining the 4 Google searches: dat, data2, data3, and data4"
   ]
  },
  {
   "cell_type": "code",
   "execution_count": 18,
   "id": "01b92353",
   "metadata": {},
   "outputs": [],
   "source": [
    "RSA_news=dat+data2+data3+data4+data5"
   ]
  },
  {
   "cell_type": "markdown",
   "id": "65d7b5fb",
   "metadata": {},
   "source": [
    "## Visualizing the data"
   ]
  },
  {
   "cell_type": "code",
   "execution_count": 19,
   "id": "5ebc1c62",
   "metadata": {},
   "outputs": [
    {
     "data": {
      "text/plain": [
       "['Chatham HouseMoreThe South African election campaign season marks a shift to a volatile new politics',\n",
       " 'Al Jazeera EnglishMoreSouth Africa to hold general election on May 29',\n",
       " 'DW (English)MoreSouth Africa faces decisive 2024 election',\n",
       " 'Voice of America - VOA NewsMoreSouth Africa Sets Date for New Parliamentary Elections',\n",
       " \"Geopolitical Intelligence Services AGMoreSouth Africa's upcoming election could change everything – GIS Reports\",\n",
       " \"The Globe and MailMoreJacob Zuma's new party is a wild card in the unpredictable South African election\",\n",
       " 'ReutersMoreSouth Africa to hold national and provincial elections on May 29',\n",
       " 'The Associated PressMoreSouth Africa sets May 29 elections that could be the most pivotal since apartheid ended',\n",
       " 'CTV NewsMoreSouth African president sets May-29 election date',\n",
       " 'BloombergMoreSouth Africa to Hold National Elections May 29, President Cyril Ramaphosa Says',\n",
       " 'Al Jazeera EnglishMore‘Jolt to reality’: Gaza war shakes up South Africa’s election campaign',\n",
       " 'Financial TimesMoreCyril Ramaphosa kicks off pivotal South Africa election campaign',\n",
       " 'Commons LibraryMoreSouth Africa election 2024 lookahead - House of Commons Library',\n",
       " \"ReutersMoreSouth Africa's Ramaphosa to announce election date this month - spokesman\",\n",
       " \"The Associated PressMoreWhy South Africa is facing a turning point in May's national election and who the major players are\",\n",
       " 'Financial TimesMoreSouth Africa sets May 29 for pivotal general election',\n",
       " 'Al Jazeera EnglishMoreDream or mirage: Can South Africa’s white-led opposition win in 2024?',\n",
       " \"The Associated PressMoreSouth Africa's ANC party could fall below 50% of the vote — a first since white minority rule's end\",\n",
       " \"The Associated PressMoreSouth Africa's main opposition party lays out plans to unseat the African National Congress\",\n",
       " \"BNN BreakingMoreTop 5 Windows Apps for Livestreaming South Africa's 2024 Elections: Stay Informed\",\n",
       " 'The Associated PressMoreSouth African president defends 30 years of ANC rule in speech to Parliament ahead of elections',\n",
       " 'BBC.comMoreSouth Africa budget boosts welfare grants ahead of May election',\n",
       " 'BloombergMoreSouth Africa Elections Unlikely to Bring Major Change Says Pollster',\n",
       " 'DW (English)MoreAfrica 2024 elections: Stability at stake?',\n",
       " 'The Associated PressMoreLeader of South African opposition party promises jobs, land ahead of election',\n",
       " 'BBCMoreSouth Africa election: Zuma ally Nathi Nheko resigns from governing ANC',\n",
       " 'Al Jazeera EnglishMoreWhy did South Africa’s ruling ANC suspend ex-President Jacob Zuma?',\n",
       " \"Africa Center for Strategic StudiesMoreAfrica's 2024 Elections: Challenges and Opportunities to Regain Democratic Momentum – Africa Center for Strategic ...\",\n",
       " \"The Associated PressMoreSouth Africa's ANC launches election manifesto as president highlights party's achievements\",\n",
       " 'The EconomistMoreSouth Africa faces a defining election',\n",
       " \"ReutersMoreSouth Africa's governing ANC promises 'better life' at manifesto launch\",\n",
       " 'Voice of America - VOA NewsMore9 Killed in South Africa Crash After Attending ANC Election Rally',\n",
       " \"ReutersMoreRamaphosa targets 'decisive' ANC win in South African elections\",\n",
       " 'Chatham HouseMoreSouth Africa weighs a new election outcome: coalitions',\n",
       " 'Foreign PolicyMoreWhat to Watch in Africa in 2024 – Foreign Policy',\n",
       " \"BloombergMoreSouth Africa's Main Opposition Says Election Victory is in Sight\",\n",
       " 'Human Rights WatchMoreSouthern Africa: Backsliding on Democracy Jeopardizes Rights',\n",
       " \"The Straits TimesMoreSouth African economy 'moving sideways' months before election\",\n",
       " 'BloombergMoreSouth African Poll Shows ANC Losing Majority, Gains for EFF',\n",
       " \"BloombergMoreReserves Drawdown Is Wildcard in South Africa's Election Budget\",\n",
       " 'Al Jazeera EnglishMoreSouth Africa’s ANC suspends former President Jacob Zuma',\n",
       " \"BloombergMoreSouth Africa's Godongwana Says 2024 Budget No Election Giveaway\",\n",
       " \"CTV NewsMoreSouth African's government marks 112 years ahead of election\",\n",
       " 'BloombergMoreRamaphosa to Announce South African Election Date by Feb. 23',\n",
       " 'RFI EnglishMoreYear of elections has Africa poised for political shake-up in 2024',\n",
       " 'BloombergMoreKganyago Sees 2024 Elections Among Top Risks for South Africa',\n",
       " \"The Africa ReportMoreHow will South Africa's 2024 elections impact Zimbabwe?\",\n",
       " 'FRANCE 24 EnglishMoreZuma deals new blow to ANC hopes in S. Africa election',\n",
       " \"BloombergMoreWhich South African Parties Will Be ANC's Coalition Partner?\",\n",
       " \"BloombergMoreSouth Africa's ANC Bids to Regain Voter Trust as Crux Election Looms\",\n",
       " 'Foreign PolicyMoreFrustrated South Africa Wonders if ANC Is Still Worth It',\n",
       " 'Geopolitical Intelligence Services AGMoreSouthern Africa awaits three pivotal elections – GIS Reports',\n",
       " \"UnHerdMoreSouth Africa's stagnant election\",\n",
       " 'FRANCE 24 EnglishMoreS.Africa seeks to tempt disaffected voters back to elections',\n",
       " 'The East AfricanMoreHow South Africa, US elections could shape Tshisekedi’s bread in Kinshasa',\n",
       " 'ReutersMoreSouth African labour market recovery stalls months before election',\n",
       " 'Atlantic CouncilMoreSouth Africa needs political change to meet economic demands',\n",
       " 'BNN BreakingMoreElection Fever Hits South Africa: Politicians Join Viral Dance Challenges to Woo Voters',\n",
       " \"BloombergMoreFive Things to Watch For in South Africa's Pre-Election Budget\",\n",
       " 'The Associated PressMoreSouth African ex-President Jacob Zuma has denounced the ANC and pledged to vote for a new party',\n",
       " 'Newlines InstituteMore2024: A Year of African Elections',\n",
       " 'IT News AfricaMoreTop 5 Apps for Livestreaming the 2024 SA Elections – IT News Africa | Business Technology, Telecoms and Startup ...',\n",
       " \"The Associated PressMoreSouth Africa's ruling ANC suspends former president Zuma for backing a new party in elections\",\n",
       " 'FIDEMoreChess South Africa elections to be held in November 2023',\n",
       " \"BBC.comMoreFormer South Africa president Jacob Zuma 'won't vote for ANC'\",\n",
       " \"The HinduMoreWhy South Africa is facing a turning point in May's national election\",\n",
       " \"The Africa ReportMoreSouth Africa's all-to-play-for election in 2024\",\n",
       " 'BloombergMoreSouth Africa Election Means More Uncertainty As ANC Falls',\n",
       " 'Wits UniversityMore2024-02 - New poll shows dramatic decline in electoral support of ANC',\n",
       " \"The Conversation IndonesiaMoreEconomic Freedom Fighters became South Africa's third largest political party in just 10 years. What's behind its ...\",\n",
       " 'The Associated PressMoreElection officials in South Africa rush to register 100000 prisoners to vote',\n",
       " 'Al Jazeera EnglishMoreEx-ANC chiefs Zuma and Magashule team up ahead of South Africa’s elections',\n",
       " 'Wilson CenterMoreUpcoming National Elections Complicate Efforts to Reset US-South Africa Relations',\n",
       " 'Ipsos in CanadaMorePossible political party choices in the 2024 election',\n",
       " 'SAPeople NewsMoreSouth African economy narrowly avoids recession ahead of 2024 elections',\n",
       " 'XinhuaMoreSouth Africa sets date for final voter registration for 2024 elections',\n",
       " 'Africanews EnglishMoreSouth Africa: ANC support falls below 50% (poll)',\n",
       " 'Voice of America - VOA NewsMoreZuma Says He Will Not Support ANC in Next Year’s Election',\n",
       " \"ReutersMoreZuma says he will not vote for ANC in South Africa's election\",\n",
       " 'Council on Foreign RelationsMoreTen Elections to Watch in 2024',\n",
       " 'BloombergMoreSouth Africa’s ANC Finds Itself in a Fiscal Hole With Elections Nearing',\n",
       " 'The GuardianMoreJacob Zuma withdraws support for ANC in run-up to 2024 South African election',\n",
       " 'The Associated PressMoreIn a bid to unseat the long-ruling ANC, 7 South African parties reach a coalition agreement',\n",
       " 'DW (English)MoreSouth Africa: Can Ramaphosa secure a 2024 victory?',\n",
       " 'BloombergMoreElections in South Africa, Senegal, Rwanda, Ghana Will Challenge Democracy',\n",
       " \"BloombergMoreSouth Africa's ANC Party Has Strong Chance in 2024 Election Despite Blackouts\",\n",
       " 'The Africa ReportMoreSouth Africa: ANC running out of time to sell economic plan ahead of elections',\n",
       " 'IOLMoreSouth Africa heading for May 29 National and Provincial Elections with highest number of young voters on roll',\n",
       " \"The Africa ReportMoreSouth Africa's 14 million unregistered voters could shake up politics\",\n",
       " \"The Africa ReportMoreSouth Africa's ANC launches election campaign to full stadium\",\n",
       " 'The Conversation IndonesiaMoreSouth Africa has changed its electoral law, but a much more serious overhaul is needed',\n",
       " 'OkayAfricaMoreWhat You Need to Know About the Upcoming Elections in South Africa',\n",
       " \"BloombergMoreSouth Africa's Ruling ANC Sees Support Slip to 45% in Survey\",\n",
       " \"Business Insider AfricaMoreSouth Africa's general election set for May 29\",\n",
       " \"Africanews EnglishMoreInmates register to vote in South Africa's upcoming elections\",\n",
       " 'Africanews EnglishMoreSouth Africa: Ramaphosa launches first campaign rally for 2024 elections',\n",
       " 'BloombergMoreSouth Africa Sought an Election Budget Amid a Debt Crunch',\n",
       " 'DW (English)MoreSouth Africa: Zuma denounces ANC ahead of election',\n",
       " 'Biometric UpdateMoreSouth Africa fixes date for final round of voter registration ahead of 2024 general polls',\n",
       " \"Stratfor WorldviewMorePreviewing Sub-Saharan Africa's 2024 Elections\",\n",
       " 'Tawiah: Technology has Contributed to Overall Development of African Capital Markets',\n",
       " 'South Africa 40 Forecast and Dividend Reminder - Investing.com ZA',\n",
       " \"Rand's Rollercoaster Bounce-back Amidst US Mixed Signals\",\n",
       " 'South African rand slightly weaker ahead of PMI, GDP',\n",
       " 'SA financial markets remain under pressure with fuel prices escalating',\n",
       " 'Offshore investors sell South African stocks, bonds',\n",
       " '5 \"Best\" South Africa Stock Brokers (March 2024)',\n",
       " 'South African rand little changed after local PMI survey',\n",
       " 'SA stocks react to global economic challenges',\n",
       " 'South African rand firms despite mixed data; shares rise',\n",
       " 'Sub-Saharan Africa (ex South Africa) markets US$ returns up 11.9% in Jan. 2024 Top 30',\n",
       " 'South African rand extends slide ahead of data-filled week',\n",
       " 'South African rand extends slide ahead of data-filled week',\n",
       " 'South African rand extends losses in budget aftermath',\n",
       " 'London Stock Exchange-listed Neo Energy Metals lists on A2X',\n",
       " \"South Africa's African Bank cautious ahead of IPO\",\n",
       " 'BofA sees South African stocks undervalued, expects rate cut in Q3 By Investing.com',\n",
       " \"JSE SA Trade Connect 2024: 'South African markets not that dissimilar to European markets'\",\n",
       " 'East Africa economic outlook, February 2024',\n",
       " 'Top 15 unit trusts in South Africa 2024: Investment ideas',\n",
       " 'Offshore investors sell South African stocks, buy bonds',\n",
       " 'The Future of Sustainability-Linked Bonds in South Africa',\n",
       " \"Vivendi's Canal Plus offers to buy rest of South Africa's MultiChoice\",\n",
       " 'Sub-Saharan Africa (ex South Africa) markets US$ returns down 15.8% YTD in Dec. 2023 Top 30',\n",
       " 'How did African stock markets react to the Russia-Ukraine crisis “black-swan” event? Empirical insights from event ...',\n",
       " \"SA markets still 'punch way above their weight,' says JSE's Fourie ahead of WEF | Business\",\n",
       " 'South African stock markets record eight-year foreign exodus | World Business Watch | WION',\n",
       " 'South Africa kisses R990 billion goodbye – BusinessTech',\n",
       " 'JSE vs international markets: Not a pretty picture',\n",
       " 'Top 10 best-performing local companies in Sub-Saharan Africa',\n",
       " 'Sub-Saharan Africa (ex South Africa) markets US$ returns down 12.8% YTD in Nov. 2023 Top 30',\n",
       " 'How to Buy Shares in South Africa - Popular Stockbrokers Reviewed',\n",
       " 'South African rand pares losses after key US inflation report',\n",
       " 'South African rand firmer in thin trade; stocks flat',\n",
       " 'South African investment platform Satrix praises Indian equity market amidst emerging market challenges',\n",
       " 'Big game opportunity for Varun Beverages in South African safari | Mint',\n",
       " 'Varun Beverages share price jumps over 17% to 52-week high on South Africa’s Bevco acquisition | Mint',\n",
       " 'South African 2024 Election Poses Risks for Stocks',\n",
       " 'South African Election Risk Clouds Outlook for Stocks in 2024',\n",
       " 'Offshore investors net sellers of South African stocks',\n",
       " 'South Africa Education Stocks Boom as State Schools Struggle',\n",
       " 'Top 10 largest stock markets in Africa based on market capitalization',\n",
       " 'African stock markets lead global equities returns',\n",
       " 'African stock exchanges urged to improve ESG ratings',\n",
       " 'South African rand falls as third-quarter GDP contracts',\n",
       " 'Best Stock Trading Apps South Africa',\n",
       " 'Investors will have options in 2024',\n",
       " 'Markets ease after rally; South African, Israeli assets in focus',\n",
       " 'Africa: leading companies by market value 2023',\n",
       " 'Johannesburg Stock Exchange Enables Secondary and Fast-Track Listings from Hong Kong',\n",
       " 'Malawi US$ returns up 61.8% YTD in Sep. 2023 Sub-Saharan Africa ex SA Top 30',\n",
       " 'JSE negative for third month in a row in line with global equity markets – Anchor Capital',\n",
       " 'Allan Gray Says South Africa Stocks Are Better Bet Than Bonds',\n",
       " 'African Markets Embrace ESG',\n",
       " 'South Africa: African Development Bank approves ZAR 2.7 billion subordinated financing and $150 million trade ...',\n",
       " 'Top 10 African countries with the most booming financial markets',\n",
       " 'Ghana’s SecondSTAX in talks with BRVM to integrate West African markets',\n",
       " 'Uganda maintains top 5 ranking in Africa capital markets index',\n",
       " 'Equity markets show definite signs of recovery despite Israeli conflict',\n",
       " 'Sub-Saharan African ex South Africa H1 2023 earnings down 17% over H1 2022 (update 2)',\n",
       " 'Editorial: A Pan-African stock market in the offing',\n",
       " 'South African carbon market launched on stock exchange',\n",
       " 'Foreigners flee SA stocks, sending volumes on JSE tumbling',\n",
       " 'Foreigners flee SA stocks, sending volumes on JSE tumbling',\n",
       " 'South African rand gains on weaker US yields; stocks jump',\n",
       " 'African online stock exchange-trading platform launches in Nigeria',\n",
       " 'Why NSE has been ranked the worst performing in Africa',\n",
       " 'South African rand falls to 4-month low ahead of US employment data',\n",
       " 'JSE in the red for 2023 - but a comeback is not ruled out | Business',\n",
       " 'Sub-Saharan Africa (ex South Africa) markets US$ returns down 12.8% YTD in Aug. 2023 Top 30',\n",
       " 'The Stock Exchange of Mauritius seeks to tap Kenyan investors',\n",
       " 'South African rand extends losses for the week',\n",
       " 'African equities lead global stock market returns',\n",
       " '10 Best African Stocks To Invest In',\n",
       " 'South Africa, Zimbabwe secondary exchanges open deeper African markets',\n",
       " 'Investing in Africa: Nigeria Gains Ground',\n",
       " 'Newly launched SanlamAllianz to provide insurance and financial services in 27 African markets',\n",
       " 'Despite e-focus, Brics has no effect on stock markets – The Mail & Guardian',\n",
       " 'Equity markets suffered in August: Rand and higher oil prices pose a serious threat',\n",
       " 'Sub-Saharan Africa (ex South Africa) markets US$ returns up 4.1% in July 2023 Top 30',\n",
       " 'BRICS bank sells rand-denominated bonds for first time',\n",
       " 'BRICS Bank issues South African bonds at the Johannesburg Stock Exchange: Lesley Maasdorp',\n",
       " \"Mastercard to take minority stake in fintech arm of South Africa's MTN\",\n",
       " \"Malawian Companies Lead with US$5.1bn Market Cap in South Central Africa's Top 30 June Report\",\n",
       " 'Sub-Saharan Africa (ex South Africa) markets US$ returns down 17.0% in June 2023 Top 30',\n",
       " \"Why Africa's top stock markets are on a roll\",\n",
       " 'Why volumes on the JSE are vanishing',\n",
       " 'NASDAQ Trading Hours: Opening and Closing Times of the NASDAQ',\n",
       " 'Alternative investments for your portfolio',\n",
       " \"SecondSTAX and ASEA join forces to unify Africa's stock markets\",\n",
       " 'Policymakers urged to fix distorted public market as South African delistings continue',\n",
       " 'Schalk Louw | The JSE is not really South African - what this means for investors | Business',\n",
       " 'Sub-Saharan Africa (ex South Africa) markets US$ returns up 2.1% in May 2023 Top 30',\n",
       " 'Stock investing pros and cons for Africans',\n",
       " 'Sub-Saharan Africa (ex South Africa) markets US$ returns down 2.0% in Apr. 2023 Top 30',\n",
       " \"SA's financial markets in turmoil as rand weakens, JSE shares tumble\",\n",
       " 'Why the JSE is shrinking',\n",
       " \"Dual listed stocks trade at sharp discounts with Seplat Energy at 46% and Airtel at 57%, in Mar. '23 Top 30\",\n",
       " \"East Africa, Mauritius and Seychelles markets US$ returns down 10.5% YTD in Mar. '23\",\n",
       " 'AngloGold Ashanti to move primary listing to New York Stock Exchange',\n",
       " 'Top 5 South Africa Stocks to Watch 2024',\n",
       " \"Southern Africa's Top Companies in 2023\",\n",
       " \"Delta makes return to Sub-Saharan Africa (ex South Africa) Top 30 in Mar. '23 report\",\n",
       " 'Women-led companies outperform African stock exchanges',\n",
       " 'The African Exchanges Linkage Project: A viable solution to boost liquidity levels in African Stock Markets?',\n",
       " 'The real reasons the JSE is shrinking',\n",
       " 'Strong domestic flows help India outperform most EMs in FY23',\n",
       " 'South Africa Is on the Road to Becoming a Failed State',\n",
       " 'South African Stocks Slide in Longest Losing Streak Since 2018',\n",
       " 'South African shares lose R1 trillion in seven days | Business',\n",
       " 'Muted South African Economy Skirts Recession As Vote Looms',\n",
       " 'South Africa heading for May 29 National and Provincial Elections with highest number of young voters on roll',\n",
       " 'Sign languish: Cape Independence Party fails to make 2024 elections ballot with only 200 signatures... and counting',\n",
       " '29 May 2024 declared a public holiday for the general elections.',\n",
       " 'Elections 2024: Political parties in a scramble for 50 000 signatures to get on the ballot',\n",
       " 'Poll | 2024 elections in South Africa: Who gets your vote?',\n",
       " 'The South African election campaign season marks a shift to a volatile new politics',\n",
       " 'South Africa faces decisive 2024 election',\n",
       " 'MK takes votes from ANC, EFF in encouraging Mpumalanga debut',\n",
       " 'DA launches 2024 Election Campaign to Rescue South Africa',\n",
       " 'SA national elections 2024: Dates for overseas voting CONFIRMED',\n",
       " 'Introduction of a third ballot paper is one of the key changes: IEC',\n",
       " '‘Jolt to reality’: Gaza war shakes up South Africa’s election campaign',\n",
       " 'Elections 2024: Multi-Party Charter promises voters that it will take steps to keep on the lights',\n",
       " '‘No one can vote both in South Africa and Zimbabwe’, says Motsoaledi after complaints',\n",
       " '2024 elections: IEC offers special vote to voters with special needs',\n",
       " 'Electoral commission releases timetable for poll – The Mail & Guardian',\n",
       " 'South Africans have until 4 March to lodge objections to voters roll - IEC',\n",
       " '2024 elections',\n",
       " 'IEC statistics: Elderly voters outnumber teenagers in South Africa',\n",
       " \"Public holiday officially declared for voting day – here's what comes next\",\n",
       " 'South Africa election 2024 lookahead - House of Commons Library',\n",
       " \"Why South Africa's seventh general election strengthens the case for citizens' assemblies\",\n",
       " 'Yoh Vote matches voters with ideal political party',\n",
       " \"Why South Africa is facing a turning point in May's national election and who the major players are\",\n",
       " \"South Africa's ANC pitches for votes as majority threatened\",\n",
       " \"2024 Elections | Last day for South Africans to register to vote in May's polls: Mbali Ntuli\",\n",
       " 'SA national elections 2024 | FAQs answered: Is voting day outside the country the same day as in SA?',\n",
       " 'South Africa national elections 2024: Expat FAQs answered – How many eligible voters are there in the UK?',\n",
       " 'End of the line for voter registration',\n",
       " 'Last chance to register to vote | SAnews',\n",
       " 'How to register online to vote for the 2024 elections',\n",
       " 'Elections 2024: Are you registered to vote?',\n",
       " '2024 Elections: LAST day to register to VOTE',\n",
       " 'South Africa national elections 2024: Expat FAQs answered – Do I need my SA ID and passport to vote?',\n",
       " '2024 election: Voter registration deadline looms',\n",
       " 'IEC reminds voters of voter registration deadline',\n",
       " 'Elections tracker 2024: every vote and why it matters',\n",
       " 'South Africa national elections 2024: Expat FAQs answered – How do I register?',\n",
       " 'SA national elections 2024: Everything EXPATS need to know about voting',\n",
       " 'South African Nationals to register to vote abroad for the 2024 Elections – South African Embassy Kinshasa, DRC',\n",
       " 'President Ramaphosa announces 2024 General Elections date',\n",
       " 'South Africa will vote on 29 May 2024',\n",
       " 'South Africa to hold general election on May 29',\n",
       " \"South Africa's ANC party could fall below 50% of the vote — a first since white minority rule's end\",\n",
       " \"South Africa's 14 million unregistered voters could shake up politics\",\n",
       " \"South Africa's Bishops encourage faithful to cast votes in elections\",\n",
       " 'There is no crisis, Ramaphosa will announce election date within 15 days - Presidency',\n",
       " 'South African Poll Shows ANC Losing Majority, Gains for EFF',\n",
       " 'South African Nationals to register to vote abroad for the 2024 Elections – South African Embassy Kinshasa, DRC',\n",
       " 'President Ramaphosa announces 2024 General Elections date',\n",
       " 'Countdown begins to SA’s pivotal 2024 election',\n",
       " 'South Africa will vote on 29 May 2024',\n",
       " 'South Africa to hold general election on May 29',\n",
       " \"South Africa's ANC party could fall below 50% of the vote — a first since white minority rule's end\",\n",
       " \"South Africa's 14 million unregistered voters could shake up politics\",\n",
       " \"South Africa's Bishops encourage faithful to cast votes in elections\",\n",
       " 'ANC faces historic defeat in general election, according to surveys',\n",
       " 'South Africa: Indonesian Seafarers in Cape Town Utilise Their Voting Rights in the 2024 Election',\n",
       " \"Latest poll shows ANC's rocky road to election, with coalition potholes ahead\",\n",
       " '2024 elections | Discussion: Possibility of e-voting in SA',\n",
       " 'Good start to second voter registration weekend',\n",
       " 'Most people unaware of Multi-Party Charter pact, but those in the know are keen, finds largest yet voter sentiment poll',\n",
       " \"Which South African Parties Will Be ANC's Coalition Partner?\",\n",
       " 'A window into how South Africa could be run after the 2024 elections',\n",
       " 'South Africa has over 14 million unregistered voters, mainly youth',\n",
       " 'The biggest electoral year in history: Will democracy survive 2024? | DW News',\n",
       " 'For the first time ever, the DA outperforms the ANC in new registrations',\n",
       " 'South Africans encouraged to register to vote',\n",
       " \"Inmates register to vote in South Africa's upcoming elections\",\n",
       " 'Election officials in South Africa rush to register 100000 prisoners to vote',\n",
       " 'Multi-Party Charter calls on young South Africans to register to vote',\n",
       " 'Why did South Africa’s ruling ANC suspend ex-President Jacob Zuma?',\n",
       " 'South African citizens living abroad urged to register to vote',\n",
       " 'Register this weekend to rescue South Africa',\n",
       " '2024 elections: How to register',\n",
       " \"South Africa's Easy Election Guide: Who To Vote For in 2024? – Nickolaus Bauer\",\n",
       " \"South Africa's Ramaphosa Warns ANC of Foreign Meddling in Vote\",\n",
       " 'IEC to host voter registration this weekend',\n",
       " '2024-02 - New poll shows dramatic decline in electoral support of ANC',\n",
       " \"Latest poll shows ANC's rocky road to election, with coalition potholes ahead\",\n",
       " '2024 elections | Discussion: Possibility of e-voting in SA',\n",
       " 'Good start to second voter registration weekend',\n",
       " 'Most people unaware of Multi-Party Charter pact, but those in the know are keen, finds largest yet voter sentiment poll',\n",
       " \"Which South African Parties Will Be ANC's Coalition Partner?\",\n",
       " 'A window into how South Africa could be run after the 2024 elections',\n",
       " 'South Africa has over 14 million unregistered voters, mainly youth',\n",
       " 'Road to the 2024 National Elections: Reflections of the voter registration weekend',\n",
       " 'The biggest electoral year in history: Will democracy survive 2024? | DW News',\n",
       " 'What can we expect in our 2024 National Election? - The Home Of Great South African News',\n",
       " \"Jane Goodall Says 2024 is the 'Most Consequential Voting Year'\",\n",
       " 'DA not perturbed about possible loss of coloured votes',\n",
       " \"Jan 22, 2024, Book presentation: South Africa's Easy Election Guide: Who To Vote For in 2024?\",\n",
       " 'How to vote in the 2024 elections for South Africans abroad',\n",
       " 'How to vote on Big Brother Mzansi',\n",
       " \"Africa's 2024 Elections: Challenges and Opportunities to Regain Democratic Momentum – Africa Center for Strategic ...\",\n",
       " '2024 elections: With over 350 parties registered with IEC, voters are spoilt for choice',\n",
       " 'The Pivotal Elections of 2024: Key Races That Will Shape the Global Landscape',\n",
       " 'Climate is on the Ballot Around the World',\n",
       " \"South Africa's Ramaphosa Warns ANC of Foreign Meddling in Vote\",\n",
       " \"Advance voting in Finland's presidential elections in South Africa for a second round in 2024\",\n",
       " '2024 elections: How to register',\n",
       " 'South Africa: ANC suspends ex-President Jacob Zuma after rival party launch',\n",
       " 'IEC to host voter registration this weekend',\n",
       " \"Advance voting in Finland's presidential elections in South Africa for a second round in 2024 - Finland abroad: South ...\",\n",
       " 'Calling all South Africans abroad!',\n",
       " 'ICJ judge voted against every approved measure in Israel genocide case',\n",
       " 'How the Electoral Commission of South Africa plans to register inmates for 2024 election',\n",
       " 'DR Congo: A Full Plate of Challenges after a Turbulent Vote',\n",
       " 'IEC to host voter registration this weekend',\n",
       " 'Calling all South Africans abroad!',\n",
       " 'SA citizens in foreign countries urged to register to vote',\n",
       " 'How the Electoral Commission of South Africa plans to register inmates for 2024 election',\n",
       " 'ICJ updates: Court orders Israel to prevent acts of genocide in Gaza',\n",
       " \"Half the Planet Will Vote This Year — If That's You, Here's How You Can Make a Difference.\",\n",
       " 'ICJ judge voted against every approved measure in Israel genocide case',\n",
       " \"A look at ex-SA president Jacob Zuma's bid to unseat ANC he once led\",\n",
       " 'DR Congo: A Full Plate of Challenges after a Turbulent Vote',\n",
       " 'Electoral Commission launches voter registration weekend for SA citizens living abroad',\n",
       " 'Jacob Zuma lays down South Africa election challenge to ANC',\n",
       " 'Democracy’s Super Bowl: 40 elections that will shape global politics in 2024',\n",
       " 'South African ex-President Jacob Zuma has denounced the ANC and pledged to vote for a new party',\n",
       " 'Jacob Zuma withdraws support for ANC in run-up to 2024 South African election',\n",
       " 'I will not vote ANC in 2024 poll, S.Africa ex-president Zuma says',\n",
       " \"Former South Africa president Jacob Zuma 'won't vote for ANC'\",\n",
       " \"Zuma says he will not vote for ANC in South Africa's election\",\n",
       " 'South Africa fixes date for final round of voter registration ahead of 2024 general polls',\n",
       " 'Voting opens for Kora Awards 2024 | Music In Africa',\n",
       " 'Elections of the Human Rights Council President for the 18th cycle in 2024',\n",
       " 'IEC Elections: Balance of forces skewed in favour of parties with deep pockets – analyst',\n",
       " 'Elections 2024: IEC ready to fend off deep fakes',\n",
       " 'Change Starts Later – New Party Withdraws From 2024 South African Elections',\n",
       " \"'IEC timetable will be hard to change', small parties told after complaints | City Press\",\n",
       " 'Government of National Unity rather than coalition government best for SA',\n",
       " \"Change Ends Now – Roger Jardine's new political party won't contest 2024 elections\",\n",
       " 'No more donations limit for parties as Electoral Matters Amendment Bill adopted',\n",
       " 'The South African election campaign season marks a shift to a volatile new politics',\n",
       " 'South Africa faces decisive 2024 election',\n",
       " \"Jacob Zuma's new party is a wild card in the unpredictable South African election\",\n",
       " 'Parties declare R160m funding donations to IEC ahead of elections',\n",
       " \"South Africa's Election Buzz Heats Up Online\",\n",
       " \"Political parties rake in R160 million ahead of the 2024 elections – this is who's funding them\",\n",
       " 'ANC and DA are the big losers and Rise Mzansi the big winner as political party funding game heats up',\n",
       " 'Parties and individual candidates must comply by next week – IEC',\n",
       " 'UDM to launch manifesto in Gauteng ahead of 2024 elections',\n",
       " \"South Africa's upcoming election could change everything – GIS Reports\",\n",
       " 'UDM prepares for comeback at national, provincial elections',\n",
       " 'Beware of Disinformation in the Year of Elections',\n",
       " \"How will South Africa's 2024 elections impact Zimbabwe?\",\n",
       " '2024 elections: ‘Parties must refrain from going too far’ – Mashatile on social media campaigning',\n",
       " '‘Jolt to reality’: Gaza war shakes up South Africa’s election campaign',\n",
       " 'IEC says elections must go on despite complaints over party registration process – The Mail & Guardian',\n",
       " 'READER LETTER | Do rallies reflect party’s popularity?',\n",
       " 'Parties petition IEC over ‘unjust’ elections timetable',\n",
       " 'Independents in focus: A new frontier in South African politics',\n",
       " 'Political parties make tech a key feature in manifestos',\n",
       " \"'Parties given adequate time to comply with signature requirements'\",\n",
       " 'South Africa election 2024 lookahead - House of Commons Library',\n",
       " \"Why South Africa is facing a turning point in May's national election and who the major players are\",\n",
       " \"South Africa's ANC launches election manifesto as president highlights party's achievements\",\n",
       " 'Political parties welcome announcement of election date',\n",
       " \"South Africa's main opposition party lays out plans to unseat the African National Congress\",\n",
       " \"South Africa's Main Opposition Says Election Victory is in Sight\",\n",
       " 'Leader of South African opposition party promises jobs, land ahead of election',\n",
       " \"South Africa's 14 million unregistered voters could shake up politics\",\n",
       " 'ANC faces historic defeat in general election, according to surveys',\n",
       " 'South African president defends 30 years of ANC rule in speech to Parliament ahead of elections',\n",
       " 'South African Poll Shows ANC Losing Majority, Gains for EFF',\n",
       " 'New election poll sees massive shake-up for South Africa: ANC below 40%, DA at risk',\n",
       " 'New Ipsos poll data shows the EFF could unseat DA as official opposition party',\n",
       " 'Support for Political Parties',\n",
       " 'A Blueprint to Rescue South Africa',\n",
       " 'ANC to lose support, top 6 parties dominate, smaller ones get 4% of vote - survey finds',\n",
       " \"SA Election Guide Highlights Political Parties' Stance on LGBTIQA+ Rights\",\n",
       " '2024-02 - New poll shows dramatic decline in electoral support of ANC',\n",
       " \"Latest poll shows ANC's rocky road to election, with coalition potholes ahead\",\n",
       " \"Which South African Parties Will Be ANC's Coalition Partner?\",\n",
       " 'Why did South Africa’s ruling ANC suspend ex-President Jacob Zuma?',\n",
       " \"South Africa's Easy Election Guide: Who To Vote For in 2024? – Nickolaus Bauer\",\n",
       " \"South Africa's Easy Election Guide: Who To Vote For in 2024? – Nickolaus Bauer\",\n",
       " 'Which African countries have elections in 2024?',\n",
       " \"South Africa's ruling ANC suspends former president Zuma for backing a new party in elections\",\n",
       " 'South Africa’s ANC suspends former President Jacob Zuma',\n",
       " 'South Africa Elections Unlikely to Bring Major Change Says Pollster',\n",
       " 'What can we expect in our 2024 National Election? - The Home Of Great South African News',\n",
       " '30 years since 1994 elections: These parties are no longer around',\n",
       " \"Jan 22, 2024, Book presentation: South Africa's Easy Election Guide: Who To Vote For in 2024?\",\n",
       " \"South African 'Rise Mzansi' Party Publishes Election Manifesto\",\n",
       " \"Africa's 2024 Elections: Challenges and Opportunities to Regain Democratic Momentum – Africa Center for Strategic ...\",\n",
       " \"IEC hands out cash to political parties – ANC gets lion's share amid questions about its funding\",\n",
       " '2024 elections: With over 350 parties registered with IEC, voters are spoilt for choice',\n",
       " 'Rise Mzansi to launch Election Manifesto in Tshwane',\n",
       " \"South Africa's ANC marks its 112th year with an eye on national elections, but its record is patchy and future uncertain\",\n",
       " 'Ballot paper gets longer as 30 new parties register with IEC to bring total to 356 | City Press',\n",
       " 'MK party confident it will topple ANC and rule SA after elections',\n",
       " \"South African's government marks 112 years ahead of election\",\n",
       " 'Ex-ANC chiefs Zuma and Magashule team up ahead of South Africa’s elections',\n",
       " \"South Africa's all-to-play-for election in 2024\",\n",
       " 'Frustrated South Africa Wonders if ANC Is Still Worth It',\n",
       " \"South Africa's opposition splinters in battle against ANC\",\n",
       " 'Political parties call for unity ahead of 2024 elections',\n",
       " 'South African ex-President Jacob Zuma has denounced the ANC and pledged to vote for a new party',\n",
       " 'Zuma Says He Will Not Support ANC in Next Year’s Election',\n",
       " 'Jacob Zuma lays down South Africa election challenge to ANC',\n",
       " \"Former South Africa president Jacob Zuma 'won't vote for ANC'\",\n",
       " 'South African ex-President Jacob Zuma has denounced the ANC and pledged to vote for a new party',\n",
       " '2024 Elections | Businessman, Roger Jardine launches political party',\n",
       " \"Businessman And Activist At The Helm of South Africa's New Political Party Reshaping Political Discourse\",\n",
       " \"'We have to fix the balance sheets of SA Inc,' says presidential hopeful Roger Jardine at launch of Change Starts Now\",\n",
       " \"Can the ANC win South Africa's pivotal 2024 election?\",\n",
       " \"Understanding South Africa's coalition landscape – The Mail & Guardian\",\n",
       " 'South Africa: The region where political violence is on the rise ahead of elections',\n",
       " 'What would happen to the ANC, DA and EFF if elections were held tomorrow',\n",
       " 'How the Multi-Party Charter could make history at the 2024 polls',\n",
       " \"South Africa's big game of 'wait-and-see'\",\n",
       " \"Election poster rules – what political parties can and can't do for 2024\",\n",
       " 'WATCH | Makhubele explains why a coalition grouping like SARA is the best way to contest 2024 elections',\n",
       " 'Rise Mzansi to contest 2024 general election with Move SA',\n",
       " 'LISTEN | Rise Mzansi to contest elections with Move SA',\n",
       " 'Dream or mirage: Can South Africa’s white-led opposition win in 2024?',\n",
       " 'South Africa: Opinion polls spell trouble for the ANC',\n",
       " 'South African anti-immigrant group to run in 2024 election – DW – 10/29/2023',\n",
       " 'South Africa: ANC support falls below 50% (poll)',\n",
       " 'Possible political party choices in the 2024 election',\n",
       " 'New poll predicts 45% support for the ANC in 2024 elections – The Mail & Guardian',\n",
       " \"Political parties ready for 'crucial' 2024 elections ahead of voter registration weekend\",\n",
       " 'Election season kicks off but no date yet',\n",
       " '2024 elections: 70 more political parties applied to IEC post 2021',\n",
       " 'Dilemma for 2024: who to vote for other than the ANC, DA or EFF',\n",
       " \"Geopolitical Intelligence Services AGMoreSouth Africa's upcoming election could change everything – GIS Reports\",\n",
       " 'Al Jazeera EnglishMoreDream or mirage: Can South Africa’s white-led opposition win in 2024?',\n",
       " 'Voice of America - VOA NewsMore9 Killed in South Africa Crash After Attending ANC Election Rally',\n",
       " 'BBC.comMoreJacob Zuma lays down South Africa election challenge to ANC',\n",
       " 'BloombergMoreSouth Africa Election Means More Uncertainty As ANC Falls',\n",
       " \"The Associated PressMoreSouth Africa's ruling party marks its 112th anniversary ahead of a tough election year\",\n",
       " \"The Conversation IndonesiaMoreEconomic Freedom Fighters became South Africa's third largest political party in just 10 years. What's behind its ...\",\n",
       " \"Daily MaverickMoreRoad to 2024 Elections: Showdown looms over ANC's poll lists after Chief Justice Zondo enters the fray\",\n",
       " 'The Wall Street JournalMoreOpinion | What Comes After the ANC in South Africa',\n",
       " 'Foreign PolicyMoreFrustrated South Africa Wonders if ANC Is Still Worth It',\n",
       " \"The Africa ReportMoreSouth Africa's all-to-play-for election in 2024\",\n",
       " 'SemaforMoreSouth Africa’s ruling ANC is divided over its response to Zuma',\n",
       " 'Al Jazeera EnglishMoreWhy did South Africa’s ruling ANC suspend ex-President Jacob Zuma?',\n",
       " 'Africanews EnglishMoreSouth Africa: ANC support falls below 50% (poll)',\n",
       " \"Fair ObserverMoreWhy South Africa's Poor Vote for the Now Corrupt ANC\",\n",
       " 'Commons LibraryMoreAfrica in 2024: Democracy and instability',\n",
       " \"The WeekMoreCan the ANC win South Africa's pivotal 2024 election?\",\n",
       " 'Foreign Policy Research InstituteMoreUpcoming National Elections Complicate Efforts to Reset US-South Africa Relations',\n",
       " 'Geopolitical Intelligence Services AGMoreSouthern Africa awaits three pivotal elections – GIS Reports',\n",
       " \"The ConversationMoreSouth Africa's ruling party is performing dismally, but a flawed opposition keeps it in power\",\n",
       " 'DW (English)MoreSouth Africa: Can Ramaphosa secure a 2024 victory?',\n",
       " 'Arise NewsMoreBus Crash kills 9 ANC Supporters After Electoral Rally',\n",
       " 'Africanews EnglishMoreS.Africa opposition set election coalition to oust ANC',\n",
       " 'Daily MaverickMoreDilemma for 2024: who to vote for other than the ANC, DA or EFF',\n",
       " 'The ConversationMoreSouth Africa votes in 2024: could a coalition between major parties ANC and EFF run the country?',\n",
       " 'Democratic AllianceMoreThe DA stands firm. We will not keep the ANC in power',\n",
       " 'SAPeople NewsMoreElections: Will social grants come to an end if ANC loses power?',\n",
       " 'Daily MaverickMoreFive possible scenarios on what result the 2024 election will deliver',\n",
       " \"Daily MaverickMoreLatest poll shows ANC's rocky road to election, with coalition potholes ahead\",\n",
       " 'CBC.caMoreRuling ANC poised for re-election in South Africa, but with reduced power',\n",
       " \"FRANCE 24 EnglishMoreS. Africa's Ramaphosa on track for re-election as ANC leader despite scandal\",\n",
       " 'News24MoreBy-elections: ANC left punch drunk from IFP and EFF defeats in KZN and North West',\n",
       " \"Daily MaverickMoreKZN provincial battlefield presents crucial challenge to ANC's grip on power\",\n",
       " 'Daily MaverickMoreANC in trouble as high court sheriff attempts asset seizure over R102-million election banner debt',\n",
       " 'Pew Research CenterMoreBefore 2019 elections, South Africans divided by race, pessimistic over democracy',\n",
       " \"News24MoreOpposition parties heed the DA's call to dethrone the ruling ANC in 2024 | City Press\",\n",
       " \"BloombergMoreSouth Africa's Democratic Alliance to Consider ANC Coalition After Election\",\n",
       " \"ReutersMoreSouth Africa's Ramaphosa eyes 2024 election with call to revamp ANC\",\n",
       " 'The New York TimesMoreA.N.C. Suffers Worst Election Setback Since End of Apartheid (Published 2021)',\n",
       " 'BusinessTechMoreWhat would happen to the ANC, DA and EFF if elections were held tomorrow',\n",
       " 'The GuardianMoreRamaphosa re-elected as ANC leader following ‘farmgate’ scandal',\n",
       " 'Daily MaverickMoreMulti-Party Charter for South Africa agrees on key power-sharing principles',\n",
       " 'Council on Foreign RelationsMoreANC Power Broker Arrested Prior to Elections in South Africa',\n",
       " \"Mail and GuardianMoreIt would be 'unwise' not to vote for ANC, says Zuma – The Mail & Guardian\",\n",
       " 'BBC.comMoreSouth Africa local elections: ANC loses power in Johannesburg for first time',\n",
       " \"The Washington PostMoreHere are 4 reasons that South Africa's ANC lost ground in this month's elections\",\n",
       " 'BloombergMoreANC Loses Grip on Key South Africa Cities After Election Setback',\n",
       " \"TimesLIVEMore'We fear nothing': Ramaphosa confident ANC will retain power\",\n",
       " 'Al Jazeera EnglishMoreSouth Africa’s ANC wins re-election with reduced majority',\n",
       " 'The CitizenMoreANC will lose power in 2024, says Malema',\n",
       " \"DW (English)MoreSouth Africa's ANC set to retain power\",\n",
       " 'BBC.comMoreSouth Africa election: Does the ANC deserve to stay in power?',\n",
       " \"The GuardianMore'They don't get it': South Africa's scarred ANC faces voter anger\",\n",
       " 'Al Jazeera EnglishMoreSouth Africa elections: What are the main issues?',\n",
       " 'The ConversationMoreFormer South African president predicts the end of the ruling party: history is on his side',\n",
       " 'BBC.comMoreSouth Africa election: ANC wins with reduced majority',\n",
       " 'The GuardianMoreVoters deliver stinging rebuke to ANC in South African election',\n",
       " 'The Washington PostMoreSouth Africa elections: More voters expected to cross racial lines',\n",
       " 'BBC.comMoreSouth Africa elections: Has the ANC built enough homes?',\n",
       " 'BBC.comMoreSouth Africa local elections: ANC loses in capital Pretoria',\n",
       " \"People's WorldMoreNo blank check for ANC after election win in South Africa\",\n",
       " 'The GuardianMoreSouth Africa election: everything you need to know',\n",
       " 'The GuardianMoreSouth Africa elections: ANC could lose key cities as support slips',\n",
       " 'Mail and GuardianMoreDA is preparing for unrest should ANC lose power in 2024 – The Mail & Guardian',\n",
       " \"The ConversationMoreSouth Africa's ANC has remained dominant despite shifts in support base\",\n",
       " 'Peoples DispatchMoreSouth African elections: ANC hangs on to power despite poorest performance since 94',\n",
       " 'The Africa ReportMoreSouth Africa: Shock poll shows ANC heading towards 2024 coalition',\n",
       " \"Voice of America - VOA NewsMoreSouth Africa's Ruling ANC Poised for Another Win\",\n",
       " \"The ConversationMoreElectoral tremors are shaking South Africa's ANC. How will it respond?\",\n",
       " 'POWER 98.7More2024 Elections: Multi-Party Coalition aims to replace ANC - POWER 98.7',\n",
       " 'Al Jazeera EnglishMoreSouth Africa elections: The rural vote',\n",
       " 'News24MoreWhat will happen when the ANC loses power? | City Press',\n",
       " 'The CitizenMoreANC will lose Gauteng in 2024, but it’s a risk to get into bed with EFF',\n",
       " \"Daily MaverickMoreThe ANC will remain in control of South Africa for many years after 2024 – here's why\",\n",
       " \"BizNewsMoreANC could retain a stranglehold on SA's future even if it loses the majority in 2024 elections - Ivo Vegter\",\n",
       " 'IOLMoreANC suffers by-election loss to IFP in Msunduzi',\n",
       " 'Mail and GuardianMoreWhy do people keep voting for the ANC? – The Mail & Guardian',\n",
       " 'TimesLIVEMoreSouth Africa counts votes as ANC looks to retain power',\n",
       " 'BusinessTechMorePoll data reveals ANC could get 50% in next elections',\n",
       " \"Mail and GuardianMoreThe party's over: ANC sees decline in support – The Mail & Guardian\"]"
      ]
     },
     "execution_count": 19,
     "metadata": {},
     "output_type": "execute_result"
    }
   ],
   "source": [
    "RSA_news"
   ]
  },
  {
   "cell_type": "markdown",
   "id": "b00c944c",
   "metadata": {},
   "source": [
    "## Create a pandas data frame"
   ]
  },
  {
   "cell_type": "code",
   "execution_count": 20,
   "id": "9c5b4428",
   "metadata": {},
   "outputs": [],
   "source": [
    "import pandas as pd\n",
    "df_SAnews= pd.DataFrame([text for text in RSA_news], columns = [\"SANews\"])"
   ]
  },
  {
   "cell_type": "code",
   "execution_count": 21,
   "id": "a965c9b3",
   "metadata": {},
   "outputs": [
    {
     "data": {
      "text/html": [
       "<div>\n",
       "<style scoped>\n",
       "    .dataframe tbody tr th:only-of-type {\n",
       "        vertical-align: middle;\n",
       "    }\n",
       "\n",
       "    .dataframe tbody tr th {\n",
       "        vertical-align: top;\n",
       "    }\n",
       "\n",
       "    .dataframe thead th {\n",
       "        text-align: right;\n",
       "    }\n",
       "</style>\n",
       "<table border=\"1\" class=\"dataframe\">\n",
       "  <thead>\n",
       "    <tr style=\"text-align: right;\">\n",
       "      <th></th>\n",
       "      <th>SANews</th>\n",
       "    </tr>\n",
       "  </thead>\n",
       "  <tbody>\n",
       "    <tr>\n",
       "      <th>0</th>\n",
       "      <td>Chatham HouseMoreThe South African election ca...</td>\n",
       "    </tr>\n",
       "    <tr>\n",
       "      <th>1</th>\n",
       "      <td>Al Jazeera EnglishMoreSouth Africa to hold gen...</td>\n",
       "    </tr>\n",
       "    <tr>\n",
       "      <th>2</th>\n",
       "      <td>DW (English)MoreSouth Africa faces decisive 20...</td>\n",
       "    </tr>\n",
       "    <tr>\n",
       "      <th>3</th>\n",
       "      <td>Voice of America - VOA NewsMoreSouth Africa Se...</td>\n",
       "    </tr>\n",
       "    <tr>\n",
       "      <th>4</th>\n",
       "      <td>Geopolitical Intelligence Services AGMoreSouth...</td>\n",
       "    </tr>\n",
       "    <tr>\n",
       "      <th>...</th>\n",
       "      <td>...</td>\n",
       "    </tr>\n",
       "    <tr>\n",
       "      <th>514</th>\n",
       "      <td>IOLMoreANC suffers by-election loss to IFP in ...</td>\n",
       "    </tr>\n",
       "    <tr>\n",
       "      <th>515</th>\n",
       "      <td>Mail and GuardianMoreWhy do people keep voting...</td>\n",
       "    </tr>\n",
       "    <tr>\n",
       "      <th>516</th>\n",
       "      <td>TimesLIVEMoreSouth Africa counts votes as ANC ...</td>\n",
       "    </tr>\n",
       "    <tr>\n",
       "      <th>517</th>\n",
       "      <td>BusinessTechMorePoll data reveals ANC could ge...</td>\n",
       "    </tr>\n",
       "    <tr>\n",
       "      <th>518</th>\n",
       "      <td>Mail and GuardianMoreThe party's over: ANC see...</td>\n",
       "    </tr>\n",
       "  </tbody>\n",
       "</table>\n",
       "<p>519 rows × 1 columns</p>\n",
       "</div>"
      ],
      "text/plain": [
       "                                                SANews\n",
       "0    Chatham HouseMoreThe South African election ca...\n",
       "1    Al Jazeera EnglishMoreSouth Africa to hold gen...\n",
       "2    DW (English)MoreSouth Africa faces decisive 20...\n",
       "3    Voice of America - VOA NewsMoreSouth Africa Se...\n",
       "4    Geopolitical Intelligence Services AGMoreSouth...\n",
       "..                                                 ...\n",
       "514  IOLMoreANC suffers by-election loss to IFP in ...\n",
       "515  Mail and GuardianMoreWhy do people keep voting...\n",
       "516  TimesLIVEMoreSouth Africa counts votes as ANC ...\n",
       "517  BusinessTechMorePoll data reveals ANC could ge...\n",
       "518  Mail and GuardianMoreThe party's over: ANC see...\n",
       "\n",
       "[519 rows x 1 columns]"
      ]
     },
     "execution_count": 21,
     "metadata": {},
     "output_type": "execute_result"
    }
   ],
   "source": [
    "df_SAnews"
   ]
  },
  {
   "cell_type": "markdown",
   "id": "e61ff1c3",
   "metadata": {},
   "source": [
    "## cleaning the textual data"
   ]
  },
  {
   "cell_type": "code",
   "execution_count": 22,
   "id": "2e502205",
   "metadata": {},
   "outputs": [],
   "source": [
    "# Create a function to clean the tweets using library re\n",
    "import re\n",
    "def cleanTweet(doc):\n",
    "    doc = re.sub(\"[\"u\"\\U0001F600-\\U0001F64F\"\"]\",'',doc) \n",
    "    doc = re.sub(\"[\"u\"\\U0001F300-\\U0001F5FF\"\"]\",'',doc) \n",
    "    doc = re.sub(\"[\"u\"\\U0001F680-\\U0001F6FF\"\"]\",'',doc) \n",
    "    doc = re.sub(\"[\"u\"\\U0001F1E0-\\U0001F1FF\"\"]\",'',doc) \n",
    "    doc = re.sub('@[A-Za-z0–9_]+','',doc) \n",
    "    doc = re.sub('RT[\\s]+','',doc)        \n",
    "    doc = re.sub('#','',doc)              \n",
    "    doc = re.sub('https?:\\/\\/\\S+','',doc) \n",
    "    doc = re.sub('&amp;','and',doc)       \n",
    "    doc = re.sub(' +',' ',doc)            \n",
    "    doc = re.sub(\"[\\(\\[].*?[\\)\\]]\",\"\",doc)  \n",
    "    doc = re.sub(\"\\n\",\" \", doc)             \n",
    "    doc = re.sub(\"^[^A-Za-z0–9]+\",\"\",doc)    \n",
    "    doc = doc.strip()                       \n",
    "    doc = doc.lower()                       \n",
    "    return doc\n"
   ]
  },
  {
   "cell_type": "code",
   "execution_count": 23,
   "id": "fc838e6b",
   "metadata": {},
   "outputs": [],
   "source": [
    "# Clean the tweets\n",
    "df_SAnews['SANews'] = df_SAnews['SANews'].apply(cleanTweet)"
   ]
  },
  {
   "cell_type": "code",
   "execution_count": 24,
   "id": "5ebe6244",
   "metadata": {},
   "outputs": [
    {
     "data": {
      "text/html": [
       "<div>\n",
       "<style scoped>\n",
       "    .dataframe tbody tr th:only-of-type {\n",
       "        vertical-align: middle;\n",
       "    }\n",
       "\n",
       "    .dataframe tbody tr th {\n",
       "        vertical-align: top;\n",
       "    }\n",
       "\n",
       "    .dataframe thead th {\n",
       "        text-align: right;\n",
       "    }\n",
       "</style>\n",
       "<table border=\"1\" class=\"dataframe\">\n",
       "  <thead>\n",
       "    <tr style=\"text-align: right;\">\n",
       "      <th></th>\n",
       "      <th>SANews</th>\n",
       "    </tr>\n",
       "  </thead>\n",
       "  <tbody>\n",
       "    <tr>\n",
       "      <th>0</th>\n",
       "      <td>chatham housemorethe south african election ca...</td>\n",
       "    </tr>\n",
       "    <tr>\n",
       "      <th>1</th>\n",
       "      <td>al jazeera englishmoresouth africa to hold gen...</td>\n",
       "    </tr>\n",
       "    <tr>\n",
       "      <th>2</th>\n",
       "      <td>dw moresouth africa faces decisive 2024 election</td>\n",
       "    </tr>\n",
       "    <tr>\n",
       "      <th>3</th>\n",
       "      <td>voice of america - voa newsmoresouth africa se...</td>\n",
       "    </tr>\n",
       "    <tr>\n",
       "      <th>4</th>\n",
       "      <td>geopolitical intelligence services agmoresouth...</td>\n",
       "    </tr>\n",
       "    <tr>\n",
       "      <th>...</th>\n",
       "      <td>...</td>\n",
       "    </tr>\n",
       "    <tr>\n",
       "      <th>514</th>\n",
       "      <td>iolmoreanc suffers by-election loss to ifp in ...</td>\n",
       "    </tr>\n",
       "    <tr>\n",
       "      <th>515</th>\n",
       "      <td>mail and guardianmorewhy do people keep voting...</td>\n",
       "    </tr>\n",
       "    <tr>\n",
       "      <th>516</th>\n",
       "      <td>timeslivemoresouth africa counts votes as anc ...</td>\n",
       "    </tr>\n",
       "    <tr>\n",
       "      <th>517</th>\n",
       "      <td>businesstechmorepoll data reveals anc could ge...</td>\n",
       "    </tr>\n",
       "    <tr>\n",
       "      <th>518</th>\n",
       "      <td>mail and guardianmorethe party's over: anc see...</td>\n",
       "    </tr>\n",
       "  </tbody>\n",
       "</table>\n",
       "<p>519 rows × 1 columns</p>\n",
       "</div>"
      ],
      "text/plain": [
       "                                                SANews\n",
       "0    chatham housemorethe south african election ca...\n",
       "1    al jazeera englishmoresouth africa to hold gen...\n",
       "2     dw moresouth africa faces decisive 2024 election\n",
       "3    voice of america - voa newsmoresouth africa se...\n",
       "4    geopolitical intelligence services agmoresouth...\n",
       "..                                                 ...\n",
       "514  iolmoreanc suffers by-election loss to ifp in ...\n",
       "515  mail and guardianmorewhy do people keep voting...\n",
       "516  timeslivemoresouth africa counts votes as anc ...\n",
       "517  businesstechmorepoll data reveals anc could ge...\n",
       "518  mail and guardianmorethe party's over: anc see...\n",
       "\n",
       "[519 rows x 1 columns]"
      ]
     },
     "execution_count": 24,
     "metadata": {},
     "output_type": "execute_result"
    }
   ],
   "source": [
    "df_SAnews"
   ]
  },
  {
   "cell_type": "markdown",
   "id": "49a08611",
   "metadata": {},
   "source": [
    "## <font color=violet> Saving to CSV file, can be used later, who knows"
   ]
  },
  {
   "cell_type": "code",
   "execution_count": null,
   "id": "81ca9e71",
   "metadata": {},
   "outputs": [],
   "source": [
    "df_SAnews.to_csv('df_SAnews.csv',sep='\\t')  ## saving in the same directory with the this code"
   ]
  },
  {
   "cell_type": "markdown",
   "id": "689f8d7e",
   "metadata": {},
   "source": [
    "##  <font color=red> Saving it on my computer \n",
    "### <font color=violet>  ** To import it back into Python, just remove the \"##\" from the 3 lines below:"
   ]
  },
  {
   "cell_type": "code",
   "execution_count": null,
   "id": "83cd40b9",
   "metadata": {},
   "outputs": [],
   "source": [
    "df_SAnews.to_csv('C:/Users/User/OneDrive/Desktop/DATAforML/textualData/df_SAnews.csv') ## saving it on my computer"
   ]
  },
  {
   "cell_type": "code",
   "execution_count": null,
   "id": "bb47b003",
   "metadata": {},
   "outputs": [],
   "source": [
    "##import pandas as pd\n",
    "##df_SAnews = pd.read_csv('C:/Users/User/OneDrive/Desktop/DATAforML/textualData/df_SAnews.csv', sep='\\t') ## importing it back to Python\n",
    "##df_SAnews.columns=['SANews']\n",
    "##df_SAnews.head()"
   ]
  },
  {
   "cell_type": "markdown",
   "id": "c2295ce5",
   "metadata": {},
   "source": [
    "## <font color=blue/pink> Text Vectorization: we need this vectorization in order to run a K-Means model to generate labels"
   ]
  },
  {
   "cell_type": "code",
   "execution_count": 29,
   "id": "5e61aed7",
   "metadata": {},
   "outputs": [],
   "source": [
    "from sklearn.feature_extraction.text import TfidfVectorizer\n",
    "tfidf_vectorizer = TfidfVectorizer(max_df=0.90, min_df=2, max_features=1000, stop_words='english')\n",
    "# TF-IDF feature matrix\n",
    "tfidf = tfidf_vectorizer.fit_transform(df_SAnews['SANews'])"
   ]
  },
  {
   "cell_type": "code",
   "execution_count": 30,
   "id": "05f406f0",
   "metadata": {},
   "outputs": [
    {
     "data": {
      "text/html": [
       "<div>\n",
       "<style scoped>\n",
       "    .dataframe tbody tr th:only-of-type {\n",
       "        vertical-align: middle;\n",
       "    }\n",
       "\n",
       "    .dataframe tbody tr th {\n",
       "        vertical-align: top;\n",
       "    }\n",
       "\n",
       "    .dataframe thead th {\n",
       "        text-align: right;\n",
       "    }\n",
       "</style>\n",
       "<table border=\"1\" class=\"dataframe\">\n",
       "  <thead>\n",
       "    <tr style=\"text-align: right;\">\n",
       "      <th></th>\n",
       "      <th>0</th>\n",
       "      <th>1</th>\n",
       "      <th>2</th>\n",
       "      <th>3</th>\n",
       "      <th>4</th>\n",
       "      <th>5</th>\n",
       "      <th>6</th>\n",
       "      <th>7</th>\n",
       "      <th>8</th>\n",
       "      <th>9</th>\n",
       "      <th>...</th>\n",
       "      <th>458</th>\n",
       "      <th>459</th>\n",
       "      <th>460</th>\n",
       "      <th>461</th>\n",
       "      <th>462</th>\n",
       "      <th>463</th>\n",
       "      <th>464</th>\n",
       "      <th>465</th>\n",
       "      <th>466</th>\n",
       "      <th>467</th>\n",
       "    </tr>\n",
       "  </thead>\n",
       "  <tbody>\n",
       "    <tr>\n",
       "      <th>510</th>\n",
       "      <td>0.0</td>\n",
       "      <td>0.0</td>\n",
       "      <td>0.0</td>\n",
       "      <td>0.0</td>\n",
       "      <td>0.0</td>\n",
       "      <td>0.0</td>\n",
       "      <td>0.0</td>\n",
       "      <td>0.0</td>\n",
       "      <td>0.0</td>\n",
       "      <td>0.0</td>\n",
       "      <td>...</td>\n",
       "      <td>0.0</td>\n",
       "      <td>0.0</td>\n",
       "      <td>0.0</td>\n",
       "      <td>0.0</td>\n",
       "      <td>0.0</td>\n",
       "      <td>0.0</td>\n",
       "      <td>0.0</td>\n",
       "      <td>0.0</td>\n",
       "      <td>0.0</td>\n",
       "      <td>0.0</td>\n",
       "    </tr>\n",
       "    <tr>\n",
       "      <th>511</th>\n",
       "      <td>0.0</td>\n",
       "      <td>0.0</td>\n",
       "      <td>0.0</td>\n",
       "      <td>0.0</td>\n",
       "      <td>0.0</td>\n",
       "      <td>0.0</td>\n",
       "      <td>0.0</td>\n",
       "      <td>0.0</td>\n",
       "      <td>0.0</td>\n",
       "      <td>0.0</td>\n",
       "      <td>...</td>\n",
       "      <td>0.0</td>\n",
       "      <td>0.0</td>\n",
       "      <td>0.0</td>\n",
       "      <td>0.0</td>\n",
       "      <td>0.0</td>\n",
       "      <td>0.0</td>\n",
       "      <td>0.0</td>\n",
       "      <td>0.0</td>\n",
       "      <td>0.0</td>\n",
       "      <td>0.0</td>\n",
       "    </tr>\n",
       "    <tr>\n",
       "      <th>512</th>\n",
       "      <td>0.0</td>\n",
       "      <td>0.0</td>\n",
       "      <td>0.0</td>\n",
       "      <td>0.0</td>\n",
       "      <td>0.0</td>\n",
       "      <td>0.0</td>\n",
       "      <td>0.0</td>\n",
       "      <td>0.0</td>\n",
       "      <td>0.0</td>\n",
       "      <td>0.0</td>\n",
       "      <td>...</td>\n",
       "      <td>0.0</td>\n",
       "      <td>0.0</td>\n",
       "      <td>0.0</td>\n",
       "      <td>0.0</td>\n",
       "      <td>0.0</td>\n",
       "      <td>0.0</td>\n",
       "      <td>0.0</td>\n",
       "      <td>0.0</td>\n",
       "      <td>0.0</td>\n",
       "      <td>0.0</td>\n",
       "    </tr>\n",
       "    <tr>\n",
       "      <th>513</th>\n",
       "      <td>0.0</td>\n",
       "      <td>0.0</td>\n",
       "      <td>0.0</td>\n",
       "      <td>0.0</td>\n",
       "      <td>0.0</td>\n",
       "      <td>0.0</td>\n",
       "      <td>0.0</td>\n",
       "      <td>0.0</td>\n",
       "      <td>0.0</td>\n",
       "      <td>0.0</td>\n",
       "      <td>...</td>\n",
       "      <td>0.0</td>\n",
       "      <td>0.0</td>\n",
       "      <td>0.0</td>\n",
       "      <td>0.0</td>\n",
       "      <td>0.0</td>\n",
       "      <td>0.0</td>\n",
       "      <td>0.0</td>\n",
       "      <td>0.0</td>\n",
       "      <td>0.0</td>\n",
       "      <td>0.0</td>\n",
       "    </tr>\n",
       "    <tr>\n",
       "      <th>514</th>\n",
       "      <td>0.0</td>\n",
       "      <td>0.0</td>\n",
       "      <td>0.0</td>\n",
       "      <td>0.0</td>\n",
       "      <td>0.0</td>\n",
       "      <td>0.0</td>\n",
       "      <td>0.0</td>\n",
       "      <td>0.0</td>\n",
       "      <td>0.0</td>\n",
       "      <td>0.0</td>\n",
       "      <td>...</td>\n",
       "      <td>0.0</td>\n",
       "      <td>0.0</td>\n",
       "      <td>0.0</td>\n",
       "      <td>0.0</td>\n",
       "      <td>0.0</td>\n",
       "      <td>0.0</td>\n",
       "      <td>0.0</td>\n",
       "      <td>0.0</td>\n",
       "      <td>0.0</td>\n",
       "      <td>0.0</td>\n",
       "    </tr>\n",
       "  </tbody>\n",
       "</table>\n",
       "<p>5 rows × 468 columns</p>\n",
       "</div>"
      ],
      "text/plain": [
       "     0    1    2    3    4    5    6    7    8    9    ...  458  459  460  \\\n",
       "510  0.0  0.0  0.0  0.0  0.0  0.0  0.0  0.0  0.0  0.0  ...  0.0  0.0  0.0   \n",
       "511  0.0  0.0  0.0  0.0  0.0  0.0  0.0  0.0  0.0  0.0  ...  0.0  0.0  0.0   \n",
       "512  0.0  0.0  0.0  0.0  0.0  0.0  0.0  0.0  0.0  0.0  ...  0.0  0.0  0.0   \n",
       "513  0.0  0.0  0.0  0.0  0.0  0.0  0.0  0.0  0.0  0.0  ...  0.0  0.0  0.0   \n",
       "514  0.0  0.0  0.0  0.0  0.0  0.0  0.0  0.0  0.0  0.0  ...  0.0  0.0  0.0   \n",
       "\n",
       "     461  462  463  464  465  466  467  \n",
       "510  0.0  0.0  0.0  0.0  0.0  0.0  0.0  \n",
       "511  0.0  0.0  0.0  0.0  0.0  0.0  0.0  \n",
       "512  0.0  0.0  0.0  0.0  0.0  0.0  0.0  \n",
       "513  0.0  0.0  0.0  0.0  0.0  0.0  0.0  \n",
       "514  0.0  0.0  0.0  0.0  0.0  0.0  0.0  \n",
       "\n",
       "[5 rows x 468 columns]"
      ]
     },
     "execution_count": 30,
     "metadata": {},
     "output_type": "execute_result"
    }
   ],
   "source": [
    "import scipy.sparse  ### to convert sparse matrix into panda dataframe\n",
    "unsparsed_tfidf=pd.DataFrame.sparse.from_spmatrix(tfidf)\n",
    "unsparsed_tfidf.tail()"
   ]
  },
  {
   "cell_type": "markdown",
   "id": "811c3746",
   "metadata": {},
   "source": [
    "## <font color=blue> Creating label (dependent variable) using K-means algorithm"
   ]
  },
  {
   "cell_type": "code",
   "execution_count": 31,
   "id": "baf5a3aa",
   "metadata": {},
   "outputs": [
    {
     "name": "stderr",
     "output_type": "stream",
     "text": [
      "C:\\Users\\User\\anaconda3\\lib\\site-packages\\sklearn\\cluster\\_kmeans.py:870: FutureWarning: The default value of `n_init` will change from 10 to 'auto' in 1.4. Set the value of `n_init` explicitly to suppress the warning\n",
      "  warnings.warn(\n"
     ]
    },
    {
     "data": {
      "text/html": [
       "<div>\n",
       "<style scoped>\n",
       "    .dataframe tbody tr th:only-of-type {\n",
       "        vertical-align: middle;\n",
       "    }\n",
       "\n",
       "    .dataframe tbody tr th {\n",
       "        vertical-align: top;\n",
       "    }\n",
       "\n",
       "    .dataframe thead th {\n",
       "        text-align: right;\n",
       "    }\n",
       "</style>\n",
       "<table border=\"1\" class=\"dataframe\">\n",
       "  <thead>\n",
       "    <tr style=\"text-align: right;\">\n",
       "      <th></th>\n",
       "      <th>SANews</th>\n",
       "      <th>topic</th>\n",
       "    </tr>\n",
       "  </thead>\n",
       "  <tbody>\n",
       "    <tr>\n",
       "      <th>0</th>\n",
       "      <td>eskom chief warns south africans to prepare fo...</td>\n",
       "      <td>0</td>\n",
       "    </tr>\n",
       "    <tr>\n",
       "      <th>1</th>\n",
       "      <td>south africa's eskom warns of longer power cut...</td>\n",
       "      <td>0</td>\n",
       "    </tr>\n",
       "    <tr>\n",
       "      <th>2</th>\n",
       "      <td>eskom warns south africa faces record power cu...</td>\n",
       "      <td>0</td>\n",
       "    </tr>\n",
       "    <tr>\n",
       "      <th>3</th>\n",
       "      <td>masondo in new york: south africa doesn’t favo...</td>\n",
       "      <td>0</td>\n",
       "    </tr>\n",
       "    <tr>\n",
       "      <th>4</th>\n",
       "      <td>how the u.s. and south africa ended up in a di...</td>\n",
       "      <td>0</td>\n",
       "    </tr>\n",
       "    <tr>\n",
       "      <th>...</th>\n",
       "      <td>...</td>\n",
       "      <td>...</td>\n",
       "    </tr>\n",
       "    <tr>\n",
       "      <th>510</th>\n",
       "      <td>south african banks face asset quality risks f...</td>\n",
       "      <td>1</td>\n",
       "    </tr>\n",
       "    <tr>\n",
       "      <th>511</th>\n",
       "      <td>financial relief for now as fuel prices dip, c...</td>\n",
       "      <td>0</td>\n",
       "    </tr>\n",
       "    <tr>\n",
       "      <th>512</th>\n",
       "      <td>we should be worried': finance leaders warn ri...</td>\n",
       "      <td>0</td>\n",
       "    </tr>\n",
       "    <tr>\n",
       "      <th>513</th>\n",
       "      <td>reserve bank says more interest rate hikes are...</td>\n",
       "      <td>0</td>\n",
       "    </tr>\n",
       "    <tr>\n",
       "      <th>514</th>\n",
       "      <td>how the us interest rate hike affects sa</td>\n",
       "      <td>0</td>\n",
       "    </tr>\n",
       "  </tbody>\n",
       "</table>\n",
       "<p>515 rows × 2 columns</p>\n",
       "</div>"
      ],
      "text/plain": [
       "                                                SANews  topic\n",
       "0    eskom chief warns south africans to prepare fo...      0\n",
       "1    south africa's eskom warns of longer power cut...      0\n",
       "2    eskom warns south africa faces record power cu...      0\n",
       "3    masondo in new york: south africa doesn’t favo...      0\n",
       "4    how the u.s. and south africa ended up in a di...      0\n",
       "..                                                 ...    ...\n",
       "510  south african banks face asset quality risks f...      1\n",
       "511  financial relief for now as fuel prices dip, c...      0\n",
       "512  we should be worried': finance leaders warn ri...      0\n",
       "513  reserve bank says more interest rate hikes are...      0\n",
       "514           how the us interest rate hike affects sa      0\n",
       "\n",
       "[515 rows x 2 columns]"
      ]
     },
     "execution_count": 31,
     "metadata": {},
     "output_type": "execute_result"
    }
   ],
   "source": [
    "from sklearn.cluster import KMeans\n",
    "## K= 2 clusters: ASSUMING 2 CLASSES\n",
    "km1=KMeans(n_clusters=2)\n",
    "## Fitting the input data\n",
    "km1.fit(tfidf)\n",
    "#predicting the labels of the input data\n",
    "y=km1.predict(tfidf)\n",
    "#adding the labels to a column named label\n",
    "df_SAnews[\"topic\"] = y\n",
    "#The new dataframe with the clustering done\n",
    "df_SAnews"
   ]
  },
  {
   "cell_type": "code",
   "execution_count": 32,
   "id": "e47bc5ec",
   "metadata": {},
   "outputs": [
    {
     "data": {
      "text/plain": [
       "array([0, 0, 0, 0, 0, 0, 0, 0, 0, 0, 0, 0, 0, 0, 0, 0, 0, 0, 0, 0, 0, 0,\n",
       "       0, 0, 0, 0, 0, 0, 0, 0, 0, 0, 0, 0, 0, 0, 0, 0, 0, 0, 0, 0, 0, 0,\n",
       "       0, 0, 0, 0, 0, 0, 0, 0, 0, 0, 0, 0, 0, 0, 0, 1, 0, 0, 1, 0, 0, 0,\n",
       "       0, 0, 0, 1, 1, 0, 0, 0, 1, 1, 0, 0, 1, 1, 1, 1, 0, 0, 0, 0, 0, 0,\n",
       "       0, 0, 0, 0, 1, 0, 0, 0, 0, 0, 0, 0, 1, 1, 0, 1, 1, 0, 1, 1, 0, 0,\n",
       "       0, 1, 0, 0, 1, 1, 0, 0, 0, 1, 1, 0, 1, 0, 1, 0, 1, 1, 0, 1, 1, 1,\n",
       "       1, 1, 1, 1, 1, 1, 1, 0, 0, 0, 0, 1, 1, 1, 1, 0, 0, 1, 0, 0, 1, 0,\n",
       "       1, 1, 0, 0, 1, 0, 0, 0, 0, 1, 0, 1, 0, 0, 0, 1, 0, 0, 0, 0, 0, 1,\n",
       "       1, 0, 0, 0, 1, 0, 0, 0, 0, 0, 0, 0, 0, 0, 0, 0, 1, 0, 0, 0, 0, 1,\n",
       "       0, 1, 0, 1, 0, 1, 0, 0, 0, 0, 0, 0, 0, 1, 0, 0, 0, 0, 0, 0, 0, 0,\n",
       "       1, 0, 0, 1, 0, 0, 0, 0, 1, 0, 0, 1, 0, 1, 0, 0, 0, 0, 1, 0, 1, 1,\n",
       "       0, 0, 0, 1, 0, 0, 1, 0, 0, 0, 0, 0, 1, 0, 0, 1, 0, 0, 0, 0, 0, 0,\n",
       "       1, 0, 0, 0, 0, 0, 0, 0, 0, 0, 0, 1, 0, 0, 0, 1, 0, 0, 0, 0, 0, 0,\n",
       "       0, 0, 0, 0, 0, 0, 0, 0, 0, 0, 0, 0, 0, 0, 0, 1, 1, 0, 0, 0, 0, 0,\n",
       "       0, 0, 0, 0, 0, 0, 0, 0, 0, 1, 0, 0, 0, 0, 0, 0, 0, 0, 0, 0, 0, 0,\n",
       "       0, 0, 0, 0, 0, 0, 0, 1, 1, 1, 0, 0, 0, 0, 0, 0, 1, 0, 0, 0, 0, 0,\n",
       "       1, 0, 0, 0, 0, 0, 0, 0, 0, 0, 0, 0, 0, 1, 0, 0, 0, 0, 0, 0, 0, 0,\n",
       "       0, 0, 0, 0, 0, 0, 0, 1, 1, 0, 1, 0, 0, 0, 1, 0, 0, 0, 0, 0, 0, 1,\n",
       "       0, 0, 0, 1, 0, 0, 1, 1, 0, 0, 0, 0, 0, 0, 1, 1, 0, 0, 0, 0, 0, 0,\n",
       "       0, 0, 0, 1, 0, 1, 0, 0, 0, 0, 1, 0, 0, 0, 0, 0, 0, 0, 0, 0, 0, 0,\n",
       "       0, 0, 0, 0, 0, 0, 0, 1, 0, 0, 0, 0, 0, 0, 0, 0, 0, 0, 0, 1, 0, 0,\n",
       "       0, 0, 0, 0, 0, 0, 0, 1, 0, 0, 0, 0, 0, 0, 1, 0, 0, 0, 0, 0, 1, 0,\n",
       "       0, 0, 0, 0, 0, 0, 0, 0, 0, 0, 0, 0, 0, 0, 0, 0, 0, 0, 0, 0, 0, 0,\n",
       "       1, 0, 0, 1, 1, 0, 0, 0, 0])"
      ]
     },
     "execution_count": 32,
     "metadata": {},
     "output_type": "execute_result"
    }
   ],
   "source": [
    "df_SAnews['topic'].values ## two values \"1 and 0\" representing topic 1 and topic 2 respectively"
   ]
  },
  {
   "cell_type": "code",
   "execution_count": 33,
   "id": "d0a6b63e",
   "metadata": {},
   "outputs": [
    {
     "data": {
      "text/plain": [
       "0    413\n",
       "1    102\n",
       "Name: topic, dtype: int64"
      ]
     },
     "execution_count": 33,
     "metadata": {},
     "output_type": "execute_result"
    }
   ],
   "source": [
    "df_SAnews['topic'].value_counts() ## a balanced dataset"
   ]
  },
  {
   "cell_type": "markdown",
   "id": "1ee865d1",
   "metadata": {},
   "source": [
    "# splitting text for analysis"
   ]
  },
  {
   "cell_type": "code",
   "execution_count": 34,
   "id": "46a16ead",
   "metadata": {},
   "outputs": [],
   "source": [
    "from sklearn.model_selection import train_test_split\n",
    "\n",
    "# Use train_test_split to split training data into training and validation sets\n",
    "train_sentences, test_sentences, train_labels, test_labels = train_test_split(df_SAnews[\"SANews\"].to_numpy(),\n",
    "                                                                            df_SAnews[\"topic\"].to_numpy(),\n",
    "                                                                            test_size=0.2, # dedicate 20% of samples to validation set\n",
    "                                                                            random_state=42) # random state for reproducibility"
   ]
  },
  {
   "cell_type": "code",
   "execution_count": 35,
   "id": "41c06830",
   "metadata": {},
   "outputs": [
    {
     "data": {
      "text/plain": [
       "array([\"as uk 'falls in love' with investec, in sa it won't reach goal of doubling clients by 2026 | business\",\n",
       "       'russia crisis: business slams govt reaction, while eu sanctions are feared',\n",
       "       \"zambia us$ returns up 11.7% ytd in dec. '22 south central top 30 report\",\n",
       "       'easy ways to invest in africa',\n",
       "       'mounting pressures threaten south africa inflation slowdown',\n",
       "       'sa stock market to shrink, as firms grapple with costs',\n",
       "       'water crises in south africa could create investment opportunities -',\n",
       "       'top 10 african countries with the most millionaires',\n",
       "       'how to buy shares in south africa - popular stockbrokers reviewed',\n",
       "       \"sa's economic growth forecast slashed, thanks to load shedding\",\n",
       "       'eustace davie: sa’s economy would be far healthier with a light touch',\n",
       "       \"treasury's masondo delivers hopeful speech in new york\",\n",
       "       'retail activity muted as march sales figures reflect energy woes ...',\n",
       "       \"south africa's economy at risk of stagnation, says imf\",\n",
       "       'fast-fashion giant shein faces south africa probe over import ...',\n",
       "       'personal finance | when the cure kills - will higher interest rates do more harm than good?',\n",
       "       'south african rand falls after pmi shows business decline',\n",
       "       'managing your home loan as interest rates spike',\n",
       "       'south africa minister denies extensive anc corruption at power ...',\n",
       "       'johannesburg stock exchange changes listing rules to attract more firms',\n",
       "       'stocks, rand in bear market territory over fears of rate hike, power crisis',\n",
       "       'why south africa is drifting into the sino-russian orbit',\n",
       "       'one of the biggest malls in south africa is up for sale',\n",
       "       \"s.africa's nedbank sees signs of consumer strain with impairments up\",\n",
       "       'ethiopia and kenya to become sub-sahara’s 3rd and 4th largest economies after nigeria and south africa - imf',\n",
       "       'accountant, tax consultant convicted of r16m in sars fraud',\n",
       "       'investing in property: the good, bad and the ugly',\n",
       "       'bad news for interest rates in south africa',\n",
       "       'reserve bank says more interest rate hikes are coming',\n",
       "       'south african financial markets outperform in spite of higher interest rate expectations',\n",
       "       'latest crypto news: voyager digital announces 35% payout ...',\n",
       "       'emerging markets hit by record streak of withdrawals by foreign investors',\n",
       "       'changes for e-visas in south africa',\n",
       "       'reasons to invest in south africa',\n",
       "       \"marxist theory meets south africa's economic struggles\",\n",
       "       \"words on wealth: how portfolio managers see south africa's ...\",\n",
       "       'offshore investment options for south africans',\n",
       "       'south african rand slips against stronger dollar; stocks down',\n",
       "       'glimmer of hope for south africa – but it may be short-lived',\n",
       "       'load shedding delivers a r90 million blow to one south africa’s biggest retailers',\n",
       "       \"zimbabwe ytd us$ returns up 43.4% in mar. '23 south central africa top 30 report\",\n",
       "       'the africa investment imperative: diversification and resilience amid economic downturns',\n",
       "       \"how south africa got the bulk share of netflix's investment in africa.\",\n",
       "       \"sponsored content: alarm bells are ringing as south africa's business community continues to shrink in the face of ...\",\n",
       "       'smart city planned for ntshongweni, west of durban',\n",
       "       'south africa economy could benefit from brics enlargement',\n",
       "       'huge court victory for amazon’s new south africa headquarters',\n",
       "       'big shift for petrol in south africa – with new state-owned company',\n",
       "       'africans can now buy shares on other african stock exchanges as african exchanges linkage project goes live on ...',\n",
       "       \"south africa's energy crisis deepens as blackouts hit 12 hours a day\",\n",
       "       'bonds, loans & esg capital markets africa 2023 | gfc media group',\n",
       "       'reserve bank sharpens its tools for interest rates in south africa',\n",
       "       'south africans take law into their own hands to drive out foreigners',\n",
       "       'the difference between emerging and frontier markets',\n",
       "       'rate hikes and poor economy leave south africa’s commercial property in a rut',\n",
       "       'treasury tries to put a spin on south africa’s woes',\n",
       "       'south africa is a top pick for choosy emerging-market investors',\n",
       "       'africa’s emerging economies to take the lead in consumer market growth',\n",
       "       'recession looms for battered sa',\n",
       "       \"south africa's flirtation with moscow risks billions of dollars in us ...\",\n",
       "       \"delta makes return to sub-saharan africa  top 30 in mar. '23 report delta makes return to sub ...\",\n",
       "       'big step for new official language in south africa',\n",
       "       'exchange-traded products continued to find favour among jse investors last year',\n",
       "       'new hate speech laws face pushback in south africa',\n",
       "       \"why more interest rate increases don't help in sa\",\n",
       "       'world bank jobs platform supports job creation and economic transformation in southern africa',\n",
       "       'masondo in new york: south africa doesn’t favour russia',\n",
       "       'jse stocks investors have eyes on right now',\n",
       "       'south african rand weakens after cabinet reshuffle',\n",
       "       \"financial crime watchdog adds south africa to 'grey list'\",\n",
       "       'south africa must ensure that capital can be raised at small end of the stock exchange',\n",
       "       'nexus between agriculture, mining for economic and social development in sa',\n",
       "       'self-inflicted pain makes sa rand a sore thumb – the mail & guardian',\n",
       "       'red flags for south africa’s new rooftop solar tax break',\n",
       "       'the elephant in the room: bringing sustainable investment to africa',\n",
       "       'south african universities need to rethink how they invest their millions',\n",
       "       'trouble for landlords in south africa',\n",
       "       'important things happening in south africa today',\n",
       "       'jse rallies to another record buoyed by risk-on investor sentiment',\n",
       "       \"egypt's cenbank raises interest rates by 200 bps to tame inflation\",\n",
       "       '0 popular stock brokers in south africa may 2023',\n",
       "       'the backbone of south africa needs an upgrade – and fast',\n",
       "       'rand weakens, stocks take a knock after south africa is put on grey listing',\n",
       "       \"interest rate hike places pressure on sa's most credit stressed\",\n",
       "       'best foreign & international stocks of 2023',\n",
       "       'south african rand gains before fed rate decision',\n",
       "       'investors in south africa turn to emerging trends to make money',\n",
       "       \"south african rand weakens ahead of president ramaphosa's speech\",\n",
       "       'catch 22 for south african reserve bank policymakers',\n",
       "       'sa reserve bank says upwards cycle started in may 2020',\n",
       "       'south african shares lose r1 trillion in seven days',\n",
       "       'south africa gdp shrinks 1.3% after power cuts strangle economy',\n",
       "       'south africa has been grey listed; what are the implications for the country going forward?',\n",
       "       'daily investor – reach south african investing and finance professionals',\n",
       "       'analysis: waking south africa’s economy up requires the government and businesses to work together',\n",
       "       'hold on tight to your home, interest rates are going up again',\n",
       "       'explainer: what a weak rand means for interest rates – the mail ...',\n",
       "       'johannesburg stock exchange opens financial literacy programme for students',\n",
       "       'gdp shock as sa economy shrinks 1.3%',\n",
       "       \"ceo of south africa's state-owned power company eskom allegedly poisoned\",\n",
       "       'storm clouds gather for south africa',\n",
       "       'biggest stock exchanges in south africa',\n",
       "       'south african catastrophes, power woes signal end of cheap ...',\n",
       "       'expect another interest rate hike in may: economists',\n",
       "       \"shoprite's profit, dividend curbed by south african power crisis\",\n",
       "       'best investments to watch in 2023',\n",
       "       'stellantis and the south african authorities sign framework ...',\n",
       "       \"south africa's equites posts 4.1% rise in distribution per share\",\n",
       "       'south african rand gains before fed rate decision',\n",
       "       'south african shares, rand pummeled as banking crisis spreads',\n",
       "       'south african clean energy innovators to pitch to city of london ...',\n",
       "       'south african stocks fall as bank jitters hit global markets',\n",
       "       'no reprieve for consumers with another rate hike predicted for later ...',\n",
       "       '0 best african stocks to buy now',\n",
       "       \"south africa's energy crisis poses 'existential threat' to its economy\",\n",
       "       'south african rand regains some ground against the dollar',\n",
       "       'ceteris paribus: risk, return: zse outshines other african stock markets',\n",
       "       'the top 5 african stocks you should consider investing in for 2023',\n",
       "       'south african rand falls on panel findings against president',\n",
       "       'investing in the african future',\n",
       "       'cloete murray: south african corruption investigator shot dead',\n",
       "       'dodging bullets while investing in africa',\n",
       "       'private infrastructure investment in south africa: opportunities and risks',\n",
       "       'homeowners, start celebrating the end of rising interest rates',\n",
       "       'women-led companies outperform african stock exchanges',\n",
       "       'ranked: who are the richest people in africa?',\n",
       "       'how much more you’re paying on your bond since the rate hike cycle started',\n",
       "       'africa investment forum market days 2022 : the countdown has started!',\n",
       "       'power cuts are hurting small businesses in south africa - but sharing resources and equipment might be a solution',\n",
       "       'south african business activity shrinks solidly in january',\n",
       "       \"what is the business case for south africa? join news24's top panel to discuss the way ahead\",\n",
       "       'fintech in africa: the end of the beginning',\n",
       "       'can homeowners expect a break from rising interest rates?',\n",
       "       \"south africa's central bank to raise repo rate one last time in 2023 ...\",\n",
       "       'imminent fatf grey listing of south africa',\n",
       "       'investing locally in south africa vs offshore',\n",
       "       'vocational training 101 : what is it, how does it work & will it work for ...',\n",
       "       'best stocks to watch in 2023',\n",
       "       'premier foods to list on johannesburg stock exchange',\n",
       "       'anc’s mismanagement leads south africa’s economy to a dismal 1.3% decline',\n",
       "       'can we survive more interest rate hikes?',\n",
       "       'how to invest in china',\n",
       "       'sa families urged to avoid bad debt this long weekend as interest ...',\n",
       "       'south african military deployed to prevent planned national shutdown',\n",
       "       'south africa set to end tightening cycle in q1 with 50 bps more',\n",
       "       'south african stocks fall after fed signals pause, rand slips',\n",
       "       'south africa announces overhaul of its work visa system as part of a $110 bn plan',\n",
       "       \"the devastating impact of power cuts on south africa's economy\",\n",
       "       \"local business group tries to keep south africa's coal plants alive\",\n",
       "       'mtn ceo says crisis-hit south africa risks becoming failed state',\n",
       "       'imf pares south africa economic growth forecast, urges reforms',\n",
       "       'south african business activity contracts in march',\n",
       "       'the top 5 african stocks you should consider investing in for 2023',\n",
       "       'markets on monday: financial markets under severe pressure due to downgrading and us jobs',\n",
       "       \"business resiliency the reasons south africa's economy is persevering – jammine\",\n",
       "       'video: 2 crocodiles steal dinner from 3 cheetahs in africa',\n",
       "       'russia, load shedding hit demand for sa bonds',\n",
       "       \"sub-saharan africa's  stock markets us$ returns increased by 2.9% in nov. top 30 report\",\n",
       "       'why there is good reason to be positive on south africa',\n",
       "       'south african stocks slide in longest losing streak since 2018',\n",
       "       \"marxist theory meets south africa's economic struggles\",\n",
       "       'sa banking stocks feel the heat but largely escape global financial contagion',\n",
       "       'the coastal property markets in south africa you should be investing in',\n",
       "       'in the market for a new home? interest rates will rise even further in ...',\n",
       "       'south africa inflation rises for second straight month in march',\n",
       "       'south african rand falls after pmi shows business decline',\n",
       "       'some good news for south africa’s economy – but there’s a big catch',\n",
       "       'south african rand, stocks muted after sharp fall',\n",
       "       \"fleeing foreign investors worsen south africa's deficit problem\",\n",
       "       'top 5 economies in sub-saharan africa to watch out for in 2023, according to imf',\n",
       "       '9 businesses join 4-day workweek pilot in south africa',\n",
       "       'many businesses to close today due to national shutdown',\n",
       "       'south african rand recovers after surprise inflation data',\n",
       "       'the growth of alternative investment strategies for hedge funds',\n",
       "       'sa stocks wipe out 2022 losses after china boost',\n",
       "       \"after 2022's rough ride, will emerging markets rebound in 2023?\",\n",
       "       'south african rand strengthens after fed rate decision',\n",
       "       'reasons to invest in south africa',\n",
       "       'ways tourism businesses can attract more local travellers: south africa',\n",
       "       'the coastal property markets in south africa you should be investing in',\n",
       "       \"sa economy could have grown by 7% in 2022' if not for curse of loadshedding\",\n",
       "       'south africa looks to structural reforms as it loses its last investment-grade credit rating',\n",
       "       'how does the jse compare to other global stock listings?',\n",
       "       \"interested in investing in africa? here's how\",\n",
       "       'why it’s a good time for south african investors to address concentration risk',\n",
       "       'a glimmer of hope for africa in a tough global economy',\n",
       "       'egypt, morocco, ghana, and south africa rank among the top emerging markets for foreign investment',\n",
       "       'south african rand bolstered by u.s. inflation data; stocks end lower',\n",
       "       'economists expect sarb to raise interest rates again',\n",
       "       'expect more rate hikes in 2023: expert',\n",
       "       'sa’s average pay fell than one-tenth in one year, index shows',\n",
       "       'south african leader grapples with ever-worsening power cuts',\n",
       "       'is south africa edging out turkey as the big em short?',\n",
       "       'eff national shutdown will tilt the south african economy towards recession',\n",
       "       'winning in african agriculture',\n",
       "       'invest in south africa: what you need to know about the best emerging market',\n",
       "       'gdp shock for south africa as load shedding crushes the economy',\n",
       "       'loadshedding is hurting small business in south africa -',\n",
       "       'best trading platform south africa 2023',\n",
       "       'sa financial markets remain bullish, but load shedding takes its toll',\n",
       "       'more jobs on the line due to load shedding - ramokgopa',\n",
       "       'loadshedding is hurting small business in south africa -',\n",
       "       'south african business confidence falls further in march - sacci',\n",
       "       'global central banks extend rate hike push in november',\n",
       "       'south africa is in trouble',\n",
       "       'transportation platform, bolt, is set to invest $530 million on the african market',\n",
       "       'all fuel prices expected to drop next month',\n",
       "       'south africa interest rate raised by 75 basis points to 7%',\n",
       "       \"financial crime watchdog adds south africa, nigeria to 'grey list'\",\n",
       "       'south african stocks fall as banking worries spread',\n",
       "       'investing in the african future',\n",
       "       'africa investment forum 2022 draws $31 billion in investor interest',\n",
       "       'emerging market investors: don’t miss the africa opportunity',\n",
       "       'south african rand little changed after budget, trade data',\n",
       "       'south african rand slips as markets await u.s. economic data',\n",
       "       \"south africa's day zero is coming\",\n",
       "       'investors balk at energy-intensive projects in south africa',\n",
       "       'top 5 economies in sub-saharan africa to watch out for in 2023, according to imf',\n",
       "       \"south africa's q1 consumer confidence plunges as power crisis weighs\",\n",
       "       'the african exchanges linkage project: a viable solution to boost liquidity levels in african stock markets?',\n",
       "       'is local still lekker for investing in south africa?',\n",
       "       'south african central bank to adjust interest-rate modeling tool',\n",
       "       'south african rand falls against stronger dollar ahead of us cpi',\n",
       "       'south african economy slumps in q4 as power crisis escalates',\n",
       "       'opinion: a letter from south africa: what the world can learn from its economic decline',\n",
       "       'south african rand slips as local market awaits rate decision',\n",
       "       'eskom eases load shedding – here’s the updated schedule',\n",
       "       \"capitec is the most complained-about bank: here's what people are moaning about\",\n",
       "       'traders start betting on south african rates stabilizing in 2023',\n",
       "       'south africa gdp shrinks 1.3% after power cuts strangle economy',\n",
       "       'us trade and investment in africa',\n",
       "       'south africa needs to move beyond the anc',\n",
       "       'top performing shares in south africa this year',\n",
       "       'market expectations for 2023 vs 2022',\n",
       "       'rand report:the roast of the south african economy, hosted by eskom',\n",
       "       \"financial crime watchdog adds south africa, nigeria to 'grey list'\",\n",
       "       'south africa’s latest load shedding ‘unicorn’ is not the answer: expert',\n",
       "       'new limited edition bakkie launched in south africa – with pricing',\n",
       "       'the rising cost of owning a car in south africa – and how much it has changed',\n",
       "       'jse stocks investors have eyes on right now',\n",
       "       'things are bad in sa, but fund managers are still choosing local',\n",
       "       'south african rand falls after pmi shows business decline',\n",
       "       'food prices rocket on weak rand, high inflation, interest rates',\n",
       "       'why there is good reason to be positive on south africa',\n",
       "       'why is hellmann’s mayonnaise discontinued in south africa? know everything here',\n",
       "       'warning over interest rates in south africa',\n",
       "       'one thing looking up for south african investors',\n",
       "       \"sa's economy contracts 1.3%, adding to bleak growth outlook – the mail & guardian\",\n",
       "       'business confidence in civil construction increases in q1 2023: south africa',\n",
       "       \"da's request approved for urgent debate in parliament on greylisting of south africa\",\n",
       "       \"west africa's dec. '22 top 30 companies report highlights strong earnings and stock market returns\",\n",
       "       'over 400 businesses have been liquidated in south africa this year so far',\n",
       "       'old vs new cars: these pre-owned hot hatches cost more than new ...',\n",
       "       'most valuable south african companies in the world',\n",
       "       'greylisting could shut south africa out of certain financial markets',\n",
       "       'china in africa: the role of trade, investments, and loans amidst shifting geopolitical ambitions',\n",
       "       'business stymied by national shutdown',\n",
       "       'investing in the african future',\n",
       "       'week ahead - debt ceiling drama, turkish rate decision pre ...',\n",
       "       'how the u.s. and south africa ended up in a dispute over russian gunrunning allegations',\n",
       "       'south africa has got talent… but foreign investment will help us attract film markets',\n",
       "       's.africa to call it a wrap on current hikes with last 25 bps on march 30',\n",
       "       'south african shares edge back up ahead of s&p sovereign rating review',\n",
       "       'why we love living in south africa',\n",
       "       'sa celebrates freedom day under dark cloud of interest rate hikes',\n",
       "       '0 reasons to invest in south africa',\n",
       "       'trends and opportunities for emerging market investment',\n",
       "       'local shares and bonds are looking attractive',\n",
       "       'is south africa taking a financial risk by conducting naval exercises with russia?',\n",
       "       'investing 101: basics to build your wealth in south africa',\n",
       "       'south africa investor risk grows after us ambassador russia remarks',\n",
       "       'in south africa, ‘load shedding’ takes a toll on small businesses',\n",
       "       'durban to host top investment forum',\n",
       "       'ramaphosa talks up progress on corruption reforms in south africa',\n",
       "       'uk investment giant sees big opportunities in south africa',\n",
       "       'sa economy, trade relations hang in the balance',\n",
       "       'sa financial stability at risk with high debt, energy crisis - sarb',\n",
       "       'south africa inflation rises for second month, driven by food prices',\n",
       "       'business 101: four ways to keep your small business afloat in ...',\n",
       "       'zimbabwe upends the global carbon credits market',\n",
       "       'investors may be reluctant to invest in sa',\n",
       "       'top 10 biggest companies in south africa',\n",
       "       'gdp shock as sa economy shrinks 1.3%',\n",
       "       \"africa's booming sports business creates new investor ecosystem\",\n",
       "       'rand weakens, stocks take a knock after south africa is put on grey listing',\n",
       "       'the high interest rates are exposing the market to vulnerabilities',\n",
       "       'south african shares shrug banking crisis, rand slips',\n",
       "       'south african leader grapples with ever-worsening power cuts',\n",
       "       'shares of south african food producer premier surge 11% on debut',\n",
       "       'the real reasons the jse is shrinking',\n",
       "       'interest rates, poverty and the burden of debt – the mail & guardian',\n",
       "       'ramaphosa abandoned by key support base over south africa ...',\n",
       "       'anc sinks to new low as race quotas ban ‘coloured population group’ from employment in certain provinces',\n",
       "       'interest rate hike: sa homeowners will crumble under financial ...',\n",
       "       \"russia, south africa and a 'redesigned global order': the kremlin's hearts and minds machine is steaming ahead\",\n",
       "       'esg integration in europe, the middle east, and africa: markets, practices and data',\n",
       "       'how much money you need to be in south africa’s richest 1%',\n",
       "       'markets on monday: us fed minutes and greylisting horrible for rand and equities',\n",
       "       'warning for middle-class south africa',\n",
       "       'sa economy shrinks by 1.3% in largest contraction since 2021 july riots, loadshedding played contributing role ...',\n",
       "       'homeowners must prepare for interest rate hike',\n",
       "       \"sa economy could have grown by 7% in 2022' if not for curse of loadshedding\",\n",
       "       \"rand extends slump as south africa's row with us puts trade ties at risk\",\n",
       "       'south african  market analysis & valuation - updated today',\n",
       "       'african b2b e-commerce startup sabi tops $300m valuation in new funding',\n",
       "       'interest rates likely to return toward pre-pandemic levels when ...',\n",
       "       'how to grow the south african economy',\n",
       "       'monthly markets review - february 2023',\n",
       "       'best stock picks from fund managers in south africa',\n",
       "       'sa  is a hot mess. expert views on where to invest your money | business',\n",
       "       'sustainability in south africa the swing from sri to esg',\n",
       "       'interest rate hike adds to financial pressures on sa consumers',\n",
       "       'top performing shares in south africa this year',\n",
       "       'rising interest rates, stronger us dollar hit world economy',\n",
       "       'interest rates in south africa nearing the peak: experts',\n",
       "       \"interested in investing in africa? here's how\",\n",
       "       'watch: the perilous state of sa’s economy',\n",
       "       'south africa’s retirement investments are losing value: momentum',\n",
       "       'african bank plans to list on johannesburg stock exchange by 2025',\n",
       "       'markets on monday: us fed minutes and greylisting horrible for rand and equities',\n",
       "       'sars is stepping in to keep food prices lower in south africa',\n",
       "       'how to buy shares in south africa - popular stockbrokers reviewed',\n",
       "       'blackouts may cost south africa $51 million a day, central bank says',\n",
       "       'johannesburg stock exchange hits all-time high, rand firms',\n",
       "       \"is south africa a gateway for china's investment in africa?\",\n",
       "       'africa investment forum 2022: medical and vaccines transactions expected to draw healthy investor interest during ...',\n",
       "       \"south africa's currency eyes record low after us accuses the country of secretly selling weapons to russia\",\n",
       "       \"board member's abandoned farm business soaked up r4.6m in ...\",\n",
       "       'ranked: who are the richest people in africa?',\n",
       "       \"south africa's eskom warns of longer power cuts this winter\",\n",
       "       'important things happening in south africa today',\n",
       "       'word bank warns about continuing interest rate hikes in south africa',\n",
       "       'new visas and e-visa countries for south africa',\n",
       "       'south africa crisis is weakening a basic rule of monetary policy',\n",
       "       'anglo american chief sounds alarm on south african infrastructure',\n",
       "       'premier group plans to list on the jse',\n",
       "       'alleged company hijacker hafiz saddiq takes aim at top cop',\n",
       "       'dawie roodt on sa arms-to-russia impact - higher interest rates ...',\n",
       "       'top 10 friendly countries to invest in africa',\n",
       "       'warning over interest rates in south africa',\n",
       "       \"sa's economic growth in first quarter looks likely to fall into technical recession\",\n",
       "       \"bitcoin is poised to blow up africa's $86 billion banking system\",\n",
       "       'cassava technologies pledges r4.5 billion in investment into the south african economy',\n",
       "       \"interest rates: do you even realise how much more you're paying on ...\",\n",
       "       'investigation into takealot, ubereats and google in south africa hit with another delay',\n",
       "       'sa economy probably in recession, banking index indicates',\n",
       "       'creating a sustainable positive impact in south african communities begins with investing in innovative, globally relevant tech solutions',\n",
       "       'south african investors are going off-script in 2023',\n",
       "       'these are all the new bee targets for businesses in south africa',\n",
       "       'sap invests $500 million to go after enterprise market in africa',\n",
       "       \"why is south africa's navy joining exercises with russia and china?\",\n",
       "       \"is bee holding back south africa's growth?\",\n",
       "       'stock picks from top sa market watchers and money managers',\n",
       "       'eskom loadshedding: johannesburg stock exchange says it has a power plan',\n",
       "       'jobs bloodbath in south africa',\n",
       "       'more pain for homeowners as interest rate hike on the cards',\n",
       "       'south african mining sector lifts local stocks, rand firms',\n",
       "       'the best investment to make with your money in south africa: property vs stocks vs fixed interest',\n",
       "       'rising interest rates: how do they impact your money and ...',\n",
       "       'sa aims to provide 9 900 hotspots in 16 districts across the country',\n",
       "       'best investments to watch in 2023',\n",
       "       'checkers bringing ‘overpriced’ r400 prime energy drink to south africans for r40',\n",
       "       'fear the worst for sa economy if national shutdown goes ahead',\n",
       "       'load shedding is wreaking havoc on household appliances in south africa',\n",
       "       'south african reserve bank hikes rates by 75 basis points to 6.25%',\n",
       "       'understanding the johannesburg stock exchange top 40',\n",
       "       'inflation eases, but interest rate expected to edge up',\n",
       "       'economic, stocks and markets forecast for 2023',\n",
       "       \"we should be worried': finance leaders warn rising interest rates are squeezing low-income countries\",\n",
       "       'south africa’s central bank raises benchmark rate to 7.25%',\n",
       "       'hot stocks 2023: the year of investing dangerously',\n",
       "       'are african stock exchanges fit for purpose?',\n",
       "       'eskom crisis: what does south africa’s state of disaster mean?',\n",
       "       \"sa's cost-of-living crisis: how we got here, and what's next\",\n",
       "       'glimmer of hope for south africa – but it may be short-lived',\n",
       "       'amid economic hardships, investors see opportunity in south africa',\n",
       "       'should retail investors back emerging markets?',\n",
       "       'best investments to watch in 2023',\n",
       "       'xiaomi launches redmi note 12 series in south africa',\n",
       "       'the best investment to make with your money in south africa: property vs stocks vs fixed interest',\n",
       "       'south african rate hike exceeds all expectations; rand surges',\n",
       "       '',\n",
       "       \"gaia lists south africa's first specialist fibre optic real estate investment trust\",\n",
       "       \"there is a 'false impression' that sa has adopted an anti-us stance, says ntshavheni\",\n",
       "       'johannesburg stock exchange hits all-time high, rand firms',\n",
       "       \"load shedding driving sa's economy to the brink\",\n",
       "       'how to invest in emerging markets',\n",
       "       \"south africa's blackouts hurt the economy in unexpected ways\",\n",
       "       \"watch | sa doesn't need to follow the fed on interest rate moves: kganyago\",\n",
       "       'employment equity amendment act: da heads to court, says it categorises citizens along racial lines',\n",
       "       'african countries and their investment appeal',\n",
       "       'sap invests $500 million to go after enterprise market in africa',\n",
       "       'south african shares slip as u.s banking crisis continue to weigh',\n",
       "       'south african stocks, rand fall after u.s. jobs data',\n",
       "       'solid financial results poise johannesburg stock exchange  for future growth',\n",
       "       'imf cuts south africa growth forecast, urges reform of energy-starved economy',\n",
       "       'good news for 4-day work week in south africa',\n",
       "       \"re-pursue exploration to help re-build south africa's economy, says business booster\",\n",
       "       'treasury designates members of isis cell in south africa',\n",
       "       'outrage as mtn mulls hike in calls, data rates',\n",
       "       'why south africa needs more small businesses - business partners limited',\n",
       "       'sa households turn to banks to save at expense of investment industry | business',\n",
       "       'steps you can take to manage a hike in interest rates',\n",
       "       \"jse : copper 360 limited, africa's newest copper producer, lists on the jse\",\n",
       "       'how the us interest rate hike affects sa',\n",
       "       'big boost for renewables in south africa',\n",
       "       'sa equity and bond markets begin the year on the front foot.',\n",
       "       \"everything is being stripped and stolen': south africa's run-down city ...\",\n",
       "       \"south african rand hit by 'perfect storm' as sell-off escalates\",\n",
       "       'how to invest in your 20s and 30s in south africa',\n",
       "       'south africa unemployment rate rose for first time in over a year',\n",
       "       'anglogold ashanti to move primary listing to new york stock exchange'],\n",
       "      dtype=object)"
      ]
     },
     "execution_count": 35,
     "metadata": {},
     "output_type": "execute_result"
    }
   ],
   "source": [
    "train_sentences"
   ]
  },
  {
   "cell_type": "code",
   "execution_count": 36,
   "id": "e297d3d0",
   "metadata": {},
   "outputs": [
    {
     "data": {
      "text/plain": [
       "array(['the difference between emerging and frontier markets',\n",
       "       'interest rates are on the rise - what impact will this have on you?',\n",
       "       'the effect of high interest rates on your debt vs savings',\n",
       "       'currency muted with investors unmoved by cabinet prospects',\n",
       "       'south africa feb inflation higher than forecast as power cuts bite',\n",
       "       'south african rand slips on slowdown fears; shares jump',\n",
       "       \"south africa's premier group intends to list on johannesburg exchange\",\n",
       "       'south african banks face asset quality risks from load shedding',\n",
       "       'electricity supply issues continue to weigh heavily on sa economy: economists',\n",
       "       'the africa investment imperative: diversification and resilience amid economic downturns',\n",
       "       \"higher-than-expected rate hike improves south africa's attractiveness for investors\",\n",
       "       'state of small businesses in south africa shows how important they are to the country',\n",
       "       'at a glance: esg and investing in south africa',\n",
       "       \"south africa's economy at a pivotal point as outlook improves but political, energy risks remain\",\n",
       "       'south africa railway locomotives and rolling stock manufacturing ...',\n",
       "       'small businesses are resilient, despite economic adversity',\n",
       "       \"as brics chair, south africa vows to 'advance african interests'\",\n",
       "       'real housewives and kwv: experts warn of boycott risk, brand ...',\n",
       "       \"sub-saharan africa's  stock markets us$ returns increased by 4.5% in dec. top 30 report\",\n",
       "       'markets brace for a tough start to 2023',\n",
       "       \"amazon's south africa e-commerce debut welcomed by market leader\",\n",
       "       \"south africa's stock market adjusts listing rules to lure more companies\",\n",
       "       'investing in a unit trust in south africa – what you should know',\n",
       "       'best stock pickers in south africa',\n",
       "       'metal prices drive south african stocks higher; rand rises',\n",
       "       'africa investment forum 2022: medical and vaccines transactions expected to draw healthy investor interest during ...',\n",
       "       'cop27: why south africa will struggle to wean itself off coal',\n",
       "       'south african economy contracts 1.3% in fourth quarter as load shedding continues to hurt sectors',\n",
       "       'south africa investment conference latest news updates: ramaphosa woos business',\n",
       "       \"waking south africa's economy up requires the government and businesses to work together\",\n",
       "       'equinix to enter south africa with us$160m data center investment in johannesburg',\n",
       "       \"africa's top 250 companies in 2023: doing business in tough times\",\n",
       "       'premier foods to list on johannesburg stock exchange',\n",
       "       'r256 million set aside to get south africa off the grey list',\n",
       "       \"south africa: fallout over power utility ceo's graft claims\",\n",
       "       'storm clouds gather for south africa',\n",
       "       'the knock-on effect of inflation and interest rates in...',\n",
       "       'things are bad in sa, but fund managers are still choosing local',\n",
       "       'imminent fatf grey listing of south africa',\n",
       "       'despite a late upturn, 2022 was not kind to investors',\n",
       "       'south african business activity shrinks solidly in january',\n",
       "       \"south africa's power cuts hit vineyards: no power, no pinot\",\n",
       "       'south african rand firms with strong chinese data, higher pmi',\n",
       "       \"pick n pay to pay for 17,000 customers' shopping baskets\",\n",
       "       \"south africa's blackouts hurt the economy in unexpected ways\",\n",
       "       'investing and conducting business in south africa',\n",
       "       'corrupt, failing eskom is a picture of south africa in miniature',\n",
       "       'south africa interest rate forecast for next 5 years',\n",
       "       'which african countries are at risk from the current market turmoil?',\n",
       "       'south africa set to hike interest rates even as inflation slows',\n",
       "       \"scandal at south africa's eskom: the ceo and the cyanide-laced ...\",\n",
       "       'south african stocks finance experts have eyes on right now',\n",
       "       'interest rate hike: this is how much more you could pay on your ...',\n",
       "       \"i wouldn't leave south africa, i have a kid here'\",\n",
       "       'salaries are taking a beating in south africa',\n",
       "       'south african business confidence falls further in march - sacci',\n",
       "       'eskom warns south africa faces record power cuts this winter',\n",
       "       'ford to invest $1 billion to upgrade south africa operations',\n",
       "       'behind south africa’s ‘zero percent’ economy',\n",
       "       'south african rand firms on dollar pullback',\n",
       "       'africa investment forum 2022 draws $31 billion in investor interest',\n",
       "       \"us fed to announce interest rates this week - here's how sa could be affected\",\n",
       "       'fsca cancels the stock exchange license of zar x',\n",
       "       \"south africa's economy at risk of stagnation, says imf\",\n",
       "       'things will turn around for south africa: capitec ceo',\n",
       "       'south africa may face new wave of recession due to winter power outages - reports',\n",
       "       'update: no critical deadline for buildings in south africa in 2023',\n",
       "       \"south africa's investec property fund posts 2.8% income fall\",\n",
       "       \"it's an attractive time to invest in sa. but you can't be emotional, says top fund manager\",\n",
       "       'eskom chief warns south africans to prepare for worst-ever blackouts',\n",
       "       'lesaka announces the repurchase of common shares',\n",
       "       \"africa's reliance on china is only likely to get worse\",\n",
       "       'saa: revamping continental trade, tourism through nigerian ties',\n",
       "       's.african rand sets record low, volatility seen ahead',\n",
       "       'insights - investing in south africa',\n",
       "       'south african rand dips after unemployment data, turbulent market',\n",
       "       'south african business activity shrinks solidly in january',\n",
       "       'investors snap up local currency bonds as dollar debt loses allure',\n",
       "       'live news updates from may 11: bank of england raises interest ...',\n",
       "       'south africa’s rotten retail sales',\n",
       "       'navigating african stock markets: an in-depth analysis',\n",
       "       'the top 5 african stocks you should consider investing in for 2023',\n",
       "       'south african financial markets outperform in spite of higher interest ...',\n",
       "       'south african rand firms after central bank rate surprise',\n",
       "       'bad news for salaries and benefits in south africa',\n",
       "       'south africa interest rate raised to 5.5%, biggest hike in two ...',\n",
       "       'reserve bank launches new banknotes and coins for south africa',\n",
       "       'imf warns south africa economy risks stagnation',\n",
       "       'making the case for alternative investments',\n",
       "       'role of entrepreneurship in south africa : what are the key takeaways?',\n",
       "       'mahindra named fastest-growing brand in south africa johannesburg',\n",
       "       'interest rates to rise again soon... how to take control of ...',\n",
       "       '0 best african stocks to buy now',\n",
       "       'sa banks caught in a bad place at a bad time',\n",
       "       'more gloom for stocks on back of ramped-up load shedding',\n",
       "       'offshore investors net sellers of south african stocks, buy bonds',\n",
       "       'south african businesses turn to diesel and solar panels as eskom ...',\n",
       "       'equinix to enter south africa with us$160m data center investment in johannesburg',\n",
       "       'sona and budget 2023: what government can do for sa',\n",
       "       'stocks, rand still under pressure as investors fear higher us rates, sa power woes',\n",
       "       'is there still value in south african equities?',\n",
       "       'monday markets: rand under pressure: politics? load ...',\n",
       "       'financial relief for now as fuel prices dip, consumers should brace ...'],\n",
       "      dtype=object)"
      ]
     },
     "execution_count": 36,
     "metadata": {},
     "output_type": "execute_result"
    }
   ],
   "source": [
    "test_sentences"
   ]
  },
  {
   "cell_type": "code",
   "execution_count": 37,
   "id": "263b5523",
   "metadata": {},
   "outputs": [
    {
     "data": {
      "text/plain": [
       "(412, 412, 103, 103)"
      ]
     },
     "execution_count": 37,
     "metadata": {},
     "output_type": "execute_result"
    }
   ],
   "source": [
    "# Check the lengths\n",
    "len(train_sentences), len(train_labels), len(test_sentences), len(test_labels)"
   ]
  },
  {
   "cell_type": "code",
   "execution_count": 38,
   "id": "674853fe",
   "metadata": {},
   "outputs": [
    {
     "data": {
      "text/plain": [
       "(array([\"as uk 'falls in love' with investec, in sa it won't reach goal of doubling clients by 2026 | business\",\n",
       "        'russia crisis: business slams govt reaction, while eu sanctions are feared',\n",
       "        \"zambia us$ returns up 11.7% ytd in dec. '22 south central top 30 report\",\n",
       "        'easy ways to invest in africa',\n",
       "        'mounting pressures threaten south africa inflation slowdown',\n",
       "        'sa stock market to shrink, as firms grapple with costs',\n",
       "        'water crises in south africa could create investment opportunities -',\n",
       "        'top 10 african countries with the most millionaires',\n",
       "        'how to buy shares in south africa - popular stockbrokers reviewed',\n",
       "        \"sa's economic growth forecast slashed, thanks to load shedding\"],\n",
       "       dtype=object),\n",
       " array([0, 0, 0, 0, 0, 0, 0, 1, 0, 0]))"
      ]
     },
     "execution_count": 38,
     "metadata": {},
     "output_type": "execute_result"
    }
   ],
   "source": [
    "# View the first 10 training sentences and their labels\n",
    "train_sentences[:10], train_labels[:10]"
   ]
  },
  {
   "cell_type": "markdown",
   "id": "ab45065a",
   "metadata": {},
   "source": [
    "# <font color=blue> Modelling Textual Data using Deep Learning Model on Tensorflow Keras (tf.keras)"
   ]
  },
  {
   "cell_type": "markdown",
   "id": "372b552d",
   "metadata": {},
   "source": [
    "## <font color=green> The Deep Learning model we create will take our textual data (SA News) and labels (Topics on news headline) as input, tokenizes the text, creates an embedding layer, finds the average of the embeddings (using Global Average Pooling) and then passes the averages through a fully connected layer with one output unit and a sigmoid activation function."
   ]
  },
  {
   "cell_type": "code",
   "execution_count": 39,
   "id": "6f956830",
   "metadata": {},
   "outputs": [],
   "source": [
    "import tensorflow"
   ]
  },
  {
   "cell_type": "code",
   "execution_count": 40,
   "id": "d9ac6bd4",
   "metadata": {},
   "outputs": [],
   "source": [
    "from numpy import array\n",
    "from tensorflow.keras.preprocessing.text import one_hot\n",
    "from tensorflow.keras.preprocessing.sequence import pad_sequences\n",
    "from tensorflow.keras.models import Sequential\n",
    "from tensorflow.keras.layers import Flatten,Embedding,Dense"
   ]
  },
  {
   "cell_type": "markdown",
   "id": "6dd58b42",
   "metadata": {},
   "source": [
    "## Inputs for the modelling: chosen!"
   ]
  },
  {
   "cell_type": "code",
   "execution_count": 41,
   "id": "35f83e70",
   "metadata": {},
   "outputs": [],
   "source": [
    "max_vocab_length = 1000 # max number of words to have in our vocabulary\n",
    "max_length = 50 # max length our sequences will be (e.g. maximum number of words in each news headline)\n",
    "Vocab_size = max_vocab_length ### max number of words to have in our vocabulary\n",
    "max_length = max_length  ## length of each tweet - the rest will be padded ==> \n",
    "output_dim = 30 # set size of embedding vector"
   ]
  },
  {
   "cell_type": "markdown",
   "id": "64605a2a",
   "metadata": {},
   "source": [
    "## ONE-HOT ENCODING: Keras \"one_hot\" is basically converting each word into its one-hot encoded index.\n",
    "The length of each encoded_SAnews is equal to the number of words in the \"train_sentence\". Keras one_hot is basically converting each word into its one-hot encoded index."
   ]
  },
  {
   "cell_type": "markdown",
   "id": "40e02e7e",
   "metadata": {},
   "source": [
    "## One -hot encoding train data:"
   ]
  },
  {
   "cell_type": "code",
   "execution_count": 42,
   "id": "ed736ae8",
   "metadata": {},
   "outputs": [],
   "source": [
    "from tensorflow.keras.preprocessing.text import one_hot"
   ]
  },
  {
   "cell_type": "code",
   "execution_count": 43,
   "id": "0dda565b",
   "metadata": {},
   "outputs": [
    {
     "name": "stdout",
     "output_type": "stream",
     "text": [
      "encoded South African News: [[203, 531, 394, 489, 737, 282, 635, 489, 408, 379, 177, 817, 639, 864, 746, 71, 856, 807, 32], [816, 616, 32, 165, 929, 615, 374, 506, 777, 633, 111], [877, 472, 575, 190, 134, 687, 355, 489, 609, 865, 144, 39, 357, 777, 815], [588, 392, 913, 355, 489, 290], [451, 918, 732, 144, 290, 177, 566], [408, 169, 367, 913, 819, 203, 955, 245, 282, 573], [353, 785, 489, 144, 290, 703, 437, 651, 813], [357, 461, 676, 674, 282, 370, 515, 851], [106, 913, 757, 205, 489, 144, 290, 870, 753, 419], [827, 336, 418, 804, 228, 332, 913, 506, 33], [608, 517, 334, 389, 100, 7, 852, 129, 282, 890, 814, 44], [683, 918, 101, 212, 24, 489, 645, 909], [109, 825, 799, 203, 314, 784, 14, 512, 92, 879], [144, 650, 389, 908, 951, 864, 450, 536, 242], [402, 482, 507, 915, 893, 144, 290, 235, 946, 338], [699, 825, 863, 370, 995, 684, 871, 702, 465, 993, 465, 239, 285, 125, 804], [144, 676, 643, 18, 971, 221, 443, 32, 330], [289, 844, 786, 784, 203, 465, 993, 593], [144, 290, 933, 122, 456, 313, 991, 908, 625], [228, 169, 907, 312, 483, 262, 913, 389, 239, 955], [219, 643, 489, 789, 367, 389, 946, 325, 864, 456, 697, 625, 616], [71, 144, 290, 658, 414, 182, 370, 706, 409, 39], [778, 864, 370, 220, 122, 489, 144, 290, 658, 190, 268, 303], [264, 650, 135, 837, 920, 864, 380, 458, 282, 474, 190], [208, 933, 352, 913, 686, 968, 333, 395, 933, 891, 463, 82, 971, 511, 933, 144, 290, 242], [967, 566, 500, 447, 864, 483, 489, 350, 192], [189, 489, 237, 370, 804, 209, 933, 370, 821], [209, 204, 268, 465, 993, 489, 144, 290], [394, 747, 536, 239, 465, 456, 445, 633, 144], [144, 676, 797, 881, 453, 489, 672, 864, 702, 465, 456, 984], [740, 228, 204, 987, 469, 519, 142, 998], [328, 881, 383, 856, 521, 223, 864, 887, 856, 111, 406], [312, 268, 670, 199, 489, 144, 290], [228, 913, 355, 489, 144, 290], [361, 801, 630, 144, 650, 336, 17], [872, 48, 593, 106, 307, 342, 960, 144, 650], [108, 651, 616, 268, 144, 695], [144, 676, 643, 876, 752, 159, 123, 219, 742], [494, 864, 429, 268, 144, 290, 33, 196, 379, 636, 7, 618, 72], [506, 33, 101, 890, 649, 123, 841, 913, 778, 144, 274, 220, 318], [284, 355, 472, 575, 190, 908, 117, 489, 1, 509, 144, 39, 290, 357, 777, 815], [370, 290, 651, 63, 676, 933, 667, 404, 336, 317], [106, 144, 290, 578, 370, 487, 881, 864, 487, 651, 489, 290], [720, 888, 773, 313, 633, 429, 203, 144, 650, 32, 480, 332, 913, 819, 489, 370, 217, 864], [955, 991, 856, 268, 78, 625, 864, 195], [144, 290, 389, 703, 222, 382, 209, 870], [10, 523, 849, 268, 976, 645, 144, 290, 652], [509, 211, 268, 720, 489, 144, 290, 33, 282, 645, 862, 210, 52], [695, 822, 248, 757, 205, 48, 920, 676, 169, 547, 203, 676, 547, 204, 608, 175, 980, 48], [144, 650, 92, 616, 636, 203, 837, 383, 460, 979, 890, 911], [2, 42, 666, 791, 881, 290, 888, 595, 972, 190], [394, 747, 148, 824, 760, 268, 465, 993, 489, 144, 290], [144, 695, 336, 422, 182, 733, 859, 300, 913, 567, 65, 100], [370, 812, 218, 328, 933, 227, 881], [456, 445, 933, 603, 389, 67, 144, 274, 845, 237, 489, 890, 552], [825, 318, 913, 207, 890, 389, 48, 144, 274, 879], [144, 290, 658, 890, 357, 692, 268, 850, 328, 367, 406], [274, 328, 82, 913, 336, 370, 289, 489, 380, 367, 418], [801, 545, 268, 69, 408], [144, 650, 158, 282, 628, 386, 70, 864, 61, 489, 472], [839, 940, 523, 913, 968, 429, 290, 357, 777, 489, 1, 509, 815, 839, 940, 523, 913, 968], [509, 360, 268, 645, 765, 624, 489, 144, 290], [907, 959, 592, 938, 913, 43, 665, 979, 321, 406, 732, 910], [645, 97, 24, 454, 217, 908, 489, 144, 290], [71, 239, 465, 456, 423, 44, 636, 489, 408], [819, 747, 412, 824, 471, 424, 987, 933, 336, 403, 489, 724, 290], [918, 489, 645, 909, 144, 290, 260, 665, 816], [321, 219, 406, 775, 255, 48, 936, 248], [144, 676, 643, 964, 971, 723, 980], [797, 662, 74, 201, 144, 290, 913, 945, 320], [144, 290, 663, 512, 315, 791, 822, 7, 441, 908, 780, 913, 864, 370, 169, 907], [673, 218, 4, 781, 268, 336, 933, 79, 900, 489, 408], [135, 3, 54, 940, 408, 643, 890, 149, 894, 33, 370, 38, 486], [430, 21, 268, 144, 274, 645, 376, 271, 566, 662], [370, 757, 489, 370, 70, 146, 254, 651, 913, 290], [144, 676, 403, 652, 913, 77, 106, 498, 355, 733, 407], [509, 268, 293, 489, 144, 290], [359, 603, 105, 489, 144, 290, 524], [321, 284, 913, 298, 521, 612, 856, 951, 48, 388, 417], [280, 639, 6, 465, 993, 856, 65, 690, 913, 926, 177], [342, 870, 169, 887, 489, 144, 290, 636, 888], [370, 808, 864, 144, 290, 75, 102, 590, 33, 933, 402], [643, 964, 219, 336, 890, 418, 971, 144, 290, 658, 207, 48, 871, 483], [465, 456, 697, 611, 819, 48, 827, 515, 634, 544], [964, 111, 500, 219, 864, 888], [144, 676, 643, 450, 114, 644, 456, 85], [406, 489, 144, 290, 29, 913, 328, 997, 913, 914, 500], [144, 676, 643, 964, 928, 864, 131, 946, 24], [411, 443, 268, 144, 676, 394, 747, 255], [408, 394, 747, 536, 229, 548, 566, 489, 636, 998], [144, 676, 205, 864, 277, 611, 489, 397, 167], [144, 290, 679, 9, 37, 482, 971, 625, 225, 530, 389], [144, 290, 81, 389, 871, 159, 531, 633, 370, 817, 268, 370, 992, 900, 497], [767, 388, 33, 817, 144, 676, 189, 933, 825, 66], [159, 520, 144, 274, 389, 190, 979, 370, 866, 933, 734, 913, 268, 858], [553, 48, 279, 913, 844, 786, 465, 993, 633, 900, 190, 642], [50, 531, 890, 227, 643, 479, 268, 465, 993, 33, 370, 38], [228, 169, 907, 910, 797, 630, 277, 268, 260], [679, 695, 203, 408, 389, 9, 37, 482], [448, 864, 144, 650, 862, 210, 625, 52, 558, 239, 37], [816, 786, 10, 268, 144, 290], [220, 169, 547, 489, 144, 290], [144, 676, 873, 625, 879, 692, 913, 864, 803], [100, 298, 465, 456, 697, 489, 636, 900], [306, 587, 856, 604, 856, 144, 676, 625, 616], [964, 839, 913, 535, 489, 888], [161, 933, 370, 144, 676, 826, 301, 190], [144, 650, 63, 90, 117, 37, 513, 489, 788, 437, 881], [144, 676, 643, 450, 114, 644, 456, 85], [144, 676, 205, 643, 356, 203, 798, 616, 846], [144, 676, 451, 92, 744, 913, 198, 913, 991, 864, 582], [144, 676, 219, 95, 203, 747, 252, 383, 77, 881], [951, 734, 268, 94, 282, 298, 456, 697, 669, 268, 231], [342, 964, 676, 219, 913, 757, 248], [144, 650, 92, 616, 179, 368, 274, 913, 824, 389], [144, 676, 643, 452, 670, 763, 752, 370, 123], [863, 195, 951, 523, 562, 897, 920, 676, 169, 881], [370, 357, 449, 676, 219, 205, 833, 539, 189, 489, 268, 888], [144, 676, 643, 18, 48, 819, 380, 752, 131], [189, 489, 370, 676, 395], [319, 118, 144, 676, 991, 951, 939, 77], [396, 210, 374, 189, 489, 290], [712, 821, 651, 489, 144, 290, 813, 933, 386], [870, 2, 650, 370, 913, 864, 696, 465, 993], [662, 458, 9, 453, 676, 169, 547], [221, 596, 633, 370, 416, 906, 489, 290], [106, 732, 239, 719, 237, 48, 844, 662, 562, 370, 456, 697, 548, 566], [290, 651, 386, 367, 167, 619, 370, 915, 81, 566], [625, 225, 633, 714, 780, 734, 489, 144, 290, 196, 603, 552, 933, 605, 364, 7, 890, 846], [144, 676, 32, 825, 9, 982, 489, 575], [531, 658, 370, 32, 451, 268, 144, 290, 122, 77, 357, 819, 913, 850, 370, 576, 928], [280, 489, 290, 370, 913, 864, 370, 443], [822, 870, 100, 890, 662, 382, 696, 465, 993], [144, 650, 39, 747, 913, 893, 254, 456, 778, 732, 57, 489, 888], [603, 10, 871, 483, 864, 144, 290], [189, 916, 489, 144, 290, 526, 108], [483, 8, 807, 531, 658, 379, 106, 841, 379, 268, 871, 379, 268, 268], [964, 219, 913, 535, 489, 888], [478, 611, 913, 648, 48, 228, 169, 907], [528, 52, 691, 144, 274, 389, 913, 890, 267, 37, 482, 330], [822, 994, 847, 239, 465, 456, 445], [106, 913, 355, 489, 940], [408, 174, 83, 913, 557, 209, 530, 306, 13, 988, 203, 465], [144, 676, 575, 81, 913, 409, 856, 10, 340], [144, 290, 951, 913, 913, 702, 548, 489, 134, 282, 495, 690, 239], [144, 676, 219, 95, 971, 644, 127, 177, 643, 876], [144, 290, 519, 455, 864, 824, 268, 511, 584, 203, 438, 864, 890, 45, 553, 387], [370, 978, 950, 864, 625, 225, 48, 144, 650, 389], [850, 32, 190, 318, 913, 645, 144, 650, 282, 580, 642], [783, 448, 536, 616, 383, 144, 290, 386, 135, 575, 862], [242, 908, 144, 290, 336, 418, 804, 913, 461], [144, 676, 32, 825, 643, 489, 314], [370, 357, 449, 676, 219, 205, 833, 539, 189, 489, 268, 888], [881, 48, 742, 797, 881, 664, 172, 819, 624, 913, 978, 933, 472, 412], [32, 810, 370, 228, 144, 650, 389, 658, 185, 33, 878], [119, 25, 741, 554, 146, 382, 482, 29, 489, 290], [816, 506, 33, 383, 653, 268, 408, 2], [968, 429, 650, 169, 881, 472, 575, 805, 856, 25, 878, 489, 589, 357, 777, 815], [71, 462, 658, 804, 110, 913, 7, 570, 48, 144, 290], [144, 676, 219, 231, 489, 859, 736, 223, 562, 149], [361, 801, 630, 144, 650, 336, 17], [408, 798, 219, 629, 370, 168, 196, 235, 268, 77, 797, 676], [370, 825, 237, 881, 489, 144, 290, 205, 833, 7, 189, 489], [489, 370, 367, 268, 890, 645, 786, 465, 993, 871, 513, 99, 122, 489], [144, 290, 177, 712, 268, 471, 337, 453, 489, 314], [144, 676, 643, 18, 971, 221, 443, 32, 330], [670, 804, 204, 268, 144, 274, 389, 33, 196, 809, 890, 509, 411], [144, 676, 643, 219, 799, 971, 93, 95], [345, 111, 406, 534, 144, 650, 176, 838], [357, 449, 82, 489, 968, 429, 290, 913, 535, 65, 268, 489, 888, 394, 913, 242], [878, 734, 122, 117, 911, 849, 71, 489, 144, 290], [902, 734, 913, 639, 524, 624, 913, 10, 340], [144, 676, 643, 820, 971, 379, 177, 589], [370, 418, 864, 359, 651, 388, 268, 572, 127], [408, 219, 913, 65, 619, 757, 971, 940, 509], [971, 858, 88, 9, 871, 328, 881, 811, 489, 888], [144, 676, 643, 149, 971, 644, 456, 85], [228, 913, 355, 489, 144, 290], [392, 574, 734, 822, 389, 239, 850, 873, 144, 290], [370, 825, 237, 881, 489, 144, 290, 205, 833, 7, 189, 489], [408, 389, 703, 775, 545, 856, 687, 489, 605, 681, 84, 268, 158, 864, 248], [144, 290, 78, 913, 455, 461, 203, 379, 790, 824, 732, 651, 667, 634, 678], [106, 841, 370, 321, 598, 913, 920, 77, 169, 970], [519, 489, 189, 489, 290, 7, 106], [71, 191, 890, 804, 57, 268, 144, 676, 406, 913, 349, 93, 951], [890, 494, 864, 429, 268, 290, 489, 890, 833, 77, 389], [529, 244, 616, 933, 144, 290, 492, 979, 370, 357, 328, 881, 268, 111, 651], [144, 676, 643, 387, 856, 68, 264, 177, 589, 219, 913, 587], [900, 100, 321, 913, 893, 465, 993, 642], [100, 239, 456, 445, 489, 888, 269], [334, 935, 65, 23, 125, 778, 771, 489, 778, 910, 538, 443], [144, 676, 493, 724, 282, 407, 929, 625, 225], [658, 144, 290, 164, 65, 19, 203, 370, 509, 320, 618], [675, 10, 340, 871, 806, 370, 144, 676, 389, 557, 801], [269, 489, 676, 4], [355, 489, 144, 290, 531, 205, 652, 913, 786, 872, 370, 964, 328, 367], [679, 695, 268, 144, 290, 203, 506, 33, 842, 370, 389], [248, 658, 714, 780, 32, 489, 144, 290], [964, 358, 824, 144, 290, 888], [408, 797, 881, 363, 178, 196, 506, 33, 440, 824, 266], [239, 412, 48, 370, 282, 624, 913, 506, 33, 22], [248, 658, 714, 780, 32, 489, 144, 290], [144, 676, 32, 24, 18, 122, 489, 314, 470], [77, 39, 844, 164, 456, 697, 85, 489, 396], [144, 290, 658, 489, 509], [741, 824, 138, 658, 951, 913, 355, 45, 123, 48, 370, 676, 367], [121, 264, 739, 392, 913, 984, 89, 453], [144, 290, 465, 456, 441, 856, 665, 104, 481, 913, 687], [797, 662, 74, 201, 144, 290, 511, 913, 945, 320], [144, 676, 219, 95, 203, 798, 782, 779], [189, 489, 370, 676, 395], [290, 651, 386, 619, 189, 388, 208, 489, 388, 465], [328, 367, 406, 825, 793, 370, 290, 423], [144, 676, 643, 237, 330, 971, 461, 395, 589], [144, 676, 643, 876, 203, 881, 599, 68, 264, 336, 589], [144, 650, 911, 141, 658, 144], [406, 74, 908, 92, 75, 26, 489, 144, 290], [357, 449, 82, 489, 968, 429, 290, 913, 535, 65, 268, 489, 888, 394, 913, 242], [144, 650, 134, 380, 24, 569, 203, 625, 616, 790], [370, 676, 547, 204, 608, 890, 418, 846, 913, 509, 508, 820, 489, 676, 169, 881], [658, 850, 97, 876, 268, 189, 489, 144, 290], [144, 676, 39, 747, 913, 238, 465, 456, 933, 750], [144, 676, 643, 18, 752, 159, 123, 928, 864, 472, 600], [144, 676, 389, 757, 489, 278, 203, 625, 616, 293], [955, 890, 552, 382, 144, 290, 531, 370, 819, 822, 657, 382, 824, 336, 330], [144, 676, 643, 876, 203, 850, 367, 158, 456, 85], [558, 656, 506, 33, 33, 549, 370, 390, 66], [144, 658, 370, 515, 897, 872, 747, 7, 531, 906, 633, 216, 872], [853, 2, 148, 48, 144, 676, 993, 301, 489, 888], [144, 290, 679, 9, 37, 482, 971, 625, 225, 530, 389], [472, 395, 933, 651, 489, 290], [144, 290, 75, 913, 504, 837, 370, 313], [357, 908, 205, 489, 144, 290, 306, 910], [367, 984, 268, 888, 526, 619], [643, 815, 370, 118, 864, 370, 144, 676, 389, 889, 856, 558], [797, 662, 74, 201, 144, 290, 511, 913, 945, 320], [144, 274, 740, 506, 33, 856, 658, 84, 370, 1, 269], [645, 569, 252, 312, 748, 489, 144, 290, 33, 282, 560], [370, 696, 127, 864, 120, 890, 657, 489, 144, 290, 33, 933, 106, 732, 379, 81, 330], [321, 219, 406, 775, 255, 48, 936, 248], [603, 633, 209, 489, 408, 196, 991, 342, 633, 97, 715, 850], [144, 676, 643, 18, 971, 221, 443, 32, 330], [278, 739, 800, 48, 227, 643, 882, 177, 465, 993], [71, 462, 658, 804, 110, 913, 7, 570, 48, 144, 290], [71, 658, 676, 826, 453, 489, 144, 290, 786, 976, 458], [130, 946, 465, 993, 489, 144, 290], [778, 857, 699, 190, 268, 144, 676, 406], [827, 389, 643, 37, 482, 476, 913, 8, 418, 11, 33, 370, 38, 486], [32, 24, 489, 298, 613, 423, 489, 134, 888, 144, 290], [450, 412, 57, 268, 187, 341, 489, 765, 48, 403, 864, 144, 290], [625, 650, 609, 865, 357, 777, 9, 815, 7, 390, 329, 933, 169, 367, 575], [946, 766, 734, 775, 389, 423, 489, 144, 290, 306, 910, 186, 852], [966, 526, 645, 627, 148, 219, 210, 791, 72, 127, 239, 125, 645], [515, 144, 144, 676, 9, 489, 370, 819], [403, 703, 937, 144, 290, 65, 864, 728, 797, 881], [940, 489, 290, 370, 814, 864, 395, 839, 933, 42, 490, 667, 910, 548], [32, 527, 856, 10, 340], [189, 489, 370, 676, 395], [623, 928, 530, 98, 30, 523, 456, 85, 219], [106, 370, 68, 264, 933, 144, 290, 157, 190, 489, 890, 782, 946, 409, 540, 347], [144, 290, 81, 578, 989, 196, 111, 651, 871, 636, 472, 389, 161, 881], [264, 290, 913, 911, 379, 890, 283, 48, 890, 445, 282, 732, 522, 690, 48, 314, 777], [144, 676, 205, 530, 829, 190, 928, 864, 264, 943, 634, 678, 203], [71, 994, 425, 240, 489, 144, 290], [408, 86, 380, 911, 664, 95, 226, 864, 465, 456, 445], [342, 228, 913, 355, 489, 144, 290], [997, 933, 813, 268, 328, 367, 651], [850, 205, 933, 2, 633, 699, 37], [658, 144, 290, 875, 890, 797, 951, 856, 328, 959, 518, 282, 816], [189, 807, 322, 913, 287, 844, 593, 489, 144, 290], [144, 290, 388, 951, 422, 971, 472, 667, 816, 237], [489, 144, 290, 813, 768, 440, 890, 266, 48, 780, 734], [195, 913, 254, 357, 651, 386], [292, 964, 190, 120, 48, 991, 461, 489, 144, 290], [531, 651, 507, 837, 509, 813, 489, 144, 290], [408, 389, 395, 28, 520, 489, 370, 5], [408, 797, 350, 908, 951, 282, 882, 530, 92, 616, 321], [144, 290, 177, 712, 268, 471, 453, 971, 856, 278, 739], [32, 807, 320, 392, 913, 645, 844, 780, 32, 283, 489], [284, 61, 370, 77, 925, 711, 367], [406, 636, 7, 872, 913, 355, 489, 408], [357, 461, 220, 9, 489, 144, 290], [679, 695, 203, 408, 389, 9, 37, 482], [650, 839, 790, 32, 944, 645, 388, 188], [643, 964, 219, 336, 890, 418, 971, 144, 290, 658, 207, 48, 871, 483], [370, 882, 465, 993, 633, 825, 370, 367, 913, 154], [144, 676, 205, 380, 798, 616, 643, 876], [144, 676, 493, 724, 282, 407, 929, 625, 225], [205, 864, 144, 676, 278, 603, 478, 904, 134, 48, 327], [370, 752, 228, 370, 321, 658, 51], [465, 993, 180, 933, 370, 924, 864, 530, 33, 370, 38, 486], [292, 585, 856, 269, 925, 96, 946, 144, 290], [313, 49, 913, 645, 177, 203, 947, 995, 849, 635, 633, 137, 382, 825, 489, 728, 373], [465, 456, 697, 408, 870, 871, 48, 664, 797], [816, 144, 290, 933, 890, 47, 77, 505, 370, 818, 822, 933, 832, 887, 658, 72, 928], [666, 85, 489, 389, 370, 637, 195, 933, 290, 881, 257, 933, 589], [106, 732, 500, 205, 652, 913, 7, 489, 144, 274, 416, 37], [881, 48, 742, 472, 644, 102, 933, 403, 472, 268, 643, 933, 998], [130, 268, 637, 427, 144, 290], [408, 389, 9, 856, 37, 482, 489, 463, 36, 562, 409, 19, 822, 248, 476, 533, 814], [870, 663, 912, 268, 465, 456, 697], [408, 389, 703, 775, 545, 856, 687, 489, 605, 681, 84, 268, 158, 864, 248], [643, 115, 886, 203, 144, 650, 296, 282, 472, 358, 395, 498, 908, 951], [144, 676, 367, 159, 319, 390, 524], [676, 846, 670, 706, 846, 482, 973, 607, 319, 489, 645, 15], [465, 993, 51, 913, 523, 63, 219, 897, 820, 863], [106, 913, 176, 370, 144, 676, 389], [491, 881, 203, 563, 888], [964, 169, 388, 382, 991, 342, 489, 144, 290], [408, 658, 890, 791, 753, 269, 259, 48, 402, 913, 355, 844, 500, 32], [52, 489, 144, 290, 370, 61, 382, 428, 913, 666], [465, 456, 697, 201, 913, 797, 918, 48, 408, 94], [357, 908, 205, 489, 144, 290, 306, 910], [696, 465, 993, 159, 472, 123, 383, 819, 389], [465, 993, 489, 144, 290, 225, 370, 861, 627], [519, 489, 189, 489, 290, 7, 106], [535, 370, 590, 862, 864, 334, 389], [144, 274, 465, 839, 633, 736, 399, 21], [676, 747, 715, 913, 648, 48, 228, 169, 907, 856, 232], [881, 48, 742, 472, 644, 102, 933, 403, 472, 268, 643, 933, 998], [350, 658, 714, 489, 913, 645, 278, 739, 587, 489, 144, 290], [106, 913, 757, 205, 489, 144, 290, 870, 753, 419], [837, 636, 127, 144, 290, 399, 123, 890, 911, 39, 747, 536], [228, 169, 907, 979, 121, 57, 882, 643, 955], [658, 144, 290, 890, 788, 268, 954, 651, 489, 290], [290, 651, 386, 619, 252, 933, 38, 388, 392, 913, 557, 853, 388, 465, 999], [144, 650, 546, 255, 521, 177, 971, 472, 230, 370, 992, 864, 684, 921, 763, 913, 816], [216, 882, 585, 419, 32, 307, 190, 87, 3, 489], [221, 596, 633, 370, 416, 906, 489, 290], [144, 650, 558, 639, 864, 372, 625, 225, 306, 991], [359, 603, 105, 489, 144, 290, 524], [431, 747, 639, 872, 32, 465, 456, 445, 489, 144, 290], [645, 199, 933, 670, 511, 674, 268, 144, 290], [144, 290, 616, 658, 209, 890, 72, 957, 864, 681, 134], [828, 459, 307, 492, 773, 48, 144, 676, 821], [478, 190, 715, 913, 648, 48, 370, 321], [46, 52, 699, 586, 323, 440, 215, 908, 357, 858], [608, 642, 48, 408, 127, 913, 816, 950, 702, 465, 993], [357, 461, 252, 674, 913, 355, 489, 290], [130, 946, 465, 993, 489, 144, 290], [827, 336, 418, 489, 821, 651, 78, 51, 913, 95, 182, 942, 801], [138, 658, 196, 913, 841, 190, 650, 615, 208, 798, 584], [17, 749, 4, 87, 449, 208, 489, 651, 182, 370, 144, 676, 389], [465, 993, 465, 205, 99, 597, 106, 732, 239, 530, 237, 48], [187, 182, 836, 887, 933, 466, 489, 144, 290, 383, 282, 298, 197], [408, 389, 417, 489, 801, 798, 538, 629], [463, 890, 254, 570, 950, 489, 144, 676, 659, 830, 282, 189, 489, 57, 866, 393, 966, 619], [144, 676, 406, 633, 900, 178, 148, 489, 888], [148, 633, 121, 370, 645, 762, 276, 268, 734, 489, 144, 290], [121, 970, 684, 123, 913, 253, 971, 342, 367, 489, 290], [71, 658, 144, 650, 401, 86, 518, 282, 816, 933, 940], [658, 762, 835, 829, 144, 650, 418], [169, 388, 382, 357, 408, 367, 161, 933, 500, 342], [558, 248, 228, 169, 907, 536, 379, 81, 890, 625, 387], [412, 786, 489, 144, 290], [239, 54, 268, 870, 203, 465, 456, 697, 48, 370, 321], [144, 676, 781, 923, 909, 850, 219, 643, 955], [370, 964, 651, 913, 914, 282, 844, 500, 489, 144, 290, 237, 526, 219, 526, 291, 465], [696, 465, 993, 106, 465, 498, 950, 844, 500, 933], [408, 673, 913, 383, 878, 644, 420, 489, 409, 850, 429, 370, 992], [964, 839, 913, 535, 489, 888], [655, 146, 133, 233, 303, 92, 225, 913, 144, 695, 268, 339], [908, 370, 920, 268, 408, 389, 681, 10, 340, 175, 928], [506, 33, 658, 373, 512, 48, 488, 318, 489, 144, 290], [144, 676, 394, 747, 445, 993, 856, 665, 104, 481, 913, 379, 522], [174, 370, 228, 169, 907, 357, 544], [177, 656, 196, 465, 456, 392, 913, 530, 190], [336, 219, 933, 881, 804, 268, 888], [994, 833, 7, 626, 825, 712, 994, 696, 465, 993, 633, 740, 177, 147, 674], [144, 274, 39, 747, 6, 577, 456, 913, 687, 522], [791, 219, 888, 370, 910, 864, 189, 145], [633, 676, 169, 547, 653, 268, 780], [558, 616, 531, 841, 144, 274, 862, 864, 668, 819], [827, 127, 864, 240, 616, 106, 994, 578, 458, 933, 608, 89], [494, 864, 429, 268, 144, 290, 33, 196, 379, 636, 7, 618, 72], [404, 336, 480, 406, 960, 423, 489, 144, 290], [833, 109, 406, 829, 328, 881], [964, 839, 913, 535, 489, 888], [875, 770, 730, 754, 460, 295, 489, 144, 290], [370, 964, 651, 913, 914, 282, 844, 500, 489, 144, 290, 237, 526, 219, 526, 291, 465], [144, 676, 456, 697, 110, 121, 984, 643, 6], [], [81, 529, 144, 650, 821, 362, 316, 212, 752, 996, 651, 319], [462, 658, 890, 904, 183, 315, 408, 81, 78, 102, 861, 472, 640, 536, 64], [228, 169, 907, 979, 121, 57, 882, 643, 955], [506, 33, 892, 827, 389, 913, 370, 15], [106, 913, 355, 489, 328, 881], [144, 650, 837, 7, 370, 389, 489, 82, 392], [535, 408, 994, 652, 913, 616, 370, 644, 48, 465, 456, 417, 70], [825, 759, 634, 200, 735, 984, 913, 523, 536, 379, 667, 619, 20, 736, 366], [676, 674, 933, 733, 651, 120], [121, 970, 684, 123, 913, 253, 971, 342, 367, 489, 290], [144, 676, 205, 244, 203, 68, 264, 798, 616, 188, 913, 47], [144, 676, 219, 643, 95, 971, 68, 264, 412, 589], [62, 797, 385, 744, 228, 169, 907, 268, 395, 418], [242, 225, 144, 290, 418, 804, 913, 533, 864, 92, 464, 389], [804, 204, 268, 117, 911, 268, 623, 489, 144, 290], [360, 797, 382, 913, 636, 360, 287, 144, 650, 389, 536, 32, 96], [825, 365, 872, 864, 481, 39, 489, 144, 290], [900, 203, 783, 60, 697, 489, 520, 589, 993], [71, 144, 290, 75, 239, 780, 734, 32, 507, 569], [408, 233, 29, 913, 844, 913, 977, 908, 91, 864, 651, 945, 32], [115, 205, 822, 336, 913, 14, 890, 697, 489, 465, 993], [321, 958, 140, 569, 650, 912, 958, 603, 529, 48, 370, 321], [106, 370, 472, 465, 456, 697, 547, 408], [509, 509, 268, 413, 489, 144, 290], [408, 759, 933, 662, 881, 541, 370, 910, 48, 370, 498, 317], [976, 658, 666, 88, 933, 773, 144, 650, 779, 742, 991], [144, 676, 643, 383, 856, 190, 439, 203, 836, 178, 293], [106, 913, 355, 489, 844, 894, 933, 559, 489, 144, 290], [144, 290, 368, 456, 976, 268, 821, 57, 489, 946, 890, 910], [240, 617, 913, 504, 506, 483, 913, 645, 909, 169, 907]]\n"
     ]
    }
   ],
   "source": [
    "encoded_SAnewsTrain = [one_hot(d,Vocab_size) for d in train_sentences]\n",
    "print(f'encoded South African News: {encoded_SAnewsTrain}')"
   ]
  },
  {
   "cell_type": "markdown",
   "id": "32bf27d2",
   "metadata": {},
   "source": [
    "## <font color=pink> Let's Visualize the first 3 news headlines and their corresponding one-hot encoders"
   ]
  },
  {
   "cell_type": "code",
   "execution_count": 44,
   "id": "378beac9",
   "metadata": {},
   "outputs": [
    {
     "name": "stdout",
     "output_type": "stream",
     "text": [
      "\"THE FIRST 3 NEWS HEADLINES ARE\": [\"as uk 'falls in love' with investec, in sa it won't reach goal of doubling clients by 2026 | business\"\n",
      " 'russia crisis: business slams govt reaction, while eu sanctions are feared'\n",
      " \"zambia us$ returns up 11.7% ytd in dec. '22 south central top 30 report\"]\n",
      "\"THEIR CORRESPONDING ONE-HOT ENCODERS ARE RESPECTIVELY\": [[203, 531, 394, 489, 737, 282, 635, 489, 408, 379, 177, 817, 639, 864, 746, 71, 856, 807, 32], [816, 616, 32, 165, 929, 615, 374, 506, 777, 633, 111], [877, 472, 575, 190, 134, 687, 355, 489, 609, 865, 144, 39, 357, 777, 815]]\n"
     ]
    }
   ],
   "source": [
    "print(f'\"THE FIRST 3 NEWS HEADLINES ARE\": {train_sentences[:3]}')\n",
    "print(f'\"THEIR CORRESPONDING ONE-HOT ENCODERS ARE RESPECTIVELY\": {encoded_SAnewsTrain[:3]}')"
   ]
  },
  {
   "cell_type": "markdown",
   "id": "c750098a",
   "metadata": {},
   "source": [
    "## One-hot encoding test data"
   ]
  },
  {
   "cell_type": "code",
   "execution_count": 45,
   "id": "452d0d87",
   "metadata": {},
   "outputs": [
    {
     "name": "stdout",
     "output_type": "stream",
     "text": [
      "encoded South African News: [[370, 812, 218, 328, 933, 227, 881], [465, 993, 633, 48, 370, 513, 531, 950, 871, 306, 775, 48, 205], [370, 759, 864, 882, 465, 993, 48, 844, 530, 526, 731], [546, 799, 282, 406, 480, 856, 723, 632], [144, 290, 952, 177, 702, 125, 804, 203, 625, 225, 621], [144, 676, 643, 876, 48, 566, 325, 205, 40], [144, 650, 478, 190, 414, 913, 648, 48, 228, 907], [144, 676, 844, 217, 859, 562, 386, 382, 506, 33], [662, 453, 180, 188, 913, 47, 626, 48, 408, 389, 900], [370, 290, 651, 63, 676, 933, 667, 404, 336, 317], [702, 125, 392, 456, 697, 603, 144, 650, 754, 268, 406], [862, 864, 780, 734, 489, 144, 290, 443, 106, 359, 498, 633, 913, 370, 992], [908, 890, 657, 666, 933, 189, 489, 144, 290], [144, 650, 389, 908, 890, 396, 428, 203, 11, 603, 196, 712, 92, 386, 363], [144, 290, 359, 496, 933, 974, 169, 986], [780, 734, 633, 207, 842, 336, 816], [203, 209, 982, 144, 290, 509, 913, 361, 676, 771], [752, 521, 933, 868, 627, 994, 864, 955, 951, 485], [968, 429, 650, 169, 881, 472, 575, 805, 856, 117, 449, 489, 609, 357, 777, 815], [881, 965, 268, 890, 833, 2, 913, 888], [812, 144, 290, 670, 706, 327, 119, 856, 367, 493], [144, 650, 169, 367, 212, 483, 262, 913, 8, 239, 9], [189, 489, 890, 550, 319, 489, 144, 290, 33, 531, 205, 833, 786], [964, 169, 466, 489, 144, 290], [409, 739, 567, 144, 676, 219, 702, 643, 712], [290, 651, 386, 619, 252, 933, 38, 388, 392, 913, 557, 853, 388, 465, 999], [445, 71, 144, 290, 871, 868, 913, 284, 65, 178, 282], [144, 676, 389, 643, 37, 482, 489, 36, 651, 203, 506, 33, 332, 913, 7, 741], [144, 290, 651, 237, 740, 204, 960, 292, 764, 32], [520, 144, 650, 389, 190, 979, 370, 866, 933, 734, 913, 268, 858], [553, 913, 582, 144, 290, 282, 472, 680, 589, 653, 651, 489, 228], [650, 357, 58, 9, 489, 888, 239, 32, 489, 833, 78], [478, 611, 913, 648, 48, 228, 169, 907], [163, 123, 951, 569, 913, 179, 144, 290, 178, 370, 871, 648], [144, 290, 273, 946, 625, 985, 820, 748, 516], [816, 786, 10, 268, 144, 290], [370, 418, 48, 759, 864, 177, 933, 465, 993, 489], [603, 633, 209, 489, 408, 196, 991, 342, 633, 97, 715, 850], [603, 10, 871, 483, 864, 144, 290], [842, 890, 831, 697, 619, 35, 84, 864, 913, 406], [144, 676, 32, 825, 9, 982, 489, 575], [144, 650, 625, 225, 383, 339, 951, 625, 951, 66], [144, 676, 643, 955, 282, 390, 519, 589, 702, 221], [692, 57, 65, 913, 65, 268, 904, 57, 971, 401, 102], [144, 650, 837, 7, 370, 389, 489, 82, 392], [189, 933, 328, 32, 489, 144, 290], [902, 403, 558, 658, 890, 30, 864, 144, 290, 489, 591], [144, 290, 465, 456, 804, 268, 89, 449, 136], [464, 676, 674, 633, 908, 951, 382, 370, 890, 367, 655], [144, 290, 951, 913, 697, 465, 993, 99, 203, 177, 806], [951, 908, 144, 650, 558, 370, 448, 933, 370, 113, 693], [144, 676, 219, 825, 627, 775, 255, 48, 936, 248], [465, 456, 697, 306, 658, 106, 732, 239, 205, 703, 65, 48, 844], [113, 664, 67, 144, 290, 113, 775, 890, 282, 711], [177, 633, 875, 890, 579, 489, 144, 290], [144, 676, 32, 24, 18, 122, 489, 314, 470], [558, 639, 144, 290, 893, 521, 625, 225, 306, 991], [531, 913, 355, 37, 208, 913, 590, 144, 290, 524], [965, 144, 274, 314, 128, 389], [144, 676, 643, 955, 48, 123, 286], [290, 651, 386, 619, 189, 388, 208, 489, 388, 465], [472, 644, 913, 279, 465, 993, 306, 623, 7, 106, 408, 703, 7, 986], [529, 788, 370, 169, 907, 675, 864, 248, 396], [144, 650, 389, 908, 951, 864, 450, 536, 242], [603, 871, 29, 882, 268, 144, 290, 144, 448], [144, 290, 636, 217, 645, 559, 864, 801, 624, 913, 991, 625, 745, 746], [992, 951, 994, 943, 268, 716, 489, 144, 290, 489, 888], [144, 650, 635, 237, 991, 90, 25, 210, 147, 95], [902, 102, 37, 57, 913, 355, 489, 408, 196, 205, 603, 7, 353, 536, 357, 991, 159], [558, 307, 639, 144, 695, 913, 912, 268, 920, 407, 837], [244, 519, 370, 656, 864, 44, 205], [650, 563, 48, 940, 658, 990, 51, 913, 179, 290], [772, 585, 630, 395, 574, 680, 618, 498], [264, 676, 643, 11, 521, 177, 276, 592, 928], [59, 189, 489, 144, 290], [144, 676, 643, 625, 971, 368, 589, 780, 367], [144, 676, 32, 825, 9, 982, 489, 575], [406, 916, 190, 850, 546, 2, 203, 123, 530, 790, 13], [980, 204, 960, 382, 636, 134, 747, 864, 477, 6, 465], [144, 274, 241, 109, 784], [255, 676, 169, 881, 102, 489, 690, 159], [370, 357, 449, 676, 219, 205, 833, 539, 189, 489, 268, 888], [144, 676, 797, 881, 453, 489, 672, 864, 702, 465], [144, 676, 643, 955, 971, 39, 747, 456, 379], [209, 204, 268, 177, 933, 847, 489, 144, 290], [144, 290, 465, 456, 441, 913, 449, 449, 220, 697, 489, 965], [394, 747, 770, 645, 386, 933, 346, 268, 144, 290], [242, 639, 144, 290, 389, 386, 450], [708, 370, 451, 268, 359, 839], [814, 864, 197, 489, 144, 290, 531, 633, 370, 269, 297], [782, 437, 820, 37, 485, 489, 144, 290, 228], [465, 993, 913, 513, 642, 389, 106, 913, 336, 560, 864], [342, 964, 676, 219, 913, 757, 248], [408, 844, 400, 489, 890, 209, 519, 908, 890, 209, 57], [239, 865, 268, 219, 48, 829, 864, 328, 190, 506, 33], [108, 406, 719, 759, 864, 144, 676, 219, 757, 2], [144, 676, 734, 29, 913, 25, 933, 271, 873, 203, 558], [553, 913, 582, 144, 290, 282, 472, 680, 589, 653, 651, 489, 228], [708, 933, 461, 888, 531, 866, 822, 465, 268, 408], [219, 643, 97, 664, 819, 203, 406, 908, 702, 472, 993, 408, 625, 879], [658, 462, 97, 399, 489, 144, 676, 998], [742, 881, 643, 664, 819, 961, 506], [797, 300, 268, 248, 203, 264, 739, 946, 94, 833, 965]]\n"
     ]
    }
   ],
   "source": [
    "encoded_SAnewsTest = [one_hot(d,Vocab_size) for d in test_sentences]\n",
    "print(f'encoded South African News: {encoded_SAnewsTest}')"
   ]
  },
  {
   "cell_type": "markdown",
   "id": "17eaf9b6",
   "metadata": {},
   "source": [
    "## <font color=violet> NB: Notice that each sentence has its own number of elements (i.e. columns) hence, we have to pad each news headline to a fixed size!"
   ]
  },
  {
   "cell_type": "markdown",
   "id": "507e6641",
   "metadata": {},
   "source": [
    "# <font color=violet> Apply \"padding\" so that all the encoded SA news/headlines are of same length\n",
    "we need to apply padding so that all the encoded train & test sentences are of same length (max_length)"
   ]
  },
  {
   "cell_type": "code",
   "execution_count": 46,
   "id": "f16213c4",
   "metadata": {},
   "outputs": [],
   "source": [
    "from tensorflow.keras.preprocessing.sequence import pad_sequences"
   ]
  },
  {
   "cell_type": "code",
   "execution_count": 47,
   "id": "4590d2c1",
   "metadata": {},
   "outputs": [
    {
     "name": "stdout",
     "output_type": "stream",
     "text": [
      "[[203 531 394 ...   0   0   0]\n",
      " [816 616  32 ...   0   0   0]\n",
      " [877 472 575 ...   0   0   0]\n",
      " ...\n",
      " [106 913 355 ...   0   0   0]\n",
      " [144 290 368 ...   0   0   0]\n",
      " [240 617 913 ...   0   0   0]]\n"
     ]
    }
   ],
   "source": [
    "padded_SAnewsTrain = pad_sequences(encoded_SAnewsTrain,maxlen=max_length,padding='post')\n",
    "print(padded_SAnewsTrain)"
   ]
  },
  {
   "cell_type": "code",
   "execution_count": 48,
   "id": "10223470",
   "metadata": {},
   "outputs": [
    {
     "name": "stdout",
     "output_type": "stream",
     "text": [
      "[[370 812 218 ...   0   0   0]\n",
      " [465 993 633 ...   0   0   0]\n",
      " [370 759 864 ...   0   0   0]\n",
      " ...\n",
      " [658 462  97 ...   0   0   0]\n",
      " [742 881 643 ...   0   0   0]\n",
      " [797 300 268 ...   0   0   0]]\n"
     ]
    }
   ],
   "source": [
    "padded_SAnewsTest = pad_sequences(encoded_SAnewsTest,maxlen=max_length,padding='post')\n",
    "print(padded_SAnewsTest)"
   ]
  },
  {
   "cell_type": "markdown",
   "id": "3ca71bca",
   "metadata": {},
   "source": [
    "# <font color=red/blue> We will use TensorBoard to visualize our results"
   ]
  },
  {
   "cell_type": "code",
   "execution_count": 49,
   "id": "1cb6f530",
   "metadata": {},
   "outputs": [],
   "source": [
    "%load_ext tensorboard"
   ]
  },
  {
   "cell_type": "code",
   "execution_count": 50,
   "id": "ff46744a",
   "metadata": {},
   "outputs": [],
   "source": [
    "log_folder='logs'\n",
    "%reload_ext tensorboard"
   ]
  },
  {
   "cell_type": "markdown",
   "id": "ba37eb03",
   "metadata": {},
   "source": [
    "## <font color=brown|blue> Create the embedding layer - Deep Learning model: We fix the length of embedded vectors for each word as length of embedded vectors for each word as 50\n",
    "After creating padded one-hot representation of the reviews, we are ready to pass it as input to the embedding layer"
   ]
  },
  {
   "cell_type": "code",
   "execution_count": 51,
   "id": "6afe00a5",
   "metadata": {},
   "outputs": [],
   "source": [
    "from tensorflow.keras.models import Sequential\n",
    "from tensorflow.keras.layers import Flatten,Embedding,Dense,GlobalMaxPool1D"
   ]
  },
  {
   "attachments": {
    "image.png": {
     "image/png": "[encoded data removed]"
    }
   },
   "cell_type": "markdown",
   "id": "a8af2229",
   "metadata": {},
   "source": [
    "## <font color=violet> The output of the embedding layer (the embeddings) will be fed into the dense fully connected system after global maximum pooling.\n",
    "    \n",
    "### <font color=violet> we want each word (embedding) to be represent in 30 dimension space. You can change the size of the output embeddings\n",
    "\n",
    "### <font color=violet> For example: a 4 dimension space looks like this:\n",
    "    \n",
    "![image.png](attachment:image.png)"
   ]
  },
  {
   "cell_type": "code",
   "execution_count": 52,
   "id": "64ab4357",
   "metadata": {},
   "outputs": [
    {
     "name": "stdout",
     "output_type": "stream",
     "text": [
      "Model: \"sequential\"\n",
      "_________________________________________________________________\n",
      " Layer (type)                Output Shape              Param #   \n",
      "=================================================================\n",
      " embedding (Embedding)       (None, 50, 30)            30000     \n",
      "                                                                 \n",
      " global_max_pooling1d (Globa  (None, 30)               0         \n",
      " lMaxPooling1D)                                                  \n",
      "                                                                 \n",
      " dense (Dense)               (None, 32)                992       \n",
      "                                                                 \n",
      " dense_1 (Dense)             (None, 12)                396       \n",
      "                                                                 \n",
      " dense_2 (Dense)             (None, 8)                 104       \n",
      "                                                                 \n",
      " dense_3 (Dense)             (None, 1)                 9         \n",
      "                                                                 \n",
      "=================================================================\n",
      "Total params: 31,501\n",
      "Trainable params: 31,501\n",
      "Non-trainable params: 0\n",
      "_________________________________________________________________\n",
      "None\n"
     ]
    }
   ],
   "source": [
    "model = Sequential()\n",
    "embedding_layer = Embedding(input_dim=Vocab_size,output_dim=30,input_length=max_length)\n",
    "model.add(embedding_layer)\n",
    "##model.add(Flatten()) ## Flatting the input not used here, I use Global Maximum Pooling\n",
    "model.add(GlobalMaxPool1D())\n",
    "model.add(Dense(32,activation='relu'))\n",
    "model.add(Dense(12,activation='relu'))\n",
    "model.add(Dense(8,activation='relu'))\n",
    "model.add(Dense(1,activation='sigmoid'))\n",
    "model.compile(optimizer='adam',loss='binary_crossentropy',metrics=['acc'])\n",
    "print(model.summary())"
   ]
  },
  {
   "cell_type": "markdown",
   "id": "ae66c751",
   "metadata": {},
   "source": [
    "### <font color=red/blue> Create a TensorBoard \"callback\", which is responsible for logging all the events, and then specify our created log directory."
   ]
  },
  {
   "cell_type": "code",
   "execution_count": 53,
   "id": "d564df12",
   "metadata": {},
   "outputs": [],
   "source": [
    "from tensorflow.keras.callbacks import TensorBoard\n",
    "callbacks = [TensorBoard(log_dir=log_folder, histogram_freq=1, \n",
    " write_graph=True, write_images=True,     \n",
    " update_freq='epoch', profile_batch=2)]"
   ]
  },
  {
   "cell_type": "markdown",
   "id": "926c38ed",
   "metadata": {},
   "source": [
    "## <font color=green> Train the model for 100 epochs by passing in the \"callbacks\" so that results are visualized in TensorBoard"
   ]
  },
  {
   "cell_type": "code",
   "execution_count": 54,
   "id": "ab29a93d",
   "metadata": {},
   "outputs": [
    {
     "name": "stdout",
     "output_type": "stream",
     "text": [
      "Epoch 1/100\n",
      "13/13 - 2s - loss: 0.6831 - acc: 0.7451 - val_loss: 0.6680 - val_acc: 0.7864 - 2s/epoch - 178ms/step\n",
      "Epoch 2/100\n",
      "13/13 - 0s - loss: 0.6481 - acc: 0.8058 - val_loss: 0.6315 - val_acc: 0.7864 - 231ms/epoch - 18ms/step\n",
      "Epoch 3/100\n",
      "13/13 - 0s - loss: 0.6044 - acc: 0.8058 - val_loss: 0.5898 - val_acc: 0.7864 - 250ms/epoch - 19ms/step\n",
      "Epoch 4/100\n",
      "13/13 - 0s - loss: 0.5523 - acc: 0.8058 - val_loss: 0.5404 - val_acc: 0.7864 - 290ms/epoch - 22ms/step\n",
      "Epoch 5/100\n",
      "13/13 - 0s - loss: 0.4921 - acc: 0.8058 - val_loss: 0.4967 - val_acc: 0.7864 - 236ms/epoch - 18ms/step\n",
      "Epoch 6/100\n",
      "13/13 - 0s - loss: 0.4367 - acc: 0.8058 - val_loss: 0.4588 - val_acc: 0.7864 - 227ms/epoch - 17ms/step\n",
      "Epoch 7/100\n",
      "13/13 - 0s - loss: 0.3817 - acc: 0.8058 - val_loss: 0.4106 - val_acc: 0.7864 - 280ms/epoch - 22ms/step\n",
      "Epoch 8/100\n",
      "13/13 - 0s - loss: 0.3167 - acc: 0.8058 - val_loss: 0.3540 - val_acc: 0.7864 - 279ms/epoch - 21ms/step\n",
      "Epoch 9/100\n",
      "13/13 - 0s - loss: 0.2587 - acc: 0.8058 - val_loss: 0.3040 - val_acc: 0.7864 - 268ms/epoch - 21ms/step\n",
      "Epoch 10/100\n",
      "13/13 - 0s - loss: 0.2058 - acc: 0.8592 - val_loss: 0.2576 - val_acc: 0.8155 - 237ms/epoch - 18ms/step\n",
      "Epoch 11/100\n",
      "13/13 - 0s - loss: 0.1610 - acc: 0.9636 - val_loss: 0.2140 - val_acc: 0.9126 - 310ms/epoch - 24ms/step\n",
      "Epoch 12/100\n",
      "13/13 - 0s - loss: 0.1254 - acc: 0.9927 - val_loss: 0.1782 - val_acc: 0.9417 - 296ms/epoch - 23ms/step\n",
      "Epoch 13/100\n",
      "13/13 - 0s - loss: 0.0965 - acc: 0.9976 - val_loss: 0.1508 - val_acc: 0.9612 - 249ms/epoch - 19ms/step\n",
      "Epoch 14/100\n",
      "13/13 - 0s - loss: 0.0742 - acc: 0.9976 - val_loss: 0.1244 - val_acc: 0.9709 - 299ms/epoch - 23ms/step\n",
      "Epoch 15/100\n",
      "13/13 - 0s - loss: 0.0550 - acc: 1.0000 - val_loss: 0.1032 - val_acc: 0.9709 - 264ms/epoch - 20ms/step\n",
      "Epoch 16/100\n",
      "13/13 - 0s - loss: 0.0398 - acc: 1.0000 - val_loss: 0.0863 - val_acc: 0.9806 - 252ms/epoch - 19ms/step\n",
      "Epoch 17/100\n",
      "13/13 - 0s - loss: 0.0289 - acc: 1.0000 - val_loss: 0.0746 - val_acc: 0.9903 - 299ms/epoch - 23ms/step\n",
      "Epoch 18/100\n",
      "13/13 - 0s - loss: 0.0211 - acc: 1.0000 - val_loss: 0.0638 - val_acc: 0.9903 - 280ms/epoch - 22ms/step\n",
      "Epoch 19/100\n",
      "13/13 - 0s - loss: 0.0156 - acc: 1.0000 - val_loss: 0.0540 - val_acc: 0.9903 - 253ms/epoch - 19ms/step\n",
      "Epoch 20/100\n",
      "13/13 - 0s - loss: 0.0115 - acc: 1.0000 - val_loss: 0.0500 - val_acc: 0.9903 - 255ms/epoch - 20ms/step\n",
      "Epoch 21/100\n",
      "13/13 - 0s - loss: 0.0088 - acc: 1.0000 - val_loss: 0.0469 - val_acc: 0.9903 - 244ms/epoch - 19ms/step\n",
      "Epoch 22/100\n",
      "13/13 - 0s - loss: 0.0070 - acc: 1.0000 - val_loss: 0.0444 - val_acc: 0.9903 - 268ms/epoch - 21ms/step\n",
      "Epoch 23/100\n",
      "13/13 - 0s - loss: 0.0056 - acc: 1.0000 - val_loss: 0.0422 - val_acc: 0.9903 - 247ms/epoch - 19ms/step\n",
      "Epoch 24/100\n",
      "13/13 - 0s - loss: 0.0046 - acc: 1.0000 - val_loss: 0.0391 - val_acc: 0.9903 - 296ms/epoch - 23ms/step\n",
      "Epoch 25/100\n",
      "13/13 - 0s - loss: 0.0038 - acc: 1.0000 - val_loss: 0.0383 - val_acc: 0.9903 - 303ms/epoch - 23ms/step\n",
      "Epoch 26/100\n",
      "13/13 - 0s - loss: 0.0032 - acc: 1.0000 - val_loss: 0.0369 - val_acc: 0.9903 - 287ms/epoch - 22ms/step\n",
      "Epoch 27/100\n",
      "13/13 - 0s - loss: 0.0028 - acc: 1.0000 - val_loss: 0.0358 - val_acc: 0.9903 - 248ms/epoch - 19ms/step\n",
      "Epoch 28/100\n",
      "13/13 - 0s - loss: 0.0024 - acc: 1.0000 - val_loss: 0.0357 - val_acc: 0.9903 - 256ms/epoch - 20ms/step\n",
      "Epoch 29/100\n",
      "13/13 - 0s - loss: 0.0021 - acc: 1.0000 - val_loss: 0.0360 - val_acc: 0.9903 - 299ms/epoch - 23ms/step\n",
      "Epoch 30/100\n",
      "13/13 - 0s - loss: 0.0018 - acc: 1.0000 - val_loss: 0.0353 - val_acc: 0.9903 - 271ms/epoch - 21ms/step\n",
      "Epoch 31/100\n",
      "13/13 - 0s - loss: 0.0016 - acc: 1.0000 - val_loss: 0.0344 - val_acc: 0.9903 - 318ms/epoch - 24ms/step\n",
      "Epoch 32/100\n",
      "13/13 - 0s - loss: 0.0014 - acc: 1.0000 - val_loss: 0.0339 - val_acc: 0.9903 - 279ms/epoch - 21ms/step\n",
      "Epoch 33/100\n",
      "13/13 - 0s - loss: 0.0013 - acc: 1.0000 - val_loss: 0.0341 - val_acc: 0.9903 - 308ms/epoch - 24ms/step\n",
      "Epoch 34/100\n",
      "13/13 - 0s - loss: 0.0012 - acc: 1.0000 - val_loss: 0.0338 - val_acc: 0.9903 - 411ms/epoch - 32ms/step\n",
      "Epoch 35/100\n",
      "13/13 - 0s - loss: 0.0011 - acc: 1.0000 - val_loss: 0.0338 - val_acc: 0.9903 - 362ms/epoch - 28ms/step\n",
      "Epoch 36/100\n",
      "13/13 - 0s - loss: 9.7343e-04 - acc: 1.0000 - val_loss: 0.0337 - val_acc: 0.9903 - 273ms/epoch - 21ms/step\n",
      "Epoch 37/100\n",
      "13/13 - 0s - loss: 8.8354e-04 - acc: 1.0000 - val_loss: 0.0329 - val_acc: 0.9903 - 278ms/epoch - 21ms/step\n",
      "Epoch 38/100\n",
      "13/13 - 0s - loss: 8.1530e-04 - acc: 1.0000 - val_loss: 0.0326 - val_acc: 0.9903 - 239ms/epoch - 18ms/step\n",
      "Epoch 39/100\n",
      "13/13 - 0s - loss: 7.4616e-04 - acc: 1.0000 - val_loss: 0.0331 - val_acc: 0.9903 - 262ms/epoch - 20ms/step\n",
      "Epoch 40/100\n",
      "13/13 - 0s - loss: 6.9454e-04 - acc: 1.0000 - val_loss: 0.0329 - val_acc: 0.9903 - 270ms/epoch - 21ms/step\n",
      "Epoch 41/100\n",
      "13/13 - 0s - loss: 6.3787e-04 - acc: 1.0000 - val_loss: 0.0325 - val_acc: 0.9903 - 253ms/epoch - 19ms/step\n",
      "Epoch 42/100\n",
      "13/13 - 0s - loss: 5.9515e-04 - acc: 1.0000 - val_loss: 0.0329 - val_acc: 0.9903 - 271ms/epoch - 21ms/step\n",
      "Epoch 43/100\n",
      "13/13 - 0s - loss: 5.5391e-04 - acc: 1.0000 - val_loss: 0.0331 - val_acc: 0.9903 - 282ms/epoch - 22ms/step\n",
      "Epoch 44/100\n",
      "13/13 - 0s - loss: 5.1416e-04 - acc: 1.0000 - val_loss: 0.0332 - val_acc: 0.9903 - 291ms/epoch - 22ms/step\n",
      "Epoch 45/100\n",
      "13/13 - 0s - loss: 4.7904e-04 - acc: 1.0000 - val_loss: 0.0331 - val_acc: 0.9903 - 252ms/epoch - 19ms/step\n",
      "Epoch 46/100\n",
      "13/13 - 0s - loss: 4.4830e-04 - acc: 1.0000 - val_loss: 0.0328 - val_acc: 0.9903 - 272ms/epoch - 21ms/step\n",
      "Epoch 47/100\n",
      "13/13 - 0s - loss: 4.1871e-04 - acc: 1.0000 - val_loss: 0.0331 - val_acc: 0.9903 - 259ms/epoch - 20ms/step\n",
      "Epoch 48/100\n",
      "13/13 - 0s - loss: 3.9364e-04 - acc: 1.0000 - val_loss: 0.0336 - val_acc: 0.9903 - 240ms/epoch - 18ms/step\n",
      "Epoch 49/100\n",
      "13/13 - 0s - loss: 3.7089e-04 - acc: 1.0000 - val_loss: 0.0342 - val_acc: 0.9903 - 269ms/epoch - 21ms/step\n",
      "Epoch 50/100\n",
      "13/13 - 0s - loss: 3.4801e-04 - acc: 1.0000 - val_loss: 0.0338 - val_acc: 0.9903 - 283ms/epoch - 22ms/step\n",
      "Epoch 51/100\n",
      "13/13 - 0s - loss: 3.2987e-04 - acc: 1.0000 - val_loss: 0.0340 - val_acc: 0.9903 - 386ms/epoch - 30ms/step\n",
      "Epoch 52/100\n",
      "13/13 - 0s - loss: 3.1013e-04 - acc: 1.0000 - val_loss: 0.0341 - val_acc: 0.9903 - 386ms/epoch - 30ms/step\n",
      "Epoch 53/100\n",
      "13/13 - 0s - loss: 2.9408e-04 - acc: 1.0000 - val_loss: 0.0342 - val_acc: 0.9903 - 280ms/epoch - 22ms/step\n",
      "Epoch 54/100\n",
      "13/13 - 0s - loss: 2.7866e-04 - acc: 1.0000 - val_loss: 0.0344 - val_acc: 0.9903 - 284ms/epoch - 22ms/step\n",
      "Epoch 55/100\n",
      "13/13 - 0s - loss: 2.6506e-04 - acc: 1.0000 - val_loss: 0.0346 - val_acc: 0.9903 - 368ms/epoch - 28ms/step\n",
      "Epoch 56/100\n",
      "13/13 - 0s - loss: 2.5112e-04 - acc: 1.0000 - val_loss: 0.0347 - val_acc: 0.9903 - 284ms/epoch - 22ms/step\n",
      "Epoch 57/100\n",
      "13/13 - 0s - loss: 2.3865e-04 - acc: 1.0000 - val_loss: 0.0350 - val_acc: 0.9903 - 269ms/epoch - 21ms/step\n",
      "Epoch 58/100\n",
      "13/13 - 0s - loss: 2.2797e-04 - acc: 1.0000 - val_loss: 0.0357 - val_acc: 0.9903 - 204ms/epoch - 16ms/step\n",
      "Epoch 59/100\n",
      "13/13 - 0s - loss: 2.1712e-04 - acc: 1.0000 - val_loss: 0.0355 - val_acc: 0.9903 - 265ms/epoch - 20ms/step\n",
      "Epoch 60/100\n",
      "13/13 - 0s - loss: 2.0726e-04 - acc: 1.0000 - val_loss: 0.0363 - val_acc: 0.9903 - 256ms/epoch - 20ms/step\n",
      "Epoch 61/100\n",
      "13/13 - 0s - loss: 1.9764e-04 - acc: 1.0000 - val_loss: 0.0364 - val_acc: 0.9903 - 309ms/epoch - 24ms/step\n",
      "Epoch 62/100\n",
      "13/13 - 0s - loss: 1.8904e-04 - acc: 1.0000 - val_loss: 0.0366 - val_acc: 0.9903 - 230ms/epoch - 18ms/step\n",
      "Epoch 63/100\n",
      "13/13 - 0s - loss: 1.8130e-04 - acc: 1.0000 - val_loss: 0.0363 - val_acc: 0.9903 - 239ms/epoch - 18ms/step\n",
      "Epoch 64/100\n",
      "13/13 - 0s - loss: 1.7326e-04 - acc: 1.0000 - val_loss: 0.0366 - val_acc: 0.9903 - 269ms/epoch - 21ms/step\n",
      "Epoch 65/100\n",
      "13/13 - 0s - loss: 1.6616e-04 - acc: 1.0000 - val_loss: 0.0373 - val_acc: 0.9903 - 287ms/epoch - 22ms/step\n",
      "Epoch 66/100\n",
      "13/13 - 0s - loss: 1.5927e-04 - acc: 1.0000 - val_loss: 0.0373 - val_acc: 0.9903 - 240ms/epoch - 18ms/step\n",
      "Epoch 67/100\n",
      "13/13 - 0s - loss: 1.5358e-04 - acc: 1.0000 - val_loss: 0.0371 - val_acc: 0.9903 - 247ms/epoch - 19ms/step\n",
      "Epoch 68/100\n",
      "13/13 - 0s - loss: 1.4674e-04 - acc: 1.0000 - val_loss: 0.0377 - val_acc: 0.9903 - 271ms/epoch - 21ms/step\n",
      "Epoch 69/100\n",
      "13/13 - 0s - loss: 1.4159e-04 - acc: 1.0000 - val_loss: 0.0381 - val_acc: 0.9903 - 253ms/epoch - 19ms/step\n",
      "Epoch 70/100\n",
      "13/13 - 0s - loss: 1.3581e-04 - acc: 1.0000 - val_loss: 0.0380 - val_acc: 0.9903 - 247ms/epoch - 19ms/step\n"
     ]
    },
    {
     "name": "stdout",
     "output_type": "stream",
     "text": [
      "Epoch 71/100\n",
      "13/13 - 0s - loss: 1.3092e-04 - acc: 1.0000 - val_loss: 0.0382 - val_acc: 0.9903 - 249ms/epoch - 19ms/step\n",
      "Epoch 72/100\n",
      "13/13 - 0s - loss: 1.2596e-04 - acc: 1.0000 - val_loss: 0.0385 - val_acc: 0.9903 - 253ms/epoch - 19ms/step\n",
      "Epoch 73/100\n",
      "13/13 - 0s - loss: 1.2133e-04 - acc: 1.0000 - val_loss: 0.0387 - val_acc: 0.9903 - 250ms/epoch - 19ms/step\n",
      "Epoch 74/100\n",
      "13/13 - 0s - loss: 1.1704e-04 - acc: 1.0000 - val_loss: 0.0389 - val_acc: 0.9903 - 252ms/epoch - 19ms/step\n",
      "Epoch 75/100\n",
      "13/13 - 0s - loss: 1.1314e-04 - acc: 1.0000 - val_loss: 0.0390 - val_acc: 0.9903 - 318ms/epoch - 24ms/step\n",
      "Epoch 76/100\n",
      "13/13 - 0s - loss: 1.0895e-04 - acc: 1.0000 - val_loss: 0.0392 - val_acc: 0.9903 - 342ms/epoch - 26ms/step\n",
      "Epoch 77/100\n",
      "13/13 - 0s - loss: 1.0548e-04 - acc: 1.0000 - val_loss: 0.0390 - val_acc: 0.9903 - 256ms/epoch - 20ms/step\n",
      "Epoch 78/100\n",
      "13/13 - 0s - loss: 1.0165e-04 - acc: 1.0000 - val_loss: 0.0394 - val_acc: 0.9903 - 258ms/epoch - 20ms/step\n",
      "Epoch 79/100\n",
      "13/13 - 0s - loss: 9.8354e-05 - acc: 1.0000 - val_loss: 0.0395 - val_acc: 0.9903 - 307ms/epoch - 24ms/step\n",
      "Epoch 80/100\n",
      "13/13 - 0s - loss: 9.4950e-05 - acc: 1.0000 - val_loss: 0.0397 - val_acc: 0.9903 - 305ms/epoch - 23ms/step\n",
      "Epoch 81/100\n",
      "13/13 - 0s - loss: 9.2058e-05 - acc: 1.0000 - val_loss: 0.0398 - val_acc: 0.9903 - 248ms/epoch - 19ms/step\n",
      "Epoch 82/100\n",
      "13/13 - 0s - loss: 8.9126e-05 - acc: 1.0000 - val_loss: 0.0401 - val_acc: 0.9903 - 264ms/epoch - 20ms/step\n",
      "Epoch 83/100\n",
      "13/13 - 0s - loss: 8.6395e-05 - acc: 1.0000 - val_loss: 0.0398 - val_acc: 0.9903 - 289ms/epoch - 22ms/step\n",
      "Epoch 84/100\n",
      "13/13 - 0s - loss: 8.3603e-05 - acc: 1.0000 - val_loss: 0.0403 - val_acc: 0.9903 - 253ms/epoch - 19ms/step\n",
      "Epoch 85/100\n",
      "13/13 - 0s - loss: 8.1036e-05 - acc: 1.0000 - val_loss: 0.0406 - val_acc: 0.9903 - 230ms/epoch - 18ms/step\n",
      "Epoch 86/100\n",
      "13/13 - 0s - loss: 7.8468e-05 - acc: 1.0000 - val_loss: 0.0407 - val_acc: 0.9903 - 268ms/epoch - 21ms/step\n",
      "Epoch 87/100\n",
      "13/13 - 0s - loss: 7.6326e-05 - acc: 1.0000 - val_loss: 0.0408 - val_acc: 0.9903 - 256ms/epoch - 20ms/step\n",
      "Epoch 88/100\n",
      "13/13 - 0s - loss: 7.3851e-05 - acc: 1.0000 - val_loss: 0.0410 - val_acc: 0.9903 - 235ms/epoch - 18ms/step\n",
      "Epoch 89/100\n",
      "13/13 - 0s - loss: 7.1879e-05 - acc: 1.0000 - val_loss: 0.0412 - val_acc: 0.9903 - 235ms/epoch - 18ms/step\n",
      "Epoch 90/100\n",
      "13/13 - 0s - loss: 6.9597e-05 - acc: 1.0000 - val_loss: 0.0412 - val_acc: 0.9903 - 303ms/epoch - 23ms/step\n",
      "Epoch 91/100\n",
      "13/13 - 0s - loss: 6.7757e-05 - acc: 1.0000 - val_loss: 0.0413 - val_acc: 0.9903 - 259ms/epoch - 20ms/step\n",
      "Epoch 92/100\n",
      "13/13 - 0s - loss: 6.5844e-05 - acc: 1.0000 - val_loss: 0.0416 - val_acc: 0.9903 - 243ms/epoch - 19ms/step\n",
      "Epoch 93/100\n",
      "13/13 - 0s - loss: 6.3927e-05 - acc: 1.0000 - val_loss: 0.0418 - val_acc: 0.9903 - 229ms/epoch - 18ms/step\n",
      "Epoch 94/100\n",
      "13/13 - 0s - loss: 6.2190e-05 - acc: 1.0000 - val_loss: 0.0418 - val_acc: 0.9903 - 265ms/epoch - 20ms/step\n",
      "Epoch 95/100\n",
      "13/13 - 0s - loss: 6.0613e-05 - acc: 1.0000 - val_loss: 0.0420 - val_acc: 0.9903 - 255ms/epoch - 20ms/step\n",
      "Epoch 96/100\n",
      "13/13 - 0s - loss: 5.8909e-05 - acc: 1.0000 - val_loss: 0.0422 - val_acc: 0.9903 - 234ms/epoch - 18ms/step\n",
      "Epoch 97/100\n",
      "13/13 - 0s - loss: 5.7369e-05 - acc: 1.0000 - val_loss: 0.0426 - val_acc: 0.9903 - 262ms/epoch - 20ms/step\n",
      "Epoch 98/100\n",
      "13/13 - 0s - loss: 5.5807e-05 - acc: 1.0000 - val_loss: 0.0426 - val_acc: 0.9903 - 279ms/epoch - 21ms/step\n",
      "Epoch 99/100\n",
      "13/13 - 0s - loss: 5.4385e-05 - acc: 1.0000 - val_loss: 0.0425 - val_acc: 0.9903 - 360ms/epoch - 28ms/step\n",
      "Epoch 100/100\n",
      "13/13 - 0s - loss: 5.2850e-05 - acc: 1.0000 - val_loss: 0.0428 - val_acc: 0.9903 - 284ms/epoch - 22ms/step\n"
     ]
    }
   ],
   "source": [
    "history2=model.fit(padded_SAnewsTrain,train_labels, validation_data=(padded_SAnewsTest, test_labels),epochs=100, verbose=2,callbacks=callbacks)"
   ]
  },
  {
   "cell_type": "markdown",
   "id": "8b33a186",
   "metadata": {},
   "source": [
    "# <font color=red/blue> Loading the TensorBoard window: "
   ]
  },
  {
   "cell_type": "code",
   "execution_count": 55,
   "id": "4e523ba2",
   "metadata": {},
   "outputs": [
    {
     "data": {
      "text/html": [
       "\n",
       "      <iframe id=\"tensorboard-frame-d3f7ed2ea3568f6e\" width=\"100%\" height=\"800\" frameborder=\"0\">\n",
       "      </iframe>\n",
       "      <script>\n",
       "        (function() {\n",
       "          const frame = document.getElementById(\"tensorboard-frame-d3f7ed2ea3568f6e\");\n",
       "          const url = new URL(\"/\", window.location);\n",
       "          const port = 6006;\n",
       "          if (port) {\n",
       "            url.port = port;\n",
       "          }\n",
       "          frame.src = url;\n",
       "        })();\n",
       "      </script>\n",
       "    "
      ],
      "text/plain": [
       "<IPython.core.display.HTML object>"
      ]
     },
     "metadata": {},
     "output_type": "display_data"
    }
   ],
   "source": [
    "%tensorboard --logdir={log_folder}"
   ]
  },
  {
   "cell_type": "markdown",
   "id": "7874c933",
   "metadata": {},
   "source": [
    "### <font color=blue> Once the training process is completed, embedding layer has learnt the weights which are nothing but the vector representations of each word. Lets check the shape of the weight matrix."
   ]
  },
  {
   "cell_type": "code",
   "execution_count": 56,
   "id": "67a27e2f",
   "metadata": {},
   "outputs": [
    {
     "name": "stdout",
     "output_type": "stream",
     "text": [
      "(1000, 30)\n"
     ]
    }
   ],
   "source": [
    "print(embedding_layer.get_weights()[0].shape)"
   ]
  },
  {
   "cell_type": "markdown",
   "id": "330d2727",
   "metadata": {},
   "source": [
    "## The embeddings for the first sentence/news headline: \n",
    "## <font color=violet> Remember that each sentence has a set of words, and each word is represented by a vector"
   ]
  },
  {
   "cell_type": "code",
   "execution_count": 57,
   "id": "4c827f97",
   "metadata": {},
   "outputs": [
    {
     "data": {
      "text/plain": [
       "array([[-0.1682222 ,  0.28814766, -0.02541237, ..., -0.02415643,\n",
       "         0.22570872, -0.00427062],\n",
       "       [-0.03295565, -0.02915876, -0.00333955, ..., -0.04547128,\n",
       "         0.00955964, -0.0243965 ],\n",
       "       [ 0.00138476, -0.04770784,  0.00798789, ..., -0.04709004,\n",
       "        -0.0221489 , -0.00370425],\n",
       "       ...,\n",
       "       [ 0.01067356, -0.03187487, -0.00523857, ...,  0.03072556,\n",
       "        -0.02439621,  0.0293604 ],\n",
       "       [ 0.05884894,  0.03077802, -0.04981875, ...,  0.15074877,\n",
       "         0.01403188,  0.01654066],\n",
       "       [-0.0263462 , -0.01099185,  0.03430549, ..., -0.02645595,\n",
       "        -0.00119809, -0.02411954]], dtype=float32)"
      ]
     },
     "execution_count": 57,
     "metadata": {},
     "output_type": "execute_result"
    }
   ],
   "source": [
    "embedding_layer.get_weights()[0]"
   ]
  },
  {
   "cell_type": "markdown",
   "id": "782c7690",
   "metadata": {},
   "source": [
    "# Plotting the Performance of the Model"
   ]
  },
  {
   "cell_type": "code",
   "execution_count": 58,
   "id": "4c7b93d5",
   "metadata": {},
   "outputs": [
    {
     "data": {
      "text/plain": [
       "Text(0.5, 0, 'Epochs')"
      ]
     },
     "execution_count": 58,
     "metadata": {},
     "output_type": "execute_result"
    },
    {
     "data": {
      "image/png": "[encoded data removed]",
      "text/plain": [
       "<Figure size 640x480 with 1 Axes>"
      ]
     },
     "metadata": {},
     "output_type": "display_data"
    }
   ],
   "source": [
    "#plot history (Also known as loss curve or a training curve)\n",
    "import matplotlib.pyplot as plt\n",
    "pd.DataFrame(history2.history).plot()\n",
    "plt.ylabel(\"Loss\")\n",
    "plt.xlabel(\"Epochs\")"
   ]
  },
  {
   "cell_type": "markdown",
   "id": "defa93d8",
   "metadata": {},
   "source": [
    "#### <font color=violet> NB: you need to identify from the above plot the exact number of epochs that generates maximum performance"
   ]
  },
  {
   "cell_type": "code",
   "execution_count": 59,
   "id": "0c21f4c1",
   "metadata": {},
   "outputs": [
    {
     "name": "stdout",
     "output_type": "stream",
     "text": [
      "4/4 [==============================] - 0s 5ms/step - loss: 0.0428 - acc: 0.9903\n"
     ]
    },
    {
     "data": {
      "text/plain": [
       "[0.042839206755161285, 0.9902912378311157]"
      ]
     },
     "execution_count": 59,
     "metadata": {},
     "output_type": "execute_result"
    }
   ],
   "source": [
    "# Check the results\n",
    "model.evaluate(padded_SAnewsTest, test_labels)"
   ]
  },
  {
   "cell_type": "markdown",
   "id": "3febafee",
   "metadata": {},
   "source": [
    "## Make predictions: (since \"sigmoid\" activation function is used, we get predictions back in the form of probabilities. if close to \"1\" then yhat =1, otherwise yhat=0"
   ]
  },
  {
   "cell_type": "code",
   "execution_count": 60,
   "id": "2c3898e1",
   "metadata": {},
   "outputs": [
    {
     "name": "stdout",
     "output_type": "stream",
     "text": [
      "4/4 [==============================] - 0s 7ms/step\n"
     ]
    }
   ],
   "source": [
    "y_pred_probs = model.predict(padded_SAnewsTest)"
   ]
  },
  {
   "cell_type": "code",
   "execution_count": 61,
   "id": "7d70c8dc",
   "metadata": {},
   "outputs": [
    {
     "data": {
      "text/plain": [
       "array([[1.05807085e-05],\n",
       "       [2.53182316e-05],\n",
       "       [4.75692104e-06],\n",
       "       [9.35955644e-02],\n",
       "       [2.45014178e-07],\n",
       "       [9.99870479e-01],\n",
       "       [1.27909561e-06],\n",
       "       [9.59037602e-01],\n",
       "       [3.86178453e-06],\n",
       "       [1.19344426e-04]], dtype=float32)"
      ]
     },
     "execution_count": 61,
     "metadata": {},
     "output_type": "execute_result"
    }
   ],
   "source": [
    "y_pred_probs[:10] ## if close to \"1\" then yhat =1, otherwise yhat=0"
   ]
  },
  {
   "cell_type": "markdown",
   "id": "0549d432",
   "metadata": {},
   "source": [
    "### <font color=red/green> To convert them to prediction classes, we'll use tf.round(), meaning prediction probabilities below 0.5 will be rounded to 0 and those above 0.5 will be rounded to 1."
   ]
  },
  {
   "cell_type": "code",
   "execution_count": 62,
   "id": "8ec9f341",
   "metadata": {},
   "outputs": [
    {
     "data": {
      "text/plain": [
       "<tf.Tensor: shape=(20,), dtype=float32, numpy=\n",
       "array([0., 0., 0., 0., 0., 1., 0., 1., 0., 0., 0., 0., 0., 0., 0., 0., 0.,\n",
       "       0., 0., 0.], dtype=float32)>"
      ]
     },
     "execution_count": 62,
     "metadata": {},
     "output_type": "execute_result"
    }
   ],
   "source": [
    "# Turn prediction probabilities into single-dimension tensor of floats\n",
    "import tensorflow as tf\n",
    "y_pred = tf.squeeze(tf.round(y_pred_probs)) # squeeze removes single dimensions\n",
    "y_pred [:20]"
   ]
  },
  {
   "cell_type": "markdown",
   "id": "1834a197",
   "metadata": {},
   "source": [
    "## <font color=blue> Confusion Matrix"
   ]
  },
  {
   "cell_type": "code",
   "execution_count": 63,
   "id": "bdfc8669",
   "metadata": {},
   "outputs": [
    {
     "data": {
      "text/plain": [
       "<Axes: >"
      ]
     },
     "execution_count": 63,
     "metadata": {},
     "output_type": "execute_result"
    },
    {
     "data": {
      "image/png": "[encoded data removed]",
      "text/plain": [
       "<Figure size 640x480 with 2 Axes>"
      ]
     },
     "metadata": {},
     "output_type": "display_data"
    }
   ],
   "source": [
    "# Making the Confusion Matrix \n",
    "from sklearn.metrics import confusion_matrix\n",
    "conf_matrix=confusion_matrix(test_labels, y_pred)\n",
    "import seaborn as sns\n",
    "sns.heatmap(conf_matrix, annot=True)"
   ]
  },
  {
   "cell_type": "markdown",
   "id": "4905e79f",
   "metadata": {},
   "source": [
    "## <font color=blue> Classification metrics: recall, F-score, precision"
   ]
  },
  {
   "cell_type": "code",
   "execution_count": 64,
   "id": "2c48105b",
   "metadata": {},
   "outputs": [
    {
     "name": "stdout",
     "output_type": "stream",
     "text": [
      "              precision    recall  f1-score   support\n",
      "\n",
      "           0       0.99      1.00      0.99        81\n",
      "           1       1.00      0.95      0.98        22\n",
      "\n",
      "    accuracy                           0.99       103\n",
      "   macro avg       0.99      0.98      0.99       103\n",
      "weighted avg       0.99      0.99      0.99       103\n",
      "\n"
     ]
    }
   ],
   "source": [
    "from sklearn.metrics import classification_report\n",
    "print(classification_report(test_labels,y_pred))"
   ]
  },
  {
   "cell_type": "markdown",
   "id": "b975b04e",
   "metadata": {},
   "source": [
    "# <font color=blue> Plotting the Area Under the Curve (AUC) - ROC Curve"
   ]
  },
  {
   "cell_type": "code",
   "execution_count": 65,
   "id": "0b6198ba",
   "metadata": {},
   "outputs": [
    {
     "name": "stdout",
     "output_type": "stream",
     "text": [
      "4/4 [==============================] - 0s 2ms/step\n"
     ]
    },
    {
     "data": {
      "image/png": "[encoded data removed]",
      "text/plain": [
       "<Figure size 640x480 with 1 Axes>"
      ]
     },
     "metadata": {},
     "output_type": "display_data"
    }
   ],
   "source": [
    "from sklearn.metrics import roc_curve\n",
    "from sklearn.metrics import auc\n",
    "y_pred_keras = tf.squeeze(tf.round(model.predict(padded_SAnewsTest)))\n",
    "fpr_keras, tpr_keras, thresholds_keras = roc_curve(test_labels, y_pred_keras)\n",
    "auc_keras = auc(fpr_keras, tpr_keras)\n",
    "plt.figure(1)\n",
    "plt.plot([0, 1], [0, 1], 'k--')\n",
    "plt.plot(fpr_keras, tpr_keras, label='Deep Learning Keras Model (area = {:.3f})'.format(auc_keras))\n",
    "plt.xlabel('False positive rate')\n",
    "plt.ylabel('True positive rate')\n",
    "plt.title('Receiver Operating Characteristic curve')\n",
    "plt.legend(loc='best')\n",
    "plt.show()"
   ]
  },
  {
   "cell_type": "code",
   "execution_count": null,
   "id": "08572b21",
   "metadata": {},
   "outputs": [],
   "source": []
  }
 ],
 "metadata": {
  "kernelspec": {
   "display_name": "Python 3 (ipykernel)",
   "language": "python",
   "name": "python3"
  },
  "language_info": {
   "codemirror_mode": {
    "name": "ipython",
    "version": 3
   },
   "file_extension": ".py",
   "mimetype": "text/x-python",
   "name": "python",
   "nbconvert_exporter": "python",
   "pygments_lexer": "ipython3",
   "version": "3.11.7"
  }
 },
 "nbformat": 4,
 "nbformat_minor": 5
}
