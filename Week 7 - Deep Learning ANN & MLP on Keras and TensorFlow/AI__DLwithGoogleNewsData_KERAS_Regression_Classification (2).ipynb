{
 "cells": [
  {
   "cell_type": "markdown",
   "id": "8fffb513",
   "metadata": {},
   "source": [
    "# <font color=red> Classification and Regression based Neural Networks on Keras and Tensorflow. keras\n",
    "\n",
    "# <font color=red> By Prof John Weirstrass MUTEBA MWAMBA"
   ]
  },
  {
   "cell_type": "code",
   "execution_count": 1,
   "id": "83f86548",
   "metadata": {},
   "outputs": [],
   "source": [
    "import tensorflow as tf\n",
    "from keras.models import Sequential\n",
    "import pandas as pd\n",
    "from keras.layers import Dense"
   ]
  },
  {
   "cell_type": "code",
   "execution_count": 2,
   "id": "dc4d6fe4",
   "metadata": {},
   "outputs": [
    {
     "data": {
      "text/plain": [
       "'2.12.0'"
      ]
     },
     "execution_count": 2,
     "metadata": {},
     "output_type": "execute_result"
    }
   ],
   "source": [
    "tf. __version__"
   ]
  },
  {
   "cell_type": "code",
   "execution_count": 3,
   "id": "002f21da",
   "metadata": {},
   "outputs": [],
   "source": [
    "tf.random.set_seed(42)"
   ]
  },
  {
   "cell_type": "markdown",
   "id": "714e7a90",
   "metadata": {},
   "source": [
    "# <font color=blue/> 1. CLASSIFICATION PROBLEM"
   ]
  },
  {
   "cell_type": "markdown",
   "id": "42dcd37c",
   "metadata": {},
   "source": [
    "### Read the data on Diabetes:\n",
    "pregnancies - Number of times pregnant\n",
    "glucose - Plasma glucose concentration\n",
    "diastolic - diastolic blood pressure (mm Hg)\n",
    "triceps - Skinfold thickness (mm)\n",
    "insulin - Hour serum insulin (mu U/ml)\n",
    "bmi – Basal metabolic rate (weight in kg/height in m)\n",
    "dpf - Diabetes pedigree function\n",
    "Age - Age in years\n",
    "Outcome - 1 represents the presence of diabetes while 0 represents the absence of it. This is the target variable."
   ]
  },
  {
   "cell_type": "code",
   "execution_count": 4,
   "id": "f9599e1c",
   "metadata": {},
   "outputs": [],
   "source": [
    "dat=pd.read_csv('C:/Users/User/OneDrive/Desktop/DATAforML/diabetes.csv',sep=',')"
   ]
  },
  {
   "cell_type": "code",
   "execution_count": 5,
   "id": "4c6f4d15",
   "metadata": {},
   "outputs": [
    {
     "data": {
      "text/html": [
       "<div>\n",
       "<style scoped>\n",
       "    .dataframe tbody tr th:only-of-type {\n",
       "        vertical-align: middle;\n",
       "    }\n",
       "\n",
       "    .dataframe tbody tr th {\n",
       "        vertical-align: top;\n",
       "    }\n",
       "\n",
       "    .dataframe thead th {\n",
       "        text-align: right;\n",
       "    }\n",
       "</style>\n",
       "<table border=\"1\" class=\"dataframe\">\n",
       "  <thead>\n",
       "    <tr style=\"text-align: right;\">\n",
       "      <th></th>\n",
       "      <th>Pregnancies</th>\n",
       "      <th>Glucose</th>\n",
       "      <th>BloodPressure</th>\n",
       "      <th>SkinThickness</th>\n",
       "      <th>Insulin</th>\n",
       "      <th>BMI</th>\n",
       "      <th>DiabetesPedigreeFunction</th>\n",
       "      <th>Age</th>\n",
       "      <th>Outcome</th>\n",
       "    </tr>\n",
       "  </thead>\n",
       "  <tbody>\n",
       "    <tr>\n",
       "      <th>0</th>\n",
       "      <td>6</td>\n",
       "      <td>148</td>\n",
       "      <td>72</td>\n",
       "      <td>35</td>\n",
       "      <td>0</td>\n",
       "      <td>33.6</td>\n",
       "      <td>0.627</td>\n",
       "      <td>50</td>\n",
       "      <td>1</td>\n",
       "    </tr>\n",
       "    <tr>\n",
       "      <th>1</th>\n",
       "      <td>1</td>\n",
       "      <td>85</td>\n",
       "      <td>66</td>\n",
       "      <td>29</td>\n",
       "      <td>0</td>\n",
       "      <td>26.6</td>\n",
       "      <td>0.351</td>\n",
       "      <td>31</td>\n",
       "      <td>0</td>\n",
       "    </tr>\n",
       "    <tr>\n",
       "      <th>2</th>\n",
       "      <td>8</td>\n",
       "      <td>183</td>\n",
       "      <td>64</td>\n",
       "      <td>0</td>\n",
       "      <td>0</td>\n",
       "      <td>23.3</td>\n",
       "      <td>0.672</td>\n",
       "      <td>32</td>\n",
       "      <td>1</td>\n",
       "    </tr>\n",
       "    <tr>\n",
       "      <th>3</th>\n",
       "      <td>1</td>\n",
       "      <td>89</td>\n",
       "      <td>66</td>\n",
       "      <td>23</td>\n",
       "      <td>94</td>\n",
       "      <td>28.1</td>\n",
       "      <td>0.167</td>\n",
       "      <td>21</td>\n",
       "      <td>0</td>\n",
       "    </tr>\n",
       "    <tr>\n",
       "      <th>4</th>\n",
       "      <td>0</td>\n",
       "      <td>137</td>\n",
       "      <td>40</td>\n",
       "      <td>35</td>\n",
       "      <td>168</td>\n",
       "      <td>43.1</td>\n",
       "      <td>2.288</td>\n",
       "      <td>33</td>\n",
       "      <td>1</td>\n",
       "    </tr>\n",
       "  </tbody>\n",
       "</table>\n",
       "</div>"
      ],
      "text/plain": [
       "   Pregnancies  Glucose  BloodPressure  SkinThickness  Insulin   BMI  \\\n",
       "0            6      148             72             35        0  33.6   \n",
       "1            1       85             66             29        0  26.6   \n",
       "2            8      183             64              0        0  23.3   \n",
       "3            1       89             66             23       94  28.1   \n",
       "4            0      137             40             35      168  43.1   \n",
       "\n",
       "   DiabetesPedigreeFunction  Age  Outcome  \n",
       "0                     0.627   50        1  \n",
       "1                     0.351   31        0  \n",
       "2                     0.672   32        1  \n",
       "3                     0.167   21        0  \n",
       "4                     2.288   33        1  "
      ]
     },
     "execution_count": 5,
     "metadata": {},
     "output_type": "execute_result"
    }
   ],
   "source": [
    "dat.head()"
   ]
  },
  {
   "cell_type": "markdown",
   "id": "7e4aa627",
   "metadata": {},
   "source": [
    "#### Split the Data"
   ]
  },
  {
   "cell_type": "code",
   "execution_count": 6,
   "id": "8620ea8f",
   "metadata": {},
   "outputs": [],
   "source": [
    "import numpy as np\n",
    "labels=dat['Outcome']\n",
    "features = dat.iloc[:,0:8]\n",
    "from sklearn.model_selection import train_test_split\n",
    "X0=features\n",
    "y0=np.ravel(labels)\n",
    "X_train0, X_test0, y_train0, y_test0 = train_test_split(X0, y0, test_size=0.33, random_state=42) "
   ]
  },
  {
   "cell_type": "markdown",
   "id": "0e5453c6",
   "metadata": {},
   "source": [
    "## Scaling data"
   ]
  },
  {
   "cell_type": "code",
   "execution_count": 7,
   "id": "875fa877",
   "metadata": {},
   "outputs": [],
   "source": [
    "from sklearn.preprocessing import StandardScaler\n",
    "scaler = StandardScaler().fit(X_train0)\n",
    "X_train0 = scaler.transform(X_train0)\n",
    "X_test0 = scaler.transform(X_test0)  "
   ]
  },
  {
   "cell_type": "markdown",
   "id": "cb66cc09",
   "metadata": {},
   "source": [
    "### Visualizing X_train0"
   ]
  },
  {
   "cell_type": "code",
   "execution_count": 8,
   "id": "16e44d63",
   "metadata": {},
   "outputs": [
    {
     "data": {
      "text/plain": [
       "array([[ 1.89917664, -0.19475093,  1.55717838, ..., -1.04293476,\n",
       "         1.60661512,  0.06905859],\n",
       "       [ 0.98286551,  0.64046336, -0.55496107, ..., -0.4148062 ,\n",
       "         0.62609815,  2.37289284],\n",
       "       [ 0.06655438, -0.16381707,  0.11203033, ..., -1.29156898,\n",
       "        -0.02953111,  0.32504017],\n",
       "       ...,\n",
       "       [ 1.89917664, -0.62782501,  0.89018698, ...,  1.78364376,\n",
       "         1.94028358,  0.41036736],\n",
       "       [-1.1551938 ,  0.6095295 , -3.88991811, ...,  1.36489138,\n",
       "        -0.78467552, -0.35757739],\n",
       "       [-1.1551938 ,  0.11458769,  1.44601315, ..., -1.23922494,\n",
       "        -0.61784129, -1.04019494]])"
      ]
     },
     "execution_count": 8,
     "metadata": {},
     "output_type": "execute_result"
    }
   ],
   "source": [
    "X_train0"
   ]
  },
  {
   "cell_type": "markdown",
   "id": "79dd2de0",
   "metadata": {},
   "source": [
    "### Shape of X_train0: number of columns"
   ]
  },
  {
   "cell_type": "code",
   "execution_count": 9,
   "id": "ddd80af0",
   "metadata": {},
   "outputs": [
    {
     "data": {
      "text/plain": [
       "8"
      ]
     },
     "execution_count": 9,
     "metadata": {},
     "output_type": "execute_result"
    }
   ],
   "source": [
    "X_train0.shape[1]"
   ]
  },
  {
   "cell_type": "markdown",
   "id": "f69ab4c8",
   "metadata": {},
   "source": [
    "## <font color=blue> to see how the model improves, start with the first 2 hidden layers then all "
   ]
  },
  {
   "cell_type": "code",
   "execution_count": 10,
   "id": "e23819b7",
   "metadata": {},
   "outputs": [],
   "source": [
    "from keras.models import Sequential\n",
    "from keras.layers import Dense\n",
    "model0 = Sequential()\n",
    "model0.add(Dense(32, activation='relu', input_shape=(8,)))  ## input_shape=8 as the X_train0 is: FIRST HIDDEN LAYER\n",
    "model0.add(Dense(16, activation='relu')) ## SECOND HIDDEN LAYER\n",
    "model0.add(Dense(8, activation='relu')) ### THIRD HIDDEN LAYER\n",
    "model0.add(Dense(1, activation='sigmoid'))  ## OUTPUT LAYER "
   ]
  },
  {
   "cell_type": "markdown",
   "id": "1701eb09",
   "metadata": {},
   "source": [
    "### Compile the model"
   ]
  },
  {
   "cell_type": "code",
   "execution_count": 11,
   "id": "ee56102d",
   "metadata": {},
   "outputs": [],
   "source": [
    "model0.compile(loss='binary_crossentropy',\n",
    "optimizer='sgd',\n",
    "metrics=['accuracy'])"
   ]
  },
  {
   "cell_type": "markdown",
   "id": "bc09e565",
   "metadata": {},
   "source": [
    "## model summary of parammeters to be estimated"
   ]
  },
  {
   "cell_type": "code",
   "execution_count": 12,
   "id": "39c826b4",
   "metadata": {},
   "outputs": [
    {
     "name": "stdout",
     "output_type": "stream",
     "text": [
      "Model: \"sequential\"\n",
      "_________________________________________________________________\n",
      " Layer (type)                Output Shape              Param #   \n",
      "=================================================================\n",
      " dense (Dense)               (None, 32)                288       \n",
      "                                                                 \n",
      " dense_1 (Dense)             (None, 16)                528       \n",
      "                                                                 \n",
      " dense_2 (Dense)             (None, 8)                 136       \n",
      "                                                                 \n",
      " dense_3 (Dense)             (None, 1)                 9         \n",
      "                                                                 \n",
      "=================================================================\n",
      "Total params: 961\n",
      "Trainable params: 961\n",
      "Non-trainable params: 0\n",
      "_________________________________________________________________\n"
     ]
    }
   ],
   "source": [
    "model0.summary()"
   ]
  },
  {
   "cell_type": "markdown",
   "id": "477ffe56",
   "metadata": {},
   "source": [
    "## Building the mode: "
   ]
  },
  {
   "cell_type": "code",
   "execution_count": 13,
   "id": "5d136403",
   "metadata": {},
   "outputs": [
    {
     "name": "stdout",
     "output_type": "stream",
     "text": [
      "Epoch 1/100\n",
      "514/514 - 1s - loss: 0.6632 - accuracy: 0.6245 - 1s/epoch - 3ms/step\n",
      "Epoch 2/100\n",
      "514/514 - 1s - loss: 0.5780 - accuracy: 0.7393 - 706ms/epoch - 1ms/step\n",
      "Epoch 3/100\n",
      "514/514 - 1s - loss: 0.5317 - accuracy: 0.7743 - 546ms/epoch - 1ms/step\n",
      "Epoch 4/100\n",
      "514/514 - 1s - loss: 0.5061 - accuracy: 0.7840 - 717ms/epoch - 1ms/step\n",
      "Epoch 5/100\n",
      "514/514 - 1s - loss: 0.4890 - accuracy: 0.7763 - 673ms/epoch - 1ms/step\n",
      "Epoch 6/100\n",
      "514/514 - 1s - loss: 0.4688 - accuracy: 0.7899 - 665ms/epoch - 1ms/step\n",
      "Epoch 7/100\n",
      "514/514 - 1s - loss: 0.4656 - accuracy: 0.7957 - 693ms/epoch - 1ms/step\n",
      "Epoch 8/100\n",
      "514/514 - 1s - loss: 0.4571 - accuracy: 0.7938 - 655ms/epoch - 1ms/step\n",
      "Epoch 9/100\n",
      "514/514 - 1s - loss: 0.4450 - accuracy: 0.8113 - 621ms/epoch - 1ms/step\n",
      "Epoch 10/100\n",
      "514/514 - 1s - loss: 0.4445 - accuracy: 0.7918 - 678ms/epoch - 1ms/step\n",
      "Epoch 11/100\n",
      "514/514 - 1s - loss: 0.4339 - accuracy: 0.8016 - 661ms/epoch - 1ms/step\n",
      "Epoch 12/100\n",
      "514/514 - 1s - loss: 0.4237 - accuracy: 0.8035 - 607ms/epoch - 1ms/step\n",
      "Epoch 13/100\n",
      "514/514 - 1s - loss: 0.4198 - accuracy: 0.8132 - 668ms/epoch - 1ms/step\n",
      "Epoch 14/100\n",
      "514/514 - 1s - loss: 0.4105 - accuracy: 0.8054 - 638ms/epoch - 1ms/step\n",
      "Epoch 15/100\n",
      "514/514 - 1s - loss: 0.4038 - accuracy: 0.8074 - 628ms/epoch - 1ms/step\n",
      "Epoch 16/100\n",
      "514/514 - 1s - loss: 0.3999 - accuracy: 0.8016 - 649ms/epoch - 1ms/step\n",
      "Epoch 17/100\n",
      "514/514 - 1s - loss: 0.3954 - accuracy: 0.8113 - 597ms/epoch - 1ms/step\n",
      "Epoch 18/100\n",
      "514/514 - 1s - loss: 0.3949 - accuracy: 0.8230 - 642ms/epoch - 1ms/step\n",
      "Epoch 19/100\n",
      "514/514 - 1s - loss: 0.3786 - accuracy: 0.8424 - 622ms/epoch - 1ms/step\n",
      "Epoch 20/100\n",
      "514/514 - 1s - loss: 0.3769 - accuracy: 0.8191 - 580ms/epoch - 1ms/step\n",
      "Epoch 21/100\n",
      "514/514 - 1s - loss: 0.3740 - accuracy: 0.8424 - 648ms/epoch - 1ms/step\n",
      "Epoch 22/100\n",
      "514/514 - 1s - loss: 0.3653 - accuracy: 0.8482 - 619ms/epoch - 1ms/step\n",
      "Epoch 23/100\n",
      "514/514 - 1s - loss: 0.3569 - accuracy: 0.8307 - 599ms/epoch - 1ms/step\n",
      "Epoch 24/100\n",
      "514/514 - 1s - loss: 0.3547 - accuracy: 0.8385 - 637ms/epoch - 1ms/step\n",
      "Epoch 25/100\n",
      "514/514 - 1s - loss: 0.3436 - accuracy: 0.8405 - 532ms/epoch - 1ms/step\n",
      "Epoch 26/100\n",
      "514/514 - 1s - loss: 0.3477 - accuracy: 0.8463 - 605ms/epoch - 1ms/step\n",
      "Epoch 27/100\n",
      "514/514 - 1s - loss: 0.3565 - accuracy: 0.8288 - 547ms/epoch - 1ms/step\n",
      "Epoch 28/100\n",
      "514/514 - 1s - loss: 0.3459 - accuracy: 0.8444 - 595ms/epoch - 1ms/step\n",
      "Epoch 29/100\n",
      "514/514 - 1s - loss: 0.3389 - accuracy: 0.8385 - 572ms/epoch - 1ms/step\n",
      "Epoch 30/100\n",
      "514/514 - 1s - loss: 0.3423 - accuracy: 0.8502 - 666ms/epoch - 1ms/step\n",
      "Epoch 31/100\n",
      "514/514 - 1s - loss: 0.3273 - accuracy: 0.8502 - 724ms/epoch - 1ms/step\n",
      "Epoch 32/100\n",
      "514/514 - 1s - loss: 0.3118 - accuracy: 0.8599 - 795ms/epoch - 2ms/step\n",
      "Epoch 33/100\n",
      "514/514 - 1s - loss: 0.3068 - accuracy: 0.8696 - 589ms/epoch - 1ms/step\n",
      "Epoch 34/100\n",
      "514/514 - 1s - loss: 0.3230 - accuracy: 0.8638 - 678ms/epoch - 1ms/step\n",
      "Epoch 35/100\n",
      "514/514 - 1s - loss: 0.3152 - accuracy: 0.8735 - 667ms/epoch - 1ms/step\n",
      "Epoch 36/100\n",
      "514/514 - 1s - loss: 0.2985 - accuracy: 0.8755 - 617ms/epoch - 1ms/step\n",
      "Epoch 37/100\n",
      "514/514 - 1s - loss: 0.3103 - accuracy: 0.8677 - 654ms/epoch - 1ms/step\n",
      "Epoch 38/100\n",
      "514/514 - 1s - loss: 0.3018 - accuracy: 0.8677 - 616ms/epoch - 1ms/step\n",
      "Epoch 39/100\n",
      "514/514 - 1s - loss: 0.3075 - accuracy: 0.8638 - 654ms/epoch - 1ms/step\n",
      "Epoch 40/100\n",
      "514/514 - 1s - loss: 0.2825 - accuracy: 0.8833 - 644ms/epoch - 1ms/step\n",
      "Epoch 41/100\n",
      "514/514 - 1s - loss: 0.2936 - accuracy: 0.8833 - 651ms/epoch - 1ms/step\n",
      "Epoch 42/100\n",
      "514/514 - 1s - loss: 0.2812 - accuracy: 0.8911 - 653ms/epoch - 1ms/step\n",
      "Epoch 43/100\n",
      "514/514 - 1s - loss: 0.2724 - accuracy: 0.8755 - 643ms/epoch - 1ms/step\n",
      "Epoch 44/100\n",
      "514/514 - 1s - loss: 0.2688 - accuracy: 0.8949 - 659ms/epoch - 1ms/step\n",
      "Epoch 45/100\n",
      "514/514 - 1s - loss: 0.2778 - accuracy: 0.8833 - 659ms/epoch - 1ms/step\n",
      "Epoch 46/100\n",
      "514/514 - 1s - loss: 0.2558 - accuracy: 0.9047 - 757ms/epoch - 1ms/step\n",
      "Epoch 47/100\n",
      "514/514 - 1s - loss: 0.2616 - accuracy: 0.8852 - 623ms/epoch - 1ms/step\n",
      "Epoch 48/100\n",
      "514/514 - 1s - loss: 0.2615 - accuracy: 0.8949 - 738ms/epoch - 1ms/step\n",
      "Epoch 49/100\n",
      "514/514 - 1s - loss: 0.2384 - accuracy: 0.9008 - 533ms/epoch - 1ms/step\n",
      "Epoch 50/100\n",
      "514/514 - 1s - loss: 0.2415 - accuracy: 0.9027 - 576ms/epoch - 1ms/step\n",
      "Epoch 51/100\n",
      "514/514 - 1s - loss: 0.2369 - accuracy: 0.9047 - 653ms/epoch - 1ms/step\n",
      "Epoch 52/100\n",
      "514/514 - 1s - loss: 0.2509 - accuracy: 0.9047 - 656ms/epoch - 1ms/step\n",
      "Epoch 53/100\n",
      "514/514 - 1s - loss: 0.2235 - accuracy: 0.9222 - 595ms/epoch - 1ms/step\n",
      "Epoch 54/100\n",
      "514/514 - 1s - loss: 0.2429 - accuracy: 0.8872 - 610ms/epoch - 1ms/step\n",
      "Epoch 55/100\n",
      "514/514 - 1s - loss: 0.2347 - accuracy: 0.8988 - 621ms/epoch - 1ms/step\n",
      "Epoch 56/100\n",
      "514/514 - 1s - loss: 0.2381 - accuracy: 0.8949 - 629ms/epoch - 1ms/step\n",
      "Epoch 57/100\n",
      "514/514 - 1s - loss: 0.2147 - accuracy: 0.9105 - 666ms/epoch - 1ms/step\n",
      "Epoch 58/100\n",
      "514/514 - 1s - loss: 0.2281 - accuracy: 0.9066 - 656ms/epoch - 1ms/step\n",
      "Epoch 59/100\n",
      "514/514 - 1s - loss: 0.2153 - accuracy: 0.9241 - 633ms/epoch - 1ms/step\n",
      "Epoch 60/100\n",
      "514/514 - 1s - loss: 0.2225 - accuracy: 0.9047 - 623ms/epoch - 1ms/step\n",
      "Epoch 61/100\n",
      "514/514 - 1s - loss: 0.2044 - accuracy: 0.9163 - 590ms/epoch - 1ms/step\n",
      "Epoch 62/100\n",
      "514/514 - 1s - loss: 0.1867 - accuracy: 0.9202 - 645ms/epoch - 1ms/step\n",
      "Epoch 63/100\n",
      "514/514 - 1s - loss: 0.1970 - accuracy: 0.9280 - 600ms/epoch - 1ms/step\n",
      "Epoch 64/100\n",
      "514/514 - 1s - loss: 0.1860 - accuracy: 0.9280 - 623ms/epoch - 1ms/step\n",
      "Epoch 65/100\n",
      "514/514 - 1s - loss: 0.2018 - accuracy: 0.9241 - 632ms/epoch - 1ms/step\n",
      "Epoch 66/100\n",
      "514/514 - 1s - loss: 0.2172 - accuracy: 0.9222 - 602ms/epoch - 1ms/step\n",
      "Epoch 67/100\n",
      "514/514 - 1s - loss: 0.1839 - accuracy: 0.9241 - 683ms/epoch - 1ms/step\n",
      "Epoch 68/100\n",
      "514/514 - 1s - loss: 0.1939 - accuracy: 0.9086 - 665ms/epoch - 1ms/step\n",
      "Epoch 69/100\n",
      "514/514 - 1s - loss: 0.2014 - accuracy: 0.9222 - 659ms/epoch - 1ms/step\n",
      "Epoch 70/100\n",
      "514/514 - 1s - loss: 0.1868 - accuracy: 0.9319 - 651ms/epoch - 1ms/step\n",
      "Epoch 71/100\n",
      "514/514 - 1s - loss: 0.1726 - accuracy: 0.9377 - 630ms/epoch - 1ms/step\n",
      "Epoch 72/100\n",
      "514/514 - 1s - loss: 0.1545 - accuracy: 0.9436 - 645ms/epoch - 1ms/step\n",
      "Epoch 73/100\n",
      "514/514 - 1s - loss: 0.1571 - accuracy: 0.9416 - 598ms/epoch - 1ms/step\n",
      "Epoch 74/100\n",
      "514/514 - 1s - loss: 0.1628 - accuracy: 0.9300 - 580ms/epoch - 1ms/step\n",
      "Epoch 75/100\n",
      "514/514 - 1s - loss: 0.1979 - accuracy: 0.9222 - 622ms/epoch - 1ms/step\n",
      "Epoch 76/100\n",
      "514/514 - 1s - loss: 0.1812 - accuracy: 0.9300 - 621ms/epoch - 1ms/step\n",
      "Epoch 77/100\n",
      "514/514 - 1s - loss: 0.2084 - accuracy: 0.9183 - 685ms/epoch - 1ms/step\n",
      "Epoch 78/100\n",
      "514/514 - 1s - loss: 0.1796 - accuracy: 0.9416 - 699ms/epoch - 1ms/step\n",
      "Epoch 79/100\n",
      "514/514 - 1s - loss: 0.1811 - accuracy: 0.9339 - 605ms/epoch - 1ms/step\n",
      "Epoch 80/100\n",
      "514/514 - 1s - loss: 0.1802 - accuracy: 0.9319 - 647ms/epoch - 1ms/step\n",
      "Epoch 81/100\n",
      "514/514 - 1s - loss: 0.1644 - accuracy: 0.9416 - 577ms/epoch - 1ms/step\n",
      "Epoch 82/100\n",
      "514/514 - 1s - loss: 0.1226 - accuracy: 0.9669 - 590ms/epoch - 1ms/step\n",
      "Epoch 83/100\n",
      "514/514 - 1s - loss: 0.1453 - accuracy: 0.9455 - 620ms/epoch - 1ms/step\n",
      "Epoch 84/100\n",
      "514/514 - 1s - loss: 0.1257 - accuracy: 0.9591 - 543ms/epoch - 1ms/step\n",
      "Epoch 85/100\n",
      "514/514 - 1s - loss: 0.1673 - accuracy: 0.9436 - 642ms/epoch - 1ms/step\n",
      "Epoch 86/100\n",
      "514/514 - 1s - loss: 0.2569 - accuracy: 0.9047 - 580ms/epoch - 1ms/step\n",
      "Epoch 87/100\n",
      "514/514 - 1s - loss: 0.1417 - accuracy: 0.9416 - 616ms/epoch - 1ms/step\n",
      "Epoch 88/100\n",
      "514/514 - 1s - loss: 0.2133 - accuracy: 0.9183 - 647ms/epoch - 1ms/step\n",
      "Epoch 89/100\n",
      "514/514 - 1s - loss: 0.1398 - accuracy: 0.9514 - 598ms/epoch - 1ms/step\n",
      "Epoch 90/100\n",
      "514/514 - 1s - loss: 0.1621 - accuracy: 0.9377 - 606ms/epoch - 1ms/step\n",
      "Epoch 91/100\n",
      "514/514 - 1s - loss: 0.2127 - accuracy: 0.9300 - 636ms/epoch - 1ms/step\n",
      "Epoch 92/100\n",
      "514/514 - 1s - loss: 0.1606 - accuracy: 0.9319 - 564ms/epoch - 1ms/step\n",
      "Epoch 93/100\n",
      "514/514 - 1s - loss: 0.1043 - accuracy: 0.9669 - 613ms/epoch - 1ms/step\n",
      "Epoch 94/100\n",
      "514/514 - 1s - loss: 0.1141 - accuracy: 0.9630 - 571ms/epoch - 1ms/step\n",
      "Epoch 95/100\n",
      "514/514 - 1s - loss: 0.0969 - accuracy: 0.9728 - 699ms/epoch - 1ms/step\n",
      "Epoch 96/100\n",
      "514/514 - 1s - loss: 0.0976 - accuracy: 0.9767 - 752ms/epoch - 1ms/step\n",
      "Epoch 97/100\n",
      "514/514 - 1s - loss: 0.0790 - accuracy: 0.9767 - 657ms/epoch - 1ms/step\n"
     ]
    },
    {
     "name": "stdout",
     "output_type": "stream",
     "text": [
      "Epoch 98/100\n",
      "514/514 - 1s - loss: 0.0706 - accuracy: 0.9844 - 659ms/epoch - 1ms/step\n",
      "Epoch 99/100\n",
      "514/514 - 1s - loss: 0.0708 - accuracy: 0.9805 - 650ms/epoch - 1ms/step\n",
      "Epoch 100/100\n",
      "514/514 - 1s - loss: 0.0724 - accuracy: 0.9844 - 550ms/epoch - 1ms/step\n"
     ]
    }
   ],
   "source": [
    "history0 = model0.fit(X_train0, y_train0,epochs=100, batch_size=1, verbose=2)"
   ]
  },
  {
   "cell_type": "code",
   "execution_count": 14,
   "id": "dac37e08",
   "metadata": {},
   "outputs": [
    {
     "name": "stdout",
     "output_type": "stream",
     "text": [
      "17/17 [==============================] - 0s 2ms/step\n",
      "Accuracy on training data: 0.9883268475532532% \n",
      " Error on training data: 0.011673152446746826\n",
      "8/8 [==============================] - 0s 2ms/step\n",
      "Accuracy on test data: 0.7204724550247192 \n",
      " Error on test data: 0.27952754497528076\n"
     ]
    }
   ],
   "source": [
    "pred_train0= model0.predict(X_train0)\n",
    "scores0 = model0.evaluate(X_train0, y_train0, verbose=0)\n",
    "print('Accuracy on training data: {}% \\n Error on training data: {}'.format(scores0[1], 1 - scores0[1]))   \n",
    " \n",
    "pred_test0= model0.predict(X_test0)\n",
    "scores20 = model0.evaluate(X_test0, y_test0, verbose=0)\n",
    "print('Accuracy on test data: {} \\n Error on test data: {}'.format(scores20[1], 1 - scores20[1]))    "
   ]
  },
  {
   "cell_type": "markdown",
   "id": "0cb27948",
   "metadata": {},
   "source": [
    "## Plot history"
   ]
  },
  {
   "cell_type": "code",
   "execution_count": 15,
   "id": "9636b863",
   "metadata": {},
   "outputs": [
    {
     "data": {
      "text/plain": [
       "Text(0.5, 0, 'Epochs')"
      ]
     },
     "execution_count": 15,
     "metadata": {},
     "output_type": "execute_result"
    },
    {
     "data": {
      "image/png": "[encoded data removed]",
      "text/plain": [
       "<Figure size 640x480 with 1 Axes>"
      ]
     },
     "metadata": {},
     "output_type": "display_data"
    }
   ],
   "source": [
    "#plot history (Also known as loss curve or a training curve)\n",
    "import matplotlib.pyplot as plt\n",
    "pd.DataFrame(history0.history).plot()\n",
    "plt.ylabel(\"Loss\")\n",
    "plt.xlabel(\"Epochs\")"
   ]
  },
  {
   "cell_type": "markdown",
   "id": "d70f47a4",
   "metadata": {},
   "source": [
    "## The weights for each layer:"
   ]
  },
  {
   "cell_type": "code",
   "execution_count": 16,
   "id": "c055b318",
   "metadata": {},
   "outputs": [
    {
     "data": {
      "text/plain": [
       "[array([[ 0.95327014],\n",
       "        [ 2.0084975 ],\n",
       "        [-0.7156902 ],\n",
       "        [ 1.3368698 ],\n",
       "        [ 2.0900776 ],\n",
       "        [-0.97038054],\n",
       "        [ 0.909698  ],\n",
       "        [ 1.6661642 ]], dtype=float32),\n",
       " array([-4.3292193], dtype=float32)]"
      ]
     },
     "execution_count": 16,
     "metadata": {},
     "output_type": "execute_result"
    }
   ],
   "source": [
    "for layer in model0.layers:\n",
    "    weights = layer.get_weights()\n",
    "weights"
   ]
  },
  {
   "cell_type": "markdown",
   "id": "9abaeab9",
   "metadata": {},
   "source": [
    "## model score"
   ]
  },
  {
   "cell_type": "code",
   "execution_count": 17,
   "id": "e2080fc9",
   "metadata": {},
   "outputs": [
    {
     "name": "stdout",
     "output_type": "stream",
     "text": [
      "8/8 [==============================] - 0s 2ms/step - loss: 1.3523 - accuracy: 0.7205\n",
      "[1.3522924184799194, 0.7204724550247192]\n"
     ]
    }
   ],
   "source": [
    "score = model0.evaluate(X_test0, y_test0,verbose=1)\n",
    "print(score)"
   ]
  },
  {
   "cell_type": "code",
   "execution_count": null,
   "id": "06820d32",
   "metadata": {},
   "outputs": [],
   "source": []
  },
  {
   "cell_type": "markdown",
   "id": "344af5f1",
   "metadata": {},
   "source": [
    "# <font color=blue/> 2. REGRESSION PROBLEM"
   ]
  },
  {
   "cell_type": "code",
   "execution_count": 18,
   "id": "1a0c893d",
   "metadata": {},
   "outputs": [],
   "source": [
    "import numpy as np"
   ]
  },
  {
   "cell_type": "markdown",
   "id": "59fda293",
   "metadata": {},
   "source": [
    "## Load Boston Dataset"
   ]
  },
  {
   "cell_type": "code",
   "execution_count": 19,
   "id": "a8b9fe03",
   "metadata": {},
   "outputs": [],
   "source": [
    "data_url = \"http://lib.stat.cmu.edu/datasets/boston\"\n",
    "raw_df = pd.read_csv(data_url, sep=\"\\s+\", skiprows=22, header=None)\n",
    "data = np.hstack([raw_df.values[::2, :], raw_df.values[1::2, :2]]) ## features to use\n",
    "target = raw_df.values[1::2, 2] ## target to use"
   ]
  },
  {
   "cell_type": "markdown",
   "id": "c7ac1e67",
   "metadata": {},
   "source": [
    "## The Boston house-price data of Harrison, D. and Rubinfeld, D.L. 'Hedonic\n",
    " <font color=blue> prices and the demand for clean air', J. Environ. Economics & Management, vol.5, 81-102, 1978.   Used in Belsley, Kuh & Welsch, 'Regression diagnostics  ...', Wiley, 1980.   \n",
    "\n",
    "N.B. Various transformations are used in the table on  pages 244-261 of the latter.\n",
    "\n",
    " Variables in order:\n",
    " -------------------\n",
    " CRIM     per capita crime rate by town\n",
    " \n",
    " ZN       proportion of residential land zoned for lots over 25,000 sq.ft.\n",
    " \n",
    " INDUS    proportion of non-retail business acres per town\n",
    " \n",
    " CHAS     Charles River dummy variable (= 1 if tract bounds river; 0 otherwise)\n",
    "\n",
    "NOX      nitric oxides concentration (parts per 10 million)\n",
    "\n",
    "RM       average number of rooms per dwelling\n",
    "\n",
    "AGE      proportion of owner-occupied units built prior to 1940\n",
    "\n",
    "DIS      weighted distances to five Boston employment centres\n",
    "\n",
    "RAD      index of accessibility to radial highways\n",
    "\n",
    "\n",
    "TAX      full-value property-tax rate per $10,000\n",
    "\n",
    "PTRATIO  pupil-teacher ratio by town\n",
    "\n",
    "\n",
    "B        1000(Bk - 0.63)^2 where Bk is the proportion of blacks by town\n",
    "\n",
    "LSTAT    % lower status of the population\n",
    "\n",
    "MEDV     Median value of owner-occupied homes in $1000's"
   ]
  },
  {
   "cell_type": "code",
   "execution_count": 20,
   "id": "428061b5",
   "metadata": {},
   "outputs": [],
   "source": [
    "from sklearn.model_selection import train_test_split\n",
    "X_train, X_test, y_train, y_test = train_test_split(data, target, test_size=0.3, random_state=42)"
   ]
  },
  {
   "cell_type": "code",
   "execution_count": 21,
   "id": "309ee068",
   "metadata": {},
   "outputs": [
    {
     "data": {
      "text/plain": [
       "(354, 13)"
      ]
     },
     "execution_count": 21,
     "metadata": {},
     "output_type": "execute_result"
    }
   ],
   "source": [
    "X_train.shape"
   ]
  },
  {
   "cell_type": "code",
   "execution_count": 22,
   "id": "e61967c0",
   "metadata": {},
   "outputs": [
    {
     "data": {
      "text/plain": [
       "array([[2.98500e-02, 0.00000e+00, 2.18000e+00, ..., 1.87000e+01,\n",
       "        3.94120e+02, 5.21000e+00],\n",
       "       [1.31580e-01, 0.00000e+00, 1.00100e+01, ..., 1.78000e+01,\n",
       "        3.93300e+02, 1.20400e+01],\n",
       "       [1.71420e-01, 0.00000e+00, 6.91000e+00, ..., 1.79000e+01,\n",
       "        3.96900e+02, 1.02100e+01],\n",
       "       ...,\n",
       "       [1.50100e-02, 8.00000e+01, 2.01000e+00, ..., 1.70000e+01,\n",
       "        3.90940e+02, 5.99000e+00],\n",
       "       [1.11604e+01, 0.00000e+00, 1.81000e+01, ..., 2.02000e+01,\n",
       "        1.09850e+02, 2.32700e+01],\n",
       "       [2.28760e-01, 0.00000e+00, 8.56000e+00, ..., 2.09000e+01,\n",
       "        7.08000e+01, 1.06300e+01]])"
      ]
     },
     "execution_count": 22,
     "metadata": {},
     "output_type": "execute_result"
    }
   ],
   "source": [
    "X_train"
   ]
  },
  {
   "cell_type": "markdown",
   "id": "d75d55a3",
   "metadata": {},
   "source": [
    "## Define the regression model on Keras \"not tf.keras\": method 1"
   ]
  },
  {
   "cell_type": "code",
   "execution_count": 23,
   "id": "318174c6",
   "metadata": {},
   "outputs": [],
   "source": [
    "# Define model\n",
    "model = Sequential()\n",
    "model.add(Dense(500, input_dim=X_train.shape[1], activation= \"relu\")) ## the input_dim =shape (total number of) features\n",
    "model.add(Dense(100, activation= \"relu\"))\n",
    "model.add(Dense(50, activation= \"relu\"))\n",
    "model.add(Dense(1))"
   ]
  },
  {
   "cell_type": "code",
   "execution_count": 24,
   "id": "c91c3b7f",
   "metadata": {},
   "outputs": [
    {
     "name": "stdout",
     "output_type": "stream",
     "text": [
      "Model: \"sequential_1\"\n",
      "_________________________________________________________________\n",
      " Layer (type)                Output Shape              Param #   \n",
      "=================================================================\n",
      " dense_4 (Dense)             (None, 500)               7000      \n",
      "                                                                 \n",
      " dense_5 (Dense)             (None, 100)               50100     \n",
      "                                                                 \n",
      " dense_6 (Dense)             (None, 50)                5050      \n",
      "                                                                 \n",
      " dense_7 (Dense)             (None, 1)                 51        \n",
      "                                                                 \n",
      "=================================================================\n",
      "Total params: 62,201\n",
      "Trainable params: 62,201\n",
      "Non-trainable params: 0\n",
      "_________________________________________________________________\n"
     ]
    }
   ],
   "source": [
    "model.summary() #Print model Summary"
   ]
  },
  {
   "cell_type": "markdown",
   "id": "aeeb84f9",
   "metadata": {},
   "source": [
    "## Compile the model"
   ]
  },
  {
   "cell_type": "code",
   "execution_count": 25,
   "id": "0f3e4475",
   "metadata": {},
   "outputs": [],
   "source": [
    "model.compile(loss= \"mean_squared_error\" , optimizer=\"adam\", metrics=[\"mean_squared_error\"])"
   ]
  },
  {
   "cell_type": "markdown",
   "id": "130da48c",
   "metadata": {},
   "source": [
    "## Fit the model and keep track of performance in \"history\""
   ]
  },
  {
   "cell_type": "code",
   "execution_count": 26,
   "id": "0e919903",
   "metadata": {},
   "outputs": [
    {
     "name": "stdout",
     "output_type": "stream",
     "text": [
      "Epoch 1/200\n",
      "12/12 [==============================] - 1s 3ms/step - loss: 205.5520 - mean_squared_error: 205.5520\n",
      "Epoch 2/200\n",
      "12/12 [==============================] - 0s 3ms/step - loss: 78.0738 - mean_squared_error: 78.0738\n",
      "Epoch 3/200\n",
      "12/12 [==============================] - 0s 3ms/step - loss: 81.6266 - mean_squared_error: 81.6266\n",
      "Epoch 4/200\n",
      "12/12 [==============================] - 0s 3ms/step - loss: 77.3037 - mean_squared_error: 77.3037\n",
      "Epoch 5/200\n",
      "12/12 [==============================] - 0s 3ms/step - loss: 68.7586 - mean_squared_error: 68.7586\n",
      "Epoch 6/200\n",
      "12/12 [==============================] - 0s 3ms/step - loss: 69.0672 - mean_squared_error: 69.0672\n",
      "Epoch 7/200\n",
      "12/12 [==============================] - 0s 3ms/step - loss: 69.3134 - mean_squared_error: 69.3134\n",
      "Epoch 8/200\n",
      "12/12 [==============================] - 0s 3ms/step - loss: 67.2839 - mean_squared_error: 67.2839\n",
      "Epoch 9/200\n",
      "12/12 [==============================] - 0s 3ms/step - loss: 82.1143 - mean_squared_error: 82.1143\n",
      "Epoch 10/200\n",
      "12/12 [==============================] - 0s 2ms/step - loss: 79.9727 - mean_squared_error: 79.9727\n",
      "Epoch 11/200\n",
      "12/12 [==============================] - 0s 2ms/step - loss: 68.4279 - mean_squared_error: 68.4279\n",
      "Epoch 12/200\n",
      "12/12 [==============================] - 0s 3ms/step - loss: 66.0444 - mean_squared_error: 66.0444\n",
      "Epoch 13/200\n",
      "12/12 [==============================] - 0s 2ms/step - loss: 51.8395 - mean_squared_error: 51.8395\n",
      "Epoch 14/200\n",
      "12/12 [==============================] - 0s 3ms/step - loss: 59.6563 - mean_squared_error: 59.6563\n",
      "Epoch 15/200\n",
      "12/12 [==============================] - 0s 2ms/step - loss: 53.2044 - mean_squared_error: 53.2044\n",
      "Epoch 16/200\n",
      "12/12 [==============================] - 0s 3ms/step - loss: 54.6015 - mean_squared_error: 54.6015\n",
      "Epoch 17/200\n",
      "12/12 [==============================] - 0s 3ms/step - loss: 46.5530 - mean_squared_error: 46.5530\n",
      "Epoch 18/200\n",
      "12/12 [==============================] - 0s 3ms/step - loss: 50.3792 - mean_squared_error: 50.3792\n",
      "Epoch 19/200\n",
      "12/12 [==============================] - 0s 3ms/step - loss: 60.2566 - mean_squared_error: 60.2566\n",
      "Epoch 20/200\n",
      "12/12 [==============================] - 0s 4ms/step - loss: 50.6315 - mean_squared_error: 50.6315\n",
      "Epoch 21/200\n",
      "12/12 [==============================] - 0s 4ms/step - loss: 51.0673 - mean_squared_error: 51.0673\n",
      "Epoch 22/200\n",
      "12/12 [==============================] - 0s 4ms/step - loss: 46.1703 - mean_squared_error: 46.1703\n",
      "Epoch 23/200\n",
      "12/12 [==============================] - 0s 3ms/step - loss: 46.7720 - mean_squared_error: 46.7720\n",
      "Epoch 24/200\n",
      "12/12 [==============================] - 0s 3ms/step - loss: 47.3017 - mean_squared_error: 47.3017\n",
      "Epoch 25/200\n",
      "12/12 [==============================] - 0s 3ms/step - loss: 44.0333 - mean_squared_error: 44.0333\n",
      "Epoch 26/200\n",
      "12/12 [==============================] - 0s 3ms/step - loss: 44.4941 - mean_squared_error: 44.4941\n",
      "Epoch 27/200\n",
      "12/12 [==============================] - 0s 4ms/step - loss: 41.9454 - mean_squared_error: 41.9454\n",
      "Epoch 28/200\n",
      "12/12 [==============================] - 0s 4ms/step - loss: 92.3957 - mean_squared_error: 92.3957\n",
      "Epoch 29/200\n",
      "12/12 [==============================] - 0s 4ms/step - loss: 62.7087 - mean_squared_error: 62.7087\n",
      "Epoch 30/200\n",
      "12/12 [==============================] - 0s 3ms/step - loss: 64.8199 - mean_squared_error: 64.8199\n",
      "Epoch 31/200\n",
      "12/12 [==============================] - 0s 3ms/step - loss: 55.4272 - mean_squared_error: 55.4272\n",
      "Epoch 32/200\n",
      "12/12 [==============================] - 0s 2ms/step - loss: 59.8200 - mean_squared_error: 59.8200\n",
      "Epoch 33/200\n",
      "12/12 [==============================] - 0s 3ms/step - loss: 47.4529 - mean_squared_error: 47.4529\n",
      "Epoch 34/200\n",
      "12/12 [==============================] - 0s 3ms/step - loss: 45.7135 - mean_squared_error: 45.7135\n",
      "Epoch 35/200\n",
      "12/12 [==============================] - 0s 4ms/step - loss: 40.3477 - mean_squared_error: 40.3477\n",
      "Epoch 36/200\n",
      "12/12 [==============================] - 0s 2ms/step - loss: 38.2950 - mean_squared_error: 38.2950\n",
      "Epoch 37/200\n",
      "12/12 [==============================] - 0s 3ms/step - loss: 37.0082 - mean_squared_error: 37.0082\n",
      "Epoch 38/200\n",
      "12/12 [==============================] - 0s 4ms/step - loss: 32.3872 - mean_squared_error: 32.3872\n",
      "Epoch 39/200\n",
      "12/12 [==============================] - 0s 3ms/step - loss: 46.9160 - mean_squared_error: 46.9160\n",
      "Epoch 40/200\n",
      "12/12 [==============================] - 0s 3ms/step - loss: 41.6956 - mean_squared_error: 41.6956\n",
      "Epoch 41/200\n",
      "12/12 [==============================] - 0s 2ms/step - loss: 31.6993 - mean_squared_error: 31.6993\n",
      "Epoch 42/200\n",
      "12/12 [==============================] - 0s 3ms/step - loss: 30.2872 - mean_squared_error: 30.2872\n",
      "Epoch 43/200\n",
      "12/12 [==============================] - 0s 3ms/step - loss: 30.2654 - mean_squared_error: 30.2654\n",
      "Epoch 44/200\n",
      "12/12 [==============================] - 0s 3ms/step - loss: 46.9305 - mean_squared_error: 46.9305\n",
      "Epoch 45/200\n",
      "12/12 [==============================] - 0s 3ms/step - loss: 34.5033 - mean_squared_error: 34.5033\n",
      "Epoch 46/200\n",
      "12/12 [==============================] - 0s 4ms/step - loss: 28.1486 - mean_squared_error: 28.1486\n",
      "Epoch 47/200\n",
      "12/12 [==============================] - 0s 3ms/step - loss: 25.9274 - mean_squared_error: 25.9274\n",
      "Epoch 48/200\n",
      "12/12 [==============================] - 0s 3ms/step - loss: 49.4923 - mean_squared_error: 49.4923\n",
      "Epoch 49/200\n",
      "12/12 [==============================] - 0s 3ms/step - loss: 31.0602 - mean_squared_error: 31.0602\n",
      "Epoch 50/200\n",
      "12/12 [==============================] - 0s 3ms/step - loss: 34.6521 - mean_squared_error: 34.6521\n",
      "Epoch 51/200\n",
      "12/12 [==============================] - 0s 3ms/step - loss: 38.5340 - mean_squared_error: 38.5340\n",
      "Epoch 52/200\n",
      "12/12 [==============================] - 0s 3ms/step - loss: 32.2557 - mean_squared_error: 32.2557\n",
      "Epoch 53/200\n",
      "12/12 [==============================] - 0s 4ms/step - loss: 24.8562 - mean_squared_error: 24.8562\n",
      "Epoch 54/200\n",
      "12/12 [==============================] - 0s 4ms/step - loss: 23.7662 - mean_squared_error: 23.7662\n",
      "Epoch 55/200\n",
      "12/12 [==============================] - 0s 3ms/step - loss: 24.1758 - mean_squared_error: 24.1758\n",
      "Epoch 56/200\n",
      "12/12 [==============================] - 0s 3ms/step - loss: 23.8413 - mean_squared_error: 23.8413\n",
      "Epoch 57/200\n",
      "12/12 [==============================] - 0s 3ms/step - loss: 25.9958 - mean_squared_error: 25.9958\n",
      "Epoch 58/200\n",
      "12/12 [==============================] - 0s 3ms/step - loss: 21.7903 - mean_squared_error: 21.7903\n",
      "Epoch 59/200\n",
      "12/12 [==============================] - 0s 3ms/step - loss: 27.5911 - mean_squared_error: 27.5911\n",
      "Epoch 60/200\n",
      "12/12 [==============================] - 0s 3ms/step - loss: 24.4422 - mean_squared_error: 24.4422\n",
      "Epoch 61/200\n",
      "12/12 [==============================] - 0s 3ms/step - loss: 22.2336 - mean_squared_error: 22.2336\n",
      "Epoch 62/200\n",
      "12/12 [==============================] - 0s 2ms/step - loss: 29.3657 - mean_squared_error: 29.3657\n",
      "Epoch 63/200\n",
      "12/12 [==============================] - 0s 2ms/step - loss: 20.9384 - mean_squared_error: 20.9384\n",
      "Epoch 64/200\n",
      "12/12 [==============================] - 0s 2ms/step - loss: 29.4551 - mean_squared_error: 29.4551\n",
      "Epoch 65/200\n",
      "12/12 [==============================] - 0s 2ms/step - loss: 23.5533 - mean_squared_error: 23.5533\n",
      "Epoch 66/200\n",
      "12/12 [==============================] - 0s 2ms/step - loss: 31.2943 - mean_squared_error: 31.2943\n",
      "Epoch 67/200\n",
      "12/12 [==============================] - 0s 3ms/step - loss: 29.1501 - mean_squared_error: 29.1501\n",
      "Epoch 68/200\n",
      "12/12 [==============================] - 0s 4ms/step - loss: 26.5447 - mean_squared_error: 26.5447\n",
      "Epoch 69/200\n",
      "12/12 [==============================] - 0s 3ms/step - loss: 34.1005 - mean_squared_error: 34.1005\n",
      "Epoch 70/200\n",
      "12/12 [==============================] - 0s 3ms/step - loss: 31.2223 - mean_squared_error: 31.2223\n",
      "Epoch 71/200\n",
      "12/12 [==============================] - 0s 3ms/step - loss: 45.4514 - mean_squared_error: 45.4514\n",
      "Epoch 72/200\n",
      "12/12 [==============================] - 0s 4ms/step - loss: 23.4389 - mean_squared_error: 23.4389\n",
      "Epoch 73/200\n",
      "12/12 [==============================] - 0s 3ms/step - loss: 29.3955 - mean_squared_error: 29.3955\n",
      "Epoch 74/200\n",
      "12/12 [==============================] - 0s 4ms/step - loss: 31.8240 - mean_squared_error: 31.8240\n",
      "Epoch 75/200\n",
      "12/12 [==============================] - 0s 3ms/step - loss: 25.0447 - mean_squared_error: 25.0447\n",
      "Epoch 76/200\n",
      "12/12 [==============================] - 0s 3ms/step - loss: 24.2397 - mean_squared_error: 24.2397\n",
      "Epoch 77/200\n",
      "12/12 [==============================] - 0s 3ms/step - loss: 21.4731 - mean_squared_error: 21.4731\n",
      "Epoch 78/200\n",
      "12/12 [==============================] - 0s 4ms/step - loss: 18.9554 - mean_squared_error: 18.9554\n",
      "Epoch 79/200\n",
      "12/12 [==============================] - 0s 5ms/step - loss: 20.2408 - mean_squared_error: 20.2408\n",
      "Epoch 80/200\n",
      "12/12 [==============================] - 0s 5ms/step - loss: 18.3091 - mean_squared_error: 18.3091\n",
      "Epoch 81/200\n",
      "12/12 [==============================] - 0s 4ms/step - loss: 19.0761 - mean_squared_error: 19.0761\n",
      "Epoch 82/200\n",
      "12/12 [==============================] - 0s 3ms/step - loss: 18.6798 - mean_squared_error: 18.6798\n",
      "Epoch 83/200\n",
      "12/12 [==============================] - 0s 3ms/step - loss: 18.1626 - mean_squared_error: 18.1626\n",
      "Epoch 84/200\n",
      "12/12 [==============================] - 0s 2ms/step - loss: 17.6391 - mean_squared_error: 17.6391\n",
      "Epoch 85/200\n",
      "12/12 [==============================] - 0s 2ms/step - loss: 18.5104 - mean_squared_error: 18.5104\n",
      "Epoch 86/200\n",
      "12/12 [==============================] - 0s 2ms/step - loss: 18.1635 - mean_squared_error: 18.1635\n",
      "Epoch 87/200\n",
      "12/12 [==============================] - 0s 2ms/step - loss: 19.1000 - mean_squared_error: 19.1000\n",
      "Epoch 88/200\n",
      "12/12 [==============================] - 0s 2ms/step - loss: 20.6979 - mean_squared_error: 20.6979\n",
      "Epoch 89/200\n",
      "12/12 [==============================] - 0s 2ms/step - loss: 18.6008 - mean_squared_error: 18.6008\n",
      "Epoch 90/200\n",
      "12/12 [==============================] - 0s 3ms/step - loss: 17.6656 - mean_squared_error: 17.6656\n",
      "Epoch 91/200\n",
      "12/12 [==============================] - 0s 3ms/step - loss: 16.7100 - mean_squared_error: 16.7100\n",
      "Epoch 92/200\n",
      "12/12 [==============================] - 0s 3ms/step - loss: 17.4240 - mean_squared_error: 17.4240\n",
      "Epoch 93/200\n",
      "12/12 [==============================] - 0s 3ms/step - loss: 20.9642 - mean_squared_error: 20.9642\n",
      "Epoch 94/200\n",
      "12/12 [==============================] - 0s 3ms/step - loss: 24.9823 - mean_squared_error: 24.9823\n",
      "Epoch 95/200\n",
      "12/12 [==============================] - 0s 3ms/step - loss: 35.1813 - mean_squared_error: 35.1813\n",
      "Epoch 96/200\n",
      "12/12 [==============================] - 0s 3ms/step - loss: 38.0794 - mean_squared_error: 38.0794\n",
      "Epoch 97/200\n",
      "12/12 [==============================] - 0s 3ms/step - loss: 22.8475 - mean_squared_error: 22.8475\n",
      "Epoch 98/200\n",
      "12/12 [==============================] - 0s 3ms/step - loss: 17.5102 - mean_squared_error: 17.5102\n",
      "Epoch 99/200\n",
      "12/12 [==============================] - 0s 3ms/step - loss: 21.3643 - mean_squared_error: 21.3643\n",
      "Epoch 100/200\n",
      "12/12 [==============================] - 0s 3ms/step - loss: 19.6914 - mean_squared_error: 19.6914\n",
      "Epoch 101/200\n",
      "12/12 [==============================] - 0s 4ms/step - loss: 17.4809 - mean_squared_error: 17.4809\n",
      "Epoch 102/200\n",
      "12/12 [==============================] - 0s 5ms/step - loss: 15.9321 - mean_squared_error: 15.9321\n",
      "Epoch 103/200\n",
      "12/12 [==============================] - 0s 4ms/step - loss: 17.0017 - mean_squared_error: 17.0017\n",
      "Epoch 104/200\n",
      "12/12 [==============================] - 0s 6ms/step - loss: 16.6285 - mean_squared_error: 16.6285\n",
      "Epoch 105/200\n",
      "12/12 [==============================] - 0s 4ms/step - loss: 17.1569 - mean_squared_error: 17.1569\n",
      "Epoch 106/200\n",
      "12/12 [==============================] - 0s 3ms/step - loss: 16.9157 - mean_squared_error: 16.9157\n",
      "Epoch 107/200\n",
      "12/12 [==============================] - 0s 2ms/step - loss: 16.6827 - mean_squared_error: 16.6827\n",
      "Epoch 108/200\n",
      "12/12 [==============================] - 0s 2ms/step - loss: 18.4402 - mean_squared_error: 18.4402\n",
      "Epoch 109/200\n",
      "12/12 [==============================] - 0s 2ms/step - loss: 17.1603 - mean_squared_error: 17.1603\n",
      "Epoch 110/200\n",
      "12/12 [==============================] - 0s 2ms/step - loss: 24.4274 - mean_squared_error: 24.4274\n",
      "Epoch 111/200\n",
      "12/12 [==============================] - 0s 2ms/step - loss: 16.3116 - mean_squared_error: 16.3116\n",
      "Epoch 112/200\n",
      "12/12 [==============================] - 0s 2ms/step - loss: 19.0451 - mean_squared_error: 19.0451\n",
      "Epoch 113/200\n",
      "12/12 [==============================] - 0s 7ms/step - loss: 41.7282 - mean_squared_error: 41.7282\n",
      "Epoch 114/200\n",
      "12/12 [==============================] - 0s 6ms/step - loss: 24.4752 - mean_squared_error: 24.4752\n",
      "Epoch 115/200\n",
      "12/12 [==============================] - 0s 4ms/step - loss: 18.7610 - mean_squared_error: 18.7610\n",
      "Epoch 116/200\n",
      "12/12 [==============================] - 0s 3ms/step - loss: 18.6167 - mean_squared_error: 18.6167\n",
      "Epoch 117/200\n",
      "12/12 [==============================] - 0s 6ms/step - loss: 17.6674 - mean_squared_error: 17.6674\n",
      "Epoch 118/200\n",
      "12/12 [==============================] - 0s 4ms/step - loss: 21.4851 - mean_squared_error: 21.4851\n",
      "Epoch 119/200\n",
      "12/12 [==============================] - 0s 4ms/step - loss: 20.9547 - mean_squared_error: 20.9547\n",
      "Epoch 120/200\n",
      "12/12 [==============================] - 0s 4ms/step - loss: 29.2119 - mean_squared_error: 29.2119\n",
      "Epoch 121/200\n",
      "12/12 [==============================] - 0s 4ms/step - loss: 18.8407 - mean_squared_error: 18.8407\n",
      "Epoch 122/200\n",
      "12/12 [==============================] - 0s 4ms/step - loss: 16.1890 - mean_squared_error: 16.1890\n",
      "Epoch 123/200\n",
      "12/12 [==============================] - 0s 4ms/step - loss: 16.4773 - mean_squared_error: 16.4773\n",
      "Epoch 124/200\n",
      "12/12 [==============================] - 0s 4ms/step - loss: 22.7625 - mean_squared_error: 22.7625\n",
      "Epoch 125/200\n",
      "12/12 [==============================] - 0s 4ms/step - loss: 16.4166 - mean_squared_error: 16.4166\n",
      "Epoch 126/200\n",
      "12/12 [==============================] - 0s 4ms/step - loss: 16.2437 - mean_squared_error: 16.2437\n",
      "Epoch 127/200\n",
      "12/12 [==============================] - 0s 5ms/step - loss: 16.6588 - mean_squared_error: 16.6588\n",
      "Epoch 128/200\n",
      "12/12 [==============================] - 0s 5ms/step - loss: 17.9108 - mean_squared_error: 17.9108\n",
      "Epoch 129/200\n",
      "12/12 [==============================] - 0s 3ms/step - loss: 19.6965 - mean_squared_error: 19.6965\n",
      "Epoch 130/200\n",
      "12/12 [==============================] - 0s 4ms/step - loss: 18.7374 - mean_squared_error: 18.7374\n",
      "Epoch 131/200\n",
      "12/12 [==============================] - 0s 4ms/step - loss: 20.8248 - mean_squared_error: 20.8248\n",
      "Epoch 132/200\n",
      "12/12 [==============================] - 0s 4ms/step - loss: 18.1546 - mean_squared_error: 18.1546\n",
      "Epoch 133/200\n",
      "12/12 [==============================] - 0s 4ms/step - loss: 17.9346 - mean_squared_error: 17.9346\n",
      "Epoch 134/200\n",
      "12/12 [==============================] - 0s 4ms/step - loss: 15.4033 - mean_squared_error: 15.4033\n",
      "Epoch 135/200\n",
      "12/12 [==============================] - 0s 6ms/step - loss: 15.1534 - mean_squared_error: 15.1534\n",
      "Epoch 136/200\n",
      "12/12 [==============================] - 0s 6ms/step - loss: 14.6854 - mean_squared_error: 14.6854\n",
      "Epoch 137/200\n",
      "12/12 [==============================] - 0s 3ms/step - loss: 15.2091 - mean_squared_error: 15.2091\n",
      "Epoch 138/200\n",
      "12/12 [==============================] - 0s 4ms/step - loss: 33.9563 - mean_squared_error: 33.9563\n",
      "Epoch 139/200\n",
      "12/12 [==============================] - 0s 4ms/step - loss: 29.6868 - mean_squared_error: 29.6868\n",
      "Epoch 140/200\n",
      "12/12 [==============================] - 0s 4ms/step - loss: 43.1982 - mean_squared_error: 43.1982\n",
      "Epoch 141/200\n",
      "12/12 [==============================] - 0s 4ms/step - loss: 24.0577 - mean_squared_error: 24.0577\n",
      "Epoch 142/200\n",
      "12/12 [==============================] - 0s 4ms/step - loss: 17.4841 - mean_squared_error: 17.4841\n",
      "Epoch 143/200\n",
      "12/12 [==============================] - 0s 4ms/step - loss: 16.4573 - mean_squared_error: 16.4573\n",
      "Epoch 144/200\n",
      "12/12 [==============================] - 0s 4ms/step - loss: 17.2234 - mean_squared_error: 17.2234\n",
      "Epoch 145/200\n",
      "12/12 [==============================] - 0s 4ms/step - loss: 17.0387 - mean_squared_error: 17.0387\n",
      "Epoch 146/200\n"
     ]
    },
    {
     "name": "stdout",
     "output_type": "stream",
     "text": [
      "12/12 [==============================] - 0s 4ms/step - loss: 15.0924 - mean_squared_error: 15.0924\n",
      "Epoch 147/200\n",
      "12/12 [==============================] - 0s 5ms/step - loss: 14.7621 - mean_squared_error: 14.7621\n",
      "Epoch 148/200\n",
      "12/12 [==============================] - 0s 5ms/step - loss: 27.6773 - mean_squared_error: 27.6773\n",
      "Epoch 149/200\n",
      "12/12 [==============================] - 0s 5ms/step - loss: 20.0126 - mean_squared_error: 20.0126\n",
      "Epoch 150/200\n",
      "12/12 [==============================] - 0s 5ms/step - loss: 17.0792 - mean_squared_error: 17.0792\n",
      "Epoch 151/200\n",
      "12/12 [==============================] - 0s 4ms/step - loss: 15.8817 - mean_squared_error: 15.8817\n",
      "Epoch 152/200\n",
      "12/12 [==============================] - 0s 4ms/step - loss: 14.7954 - mean_squared_error: 14.7954\n",
      "Epoch 153/200\n",
      "12/12 [==============================] - 0s 4ms/step - loss: 15.2033 - mean_squared_error: 15.2033\n",
      "Epoch 154/200\n",
      "12/12 [==============================] - 0s 4ms/step - loss: 13.8765 - mean_squared_error: 13.8765\n",
      "Epoch 155/200\n",
      "12/12 [==============================] - 0s 4ms/step - loss: 16.0553 - mean_squared_error: 16.0553\n",
      "Epoch 156/200\n",
      "12/12 [==============================] - 0s 4ms/step - loss: 24.8267 - mean_squared_error: 24.8267\n",
      "Epoch 157/200\n",
      "12/12 [==============================] - 0s 4ms/step - loss: 18.4430 - mean_squared_error: 18.4430\n",
      "Epoch 158/200\n",
      "12/12 [==============================] - 0s 3ms/step - loss: 16.1124 - mean_squared_error: 16.1124\n",
      "Epoch 159/200\n",
      "12/12 [==============================] - 0s 4ms/step - loss: 18.5470 - mean_squared_error: 18.5470\n",
      "Epoch 160/200\n",
      "12/12 [==============================] - 0s 4ms/step - loss: 19.2699 - mean_squared_error: 19.2699\n",
      "Epoch 161/200\n",
      "12/12 [==============================] - 0s 4ms/step - loss: 19.1599 - mean_squared_error: 19.1599\n",
      "Epoch 162/200\n",
      "12/12 [==============================] - 0s 4ms/step - loss: 20.9885 - mean_squared_error: 20.9885\n",
      "Epoch 163/200\n",
      "12/12 [==============================] - 0s 8ms/step - loss: 16.2634 - mean_squared_error: 16.2634\n",
      "Epoch 164/200\n",
      "12/12 [==============================] - 0s 8ms/step - loss: 14.5592 - mean_squared_error: 14.5592\n",
      "Epoch 165/200\n",
      "12/12 [==============================] - 0s 8ms/step - loss: 15.4261 - mean_squared_error: 15.4261\n",
      "Epoch 166/200\n",
      "12/12 [==============================] - 0s 8ms/step - loss: 21.1198 - mean_squared_error: 21.1198\n",
      "Epoch 167/200\n",
      "12/12 [==============================] - 0s 8ms/step - loss: 21.5977 - mean_squared_error: 21.5977\n",
      "Epoch 168/200\n",
      "12/12 [==============================] - 0s 7ms/step - loss: 17.4255 - mean_squared_error: 17.4255\n",
      "Epoch 169/200\n",
      "12/12 [==============================] - 0s 5ms/step - loss: 16.7703 - mean_squared_error: 16.7703\n",
      "Epoch 170/200\n",
      "12/12 [==============================] - 0s 3ms/step - loss: 20.4053 - mean_squared_error: 20.4053\n",
      "Epoch 171/200\n",
      "12/12 [==============================] - 0s 5ms/step - loss: 21.0988 - mean_squared_error: 21.0988\n",
      "Epoch 172/200\n",
      "12/12 [==============================] - 0s 4ms/step - loss: 16.9071 - mean_squared_error: 16.9071\n",
      "Epoch 173/200\n",
      "12/12 [==============================] - 0s 3ms/step - loss: 18.9830 - mean_squared_error: 18.9830\n",
      "Epoch 174/200\n",
      "12/12 [==============================] - 0s 4ms/step - loss: 15.9592 - mean_squared_error: 15.9592\n",
      "Epoch 175/200\n",
      "12/12 [==============================] - 0s 3ms/step - loss: 13.1581 - mean_squared_error: 13.1581\n",
      "Epoch 176/200\n",
      "12/12 [==============================] - 0s 4ms/step - loss: 13.0746 - mean_squared_error: 13.0746\n",
      "Epoch 177/200\n",
      "12/12 [==============================] - 0s 3ms/step - loss: 12.5230 - mean_squared_error: 12.5230\n",
      "Epoch 178/200\n",
      "12/12 [==============================] - 0s 3ms/step - loss: 12.9059 - mean_squared_error: 12.9059\n",
      "Epoch 179/200\n",
      "12/12 [==============================] - 0s 4ms/step - loss: 13.3453 - mean_squared_error: 13.3453\n",
      "Epoch 180/200\n",
      "12/12 [==============================] - 0s 3ms/step - loss: 13.4426 - mean_squared_error: 13.4426\n",
      "Epoch 181/200\n",
      "12/12 [==============================] - 0s 4ms/step - loss: 12.9734 - mean_squared_error: 12.9734\n",
      "Epoch 182/200\n",
      "12/12 [==============================] - 0s 3ms/step - loss: 14.2269 - mean_squared_error: 14.2269\n",
      "Epoch 183/200\n",
      "12/12 [==============================] - 0s 4ms/step - loss: 14.9185 - mean_squared_error: 14.9185\n",
      "Epoch 184/200\n",
      "12/12 [==============================] - 0s 5ms/step - loss: 14.4223 - mean_squared_error: 14.4223\n",
      "Epoch 185/200\n",
      "12/12 [==============================] - 0s 4ms/step - loss: 15.1406 - mean_squared_error: 15.1406\n",
      "Epoch 186/200\n",
      "12/12 [==============================] - 0s 4ms/step - loss: 14.4745 - mean_squared_error: 14.4745\n",
      "Epoch 187/200\n",
      "12/12 [==============================] - 0s 4ms/step - loss: 14.1679 - mean_squared_error: 14.1679\n",
      "Epoch 188/200\n",
      "12/12 [==============================] - 0s 5ms/step - loss: 14.3742 - mean_squared_error: 14.3742\n",
      "Epoch 189/200\n",
      "12/12 [==============================] - 0s 3ms/step - loss: 17.9269 - mean_squared_error: 17.9269\n",
      "Epoch 190/200\n",
      "12/12 [==============================] - 0s 4ms/step - loss: 22.5169 - mean_squared_error: 22.5169\n",
      "Epoch 191/200\n",
      "12/12 [==============================] - 0s 8ms/step - loss: 20.5112 - mean_squared_error: 20.5112\n",
      "Epoch 192/200\n",
      "12/12 [==============================] - 0s 6ms/step - loss: 17.8115 - mean_squared_error: 17.8115\n",
      "Epoch 193/200\n",
      "12/12 [==============================] - 0s 7ms/step - loss: 30.6662 - mean_squared_error: 30.6662\n",
      "Epoch 194/200\n",
      "12/12 [==============================] - 0s 7ms/step - loss: 28.5147 - mean_squared_error: 28.5147\n",
      "Epoch 195/200\n",
      "12/12 [==============================] - 0s 6ms/step - loss: 16.5650 - mean_squared_error: 16.5650\n",
      "Epoch 196/200\n",
      "12/12 [==============================] - 0s 4ms/step - loss: 17.3772 - mean_squared_error: 17.3772\n",
      "Epoch 197/200\n",
      "12/12 [==============================] - 0s 4ms/step - loss: 13.2345 - mean_squared_error: 13.2345\n",
      "Epoch 198/200\n",
      "12/12 [==============================] - 0s 3ms/step - loss: 18.5050 - mean_squared_error: 18.5050\n",
      "Epoch 199/200\n",
      "12/12 [==============================] - 0s 4ms/step - loss: 14.7804 - mean_squared_error: 14.7804\n",
      "Epoch 200/200\n",
      "12/12 [==============================] - 0s 4ms/step - loss: 13.4209 - mean_squared_error: 13.4209\n"
     ]
    }
   ],
   "source": [
    "history=model.fit(X_train, y_train, epochs=200)"
   ]
  },
  {
   "cell_type": "markdown",
   "id": "a9fabd67",
   "metadata": {},
   "source": [
    "## Plot model loss curve and training curve"
   ]
  },
  {
   "cell_type": "code",
   "execution_count": 27,
   "id": "c5442cec",
   "metadata": {},
   "outputs": [
    {
     "data": {
      "text/plain": [
       "Text(0.5, 0, 'Epochs')"
      ]
     },
     "execution_count": 27,
     "metadata": {},
     "output_type": "execute_result"
    },
    {
     "data": {
      "image/png": "[encoded data removed]",
      "text/plain": [
       "<Figure size 640x480 with 1 Axes>"
      ]
     },
     "metadata": {},
     "output_type": "display_data"
    }
   ],
   "source": [
    "#plot history (Also known as loss curve or a training curve)\n",
    "pd.DataFrame(history.history).plot()\n",
    "plt.ylabel(\"Loss\")\n",
    "plt.xlabel(\"Epochs\")"
   ]
  },
  {
   "cell_type": "markdown",
   "id": "9eda76e9",
   "metadata": {},
   "source": [
    "## Predict the model: training and test mse"
   ]
  },
  {
   "cell_type": "code",
   "execution_count": 28,
   "id": "9005528a",
   "metadata": {},
   "outputs": [],
   "source": [
    "from sklearn.metrics import mean_squared_error"
   ]
  },
  {
   "cell_type": "code",
   "execution_count": 29,
   "id": "7d0cc9eb",
   "metadata": {},
   "outputs": [
    {
     "name": "stdout",
     "output_type": "stream",
     "text": [
      "12/12 [==============================] - 0s 1ms/step\n",
      "3.598423449730425\n"
     ]
    }
   ],
   "source": [
    "pred_train= model.predict(X_train) ## train sample\n",
    "print(np.sqrt(mean_squared_error(y_train,pred_train)))"
   ]
  },
  {
   "cell_type": "code",
   "execution_count": 30,
   "id": "22e1180d",
   "metadata": {},
   "outputs": [
    {
     "name": "stdout",
     "output_type": "stream",
     "text": [
      "5/5 [==============================] - 0s 2ms/step\n",
      "4.0332055670944165\n"
     ]
    }
   ],
   "source": [
    "pred= model.predict(X_test) ## test sample \n",
    "print(np.sqrt(mean_squared_error(y_test,pred))) "
   ]
  },
  {
   "cell_type": "markdown",
   "id": "ef3611fa",
   "metadata": {},
   "source": [
    "# ."
   ]
  },
  {
   "cell_type": "markdown",
   "id": "07f28d47",
   "metadata": {},
   "source": [
    "# Define the regression model on tf.keras: method 2"
   ]
  },
  {
   "cell_type": "markdown",
   "id": "ecd20a39",
   "metadata": {},
   "source": [
    "## Load California Housing dataset"
   ]
  },
  {
   "cell_type": "code",
   "execution_count": 31,
   "id": "98b7a6e4",
   "metadata": {},
   "outputs": [],
   "source": [
    "from sklearn.datasets import fetch_california_housing\n",
    "housing = fetch_california_housing()"
   ]
  },
  {
   "cell_type": "code",
   "execution_count": 32,
   "id": "bdb1c11d",
   "metadata": {},
   "outputs": [],
   "source": [
    "X2=housing.data"
   ]
  },
  {
   "cell_type": "code",
   "execution_count": 33,
   "id": "da0eecd3",
   "metadata": {},
   "outputs": [],
   "source": [
    "y2=housing.target"
   ]
  },
  {
   "cell_type": "code",
   "execution_count": 34,
   "id": "c6060a5f",
   "metadata": {},
   "outputs": [],
   "source": [
    "from sklearn.model_selection import train_test_split\n",
    "X_train2,X_test2,y_train2,y_test2=train_test_split(X2,y2,test_size=0.3,random_state=42)"
   ]
  },
  {
   "cell_type": "code",
   "execution_count": 35,
   "id": "3c6fd01c",
   "metadata": {},
   "outputs": [
    {
     "data": {
      "text/plain": [
       "(14448, 8)"
      ]
     },
     "execution_count": 35,
     "metadata": {},
     "output_type": "execute_result"
    }
   ],
   "source": [
    "X_train2.shape"
   ]
  },
  {
   "cell_type": "code",
   "execution_count": 36,
   "id": "d1874dd1",
   "metadata": {},
   "outputs": [],
   "source": [
    "import tensorflow as tf\n",
    "from tensorflow.keras import Sequential\n",
    "from tensorflow.keras.optimizers import Adam\n",
    "from tensorflow.keras import backend as K\n",
    "from tensorflow.keras.layers import Dense\n",
    "def rmse(y_true, y_pred):\n",
    "    return K.sqrt(K.mean(K.square(y_pred - y_true)))"
   ]
  },
  {
   "cell_type": "code",
   "execution_count": 37,
   "id": "b9849bdc",
   "metadata": {},
   "outputs": [],
   "source": [
    "model5= Sequential([\n",
    "    tf.keras.layers.Input(shape = X_train2.shape[1:]),\n",
    "    Dense(300, activation='tanh'),\n",
    "    Dense(300, activation='tanh'),\n",
    "    Dense(300, activation='tanh'),\n",
    "    Dense(300, activation='tanh'),\n",
    "    Dense(300, activation='tanh'),\n",
    "    Dense(300, activation='tanh'),\n",
    "    Dense(1)\n",
    "])"
   ]
  },
  {
   "cell_type": "code",
   "execution_count": 38,
   "id": "3074c6f6",
   "metadata": {},
   "outputs": [],
   "source": [
    "model5.compile(\n",
    "    loss=rmse,\n",
    "    optimizer=Adam(),\n",
    "    metrics=[rmse]\n",
    ")"
   ]
  },
  {
   "cell_type": "code",
   "execution_count": 39,
   "id": "e4ab6bcd",
   "metadata": {},
   "outputs": [
    {
     "name": "stdout",
     "output_type": "stream",
     "text": [
      "Model: \"sequential_2\"\n",
      "_________________________________________________________________\n",
      " Layer (type)                Output Shape              Param #   \n",
      "=================================================================\n",
      " dense_8 (Dense)             (None, 300)               2700      \n",
      "                                                                 \n",
      " dense_9 (Dense)             (None, 300)               90300     \n",
      "                                                                 \n",
      " dense_10 (Dense)            (None, 300)               90300     \n",
      "                                                                 \n",
      " dense_11 (Dense)            (None, 300)               90300     \n",
      "                                                                 \n",
      " dense_12 (Dense)            (None, 300)               90300     \n",
      "                                                                 \n",
      " dense_13 (Dense)            (None, 300)               90300     \n",
      "                                                                 \n",
      " dense_14 (Dense)            (None, 1)                 301       \n",
      "                                                                 \n",
      "=================================================================\n",
      "Total params: 454,501\n",
      "Trainable params: 454,501\n",
      "Non-trainable params: 0\n",
      "_________________________________________________________________\n"
     ]
    }
   ],
   "source": [
    "model5.summary()"
   ]
  },
  {
   "cell_type": "code",
   "execution_count": 40,
   "id": "3f2dd17a",
   "metadata": {},
   "outputs": [
    {
     "name": "stdout",
     "output_type": "stream",
     "text": [
      "Epoch 1/20\n",
      "452/452 [==============================] - 5s 7ms/step - loss: 1.1920 - rmse: 1.1918 - val_loss: 1.1377 - val_rmse: 1.1370\n",
      "Epoch 2/20\n",
      "452/452 [==============================] - 3s 7ms/step - loss: 1.1612 - rmse: 1.1612 - val_loss: 1.1425 - val_rmse: 1.1416\n",
      "Epoch 3/20\n",
      "452/452 [==============================] - 3s 7ms/step - loss: 1.1565 - rmse: 1.1569 - val_loss: 1.1101 - val_rmse: 1.1096\n",
      "Epoch 4/20\n",
      "452/452 [==============================] - 3s 7ms/step - loss: 1.1597 - rmse: 1.1601 - val_loss: 1.1356 - val_rmse: 1.1348\n",
      "Epoch 5/20\n",
      "452/452 [==============================] - 4s 8ms/step - loss: 1.1582 - rmse: 1.1584 - val_loss: 1.1522 - val_rmse: 1.1516\n",
      "Epoch 6/20\n",
      "452/452 [==============================] - 3s 7ms/step - loss: 1.1557 - rmse: 1.1559 - val_loss: 1.1352 - val_rmse: 1.1344\n",
      "Epoch 7/20\n",
      "452/452 [==============================] - 4s 8ms/step - loss: 1.1629 - rmse: 1.1628 - val_loss: 1.1637 - val_rmse: 1.1632\n",
      "Epoch 8/20\n",
      "452/452 [==============================] - 3s 7ms/step - loss: 1.1602 - rmse: 1.1603 - val_loss: 1.1408 - val_rmse: 1.1399\n",
      "Epoch 9/20\n",
      "452/452 [==============================] - 3s 7ms/step - loss: 1.1557 - rmse: 1.1557 - val_loss: 1.1524 - val_rmse: 1.1518\n",
      "Epoch 10/20\n",
      "452/452 [==============================] - 4s 8ms/step - loss: 1.1563 - rmse: 1.1560 - val_loss: 1.1364 - val_rmse: 1.1356\n",
      "Epoch 11/20\n",
      "452/452 [==============================] - 3s 7ms/step - loss: 1.1568 - rmse: 1.1569 - val_loss: 1.1539 - val_rmse: 1.1529\n",
      "Epoch 12/20\n",
      "452/452 [==============================] - 3s 7ms/step - loss: 1.1578 - rmse: 1.1580 - val_loss: 1.1365 - val_rmse: 1.1356\n",
      "Epoch 13/20\n",
      "452/452 [==============================] - 4s 8ms/step - loss: 1.1572 - rmse: 1.1575 - val_loss: 1.1517 - val_rmse: 1.1508\n",
      "Epoch 14/20\n",
      "452/452 [==============================] - 3s 8ms/step - loss: 1.1553 - rmse: 1.1553 - val_loss: 1.2022 - val_rmse: 1.2018\n",
      "Epoch 15/20\n",
      "452/452 [==============================] - 4s 8ms/step - loss: 1.1592 - rmse: 1.1593 - val_loss: 1.1349 - val_rmse: 1.1341\n",
      "Epoch 16/20\n",
      "452/452 [==============================] - 4s 8ms/step - loss: 1.1578 - rmse: 1.1579 - val_loss: 1.1356 - val_rmse: 1.1347\n",
      "Epoch 17/20\n",
      "452/452 [==============================] - 4s 8ms/step - loss: 1.1561 - rmse: 1.1563 - val_loss: 1.1379 - val_rmse: 1.1371\n",
      "Epoch 18/20\n",
      "452/452 [==============================] - 3s 7ms/step - loss: 1.1557 - rmse: 1.1564 - val_loss: 1.1383 - val_rmse: 1.1374\n",
      "Epoch 19/20\n",
      "452/452 [==============================] - 3s 7ms/step - loss: 1.1584 - rmse: 1.1583 - val_loss: 1.1457 - val_rmse: 1.1448\n",
      "Epoch 20/20\n",
      "452/452 [==============================] - 4s 8ms/step - loss: 1.1572 - rmse: 1.1575 - val_loss: 1.1383 - val_rmse: 1.1376\n"
     ]
    }
   ],
   "source": [
    "history5 = model5.fit(X_train2, y_train2, epochs=20, validation_data=(X_test2, y_test2))"
   ]
  },
  {
   "cell_type": "code",
   "execution_count": 41,
   "id": "d5eb0446",
   "metadata": {},
   "outputs": [
    {
     "name": "stdout",
     "output_type": "stream",
     "text": [
      "194/194 [==============================] - 1s 3ms/step - loss: 1.1383 - rmse: 1.1376\n"
     ]
    },
    {
     "data": {
      "text/plain": [
       "[1.1383075714111328, 1.1376163959503174]"
      ]
     },
     "execution_count": 41,
     "metadata": {},
     "output_type": "execute_result"
    }
   ],
   "source": [
    "model5.evaluate(X_test2, y_test2)"
   ]
  },
  {
   "cell_type": "code",
   "execution_count": 42,
   "id": "26244501",
   "metadata": {},
   "outputs": [
    {
     "data": {
      "text/plain": [
       "Text(0.5, 0, 'Epochs')"
      ]
     },
     "execution_count": 42,
     "metadata": {},
     "output_type": "execute_result"
    },
    {
     "data": {
      "image/png": "[encoded data removed]",
      "text/plain": [
       "<Figure size 640x480 with 1 Axes>"
      ]
     },
     "metadata": {},
     "output_type": "display_data"
    }
   ],
   "source": [
    "#plot history (Also known as loss curve or a training curve)\n",
    "pd.DataFrame(history5.history).plot()\n",
    "plt.ylabel(\"Loss\")\n",
    "plt.xlabel(\"Epochs\")"
   ]
  },
  {
   "cell_type": "code",
   "execution_count": null,
   "id": "85d7048c",
   "metadata": {},
   "outputs": [],
   "source": []
  },
  {
   "cell_type": "code",
   "execution_count": null,
   "id": "969e7851",
   "metadata": {},
   "outputs": [],
   "source": []
  }
 ],
 "metadata": {
  "kernelspec": {
   "display_name": "Python 3 (ipykernel)",
   "language": "python",
   "name": "python3"
  },
  "language_info": {
   "codemirror_mode": {
    "name": "ipython",
    "version": 3
   },
   "file_extension": ".py",
   "mimetype": "text/x-python",
   "name": "python",
   "nbconvert_exporter": "python",
   "pygments_lexer": "ipython3",
   "version": "3.11.7"
  }
 },
 "nbformat": 4,
 "nbformat_minor": 5
}
