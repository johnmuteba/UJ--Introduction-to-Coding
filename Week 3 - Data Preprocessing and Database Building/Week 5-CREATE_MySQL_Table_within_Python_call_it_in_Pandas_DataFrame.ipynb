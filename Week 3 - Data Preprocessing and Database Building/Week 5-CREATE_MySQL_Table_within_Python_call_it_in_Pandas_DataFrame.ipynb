{
 "cells": [
  {
   "cell_type": "markdown",
   "id": "f37ab40d",
   "metadata": {},
   "source": [
    "## Creating a MySQL Table within Python and call it as DataFrame in Python-this is what you will do in group assignment 2 "
   ]
  },
  {
   "cell_type": "code",
   "execution_count": 8,
   "id": "16192371",
   "metadata": {},
   "outputs": [],
   "source": [
    "import mysql.connector "
   ]
  },
  {
   "cell_type": "markdown",
   "id": "3d39cb82",
   "metadata": {},
   "source": [
    "# The Database \"mfe2024\" already exists in MySQL. We need to create a new table called \" firsttable\". Make sure to have done: \"pip install mysql-connector-python\" once!"
   ]
  },
  {
   "cell_type": "code",
   "execution_count": 9,
   "id": "524f9181",
   "metadata": {},
   "outputs": [
    {
     "ename": "DatabaseError",
     "evalue": "2003 (HY000): Can't connect to MySQL server on 'localhost:3306' (10061)",
     "output_type": "error",
     "traceback": [
      "\u001b[1;31m---------------------------------------------------------------------------\u001b[0m",
      "\u001b[1;31mMySQLInterfaceError\u001b[0m                       Traceback (most recent call last)",
      "File \u001b[1;32m~\\anaconda3\\Lib\\site-packages\\mysql\\connector\\connection_cext.py:323\u001b[0m, in \u001b[0;36mCMySQLConnection._open_connection\u001b[1;34m(self)\u001b[0m\n\u001b[0;32m    322\u001b[0m \u001b[38;5;28;01mtry\u001b[39;00m:\n\u001b[1;32m--> 323\u001b[0m     \u001b[38;5;28mself\u001b[39m\u001b[38;5;241m.\u001b[39m_cmysql\u001b[38;5;241m.\u001b[39mconnect(\u001b[38;5;241m*\u001b[39m\u001b[38;5;241m*\u001b[39mcnx_kwargs)\n\u001b[0;32m    324\u001b[0m     \u001b[38;5;28mself\u001b[39m\u001b[38;5;241m.\u001b[39m_cmysql\u001b[38;5;241m.\u001b[39mconverter_str_fallback \u001b[38;5;241m=\u001b[39m \u001b[38;5;28mself\u001b[39m\u001b[38;5;241m.\u001b[39m_converter_str_fallback\n",
      "\u001b[1;31mMySQLInterfaceError\u001b[0m: Can't connect to MySQL server on 'localhost:3306' (10061)",
      "\nThe above exception was the direct cause of the following exception:\n",
      "\u001b[1;31mDatabaseError\u001b[0m                             Traceback (most recent call last)",
      "Cell \u001b[1;32mIn[9], line 1\u001b[0m\n\u001b[1;32m----> 1\u001b[0m connection \u001b[38;5;241m=\u001b[39m mysql\u001b[38;5;241m.\u001b[39mconnector\u001b[38;5;241m.\u001b[39mconnect(host\u001b[38;5;241m=\u001b[39m\u001b[38;5;124m'\u001b[39m\u001b[38;5;124mlocalhost\u001b[39m\u001b[38;5;124m'\u001b[39m,database\u001b[38;5;241m=\u001b[39m\u001b[38;5;124m'\u001b[39m\u001b[38;5;124mmfe2024\u001b[39m\u001b[38;5;124m'\u001b[39m,user\u001b[38;5;241m=\u001b[39m\u001b[38;5;124m'\u001b[39m\u001b[38;5;124mjohnw\u001b[39m\u001b[38;5;124m'\u001b[39m,password\u001b[38;5;241m=\u001b[39m\u001b[38;5;124m'\u001b[39m\u001b[38;5;124mAI_2022coding\u001b[39m\u001b[38;5;124m'\u001b[39m)\n",
      "File \u001b[1;32m~\\anaconda3\\Lib\\site-packages\\mysql\\connector\\pooling.py:322\u001b[0m, in \u001b[0;36mconnect\u001b[1;34m(*args, **kwargs)\u001b[0m\n\u001b[0;32m    319\u001b[0m         \u001b[38;5;28;01mraise\u001b[39;00m \u001b[38;5;167;01mImportError\u001b[39;00m(ERROR_NO_CEXT)\n\u001b[0;32m    321\u001b[0m \u001b[38;5;28;01mif\u001b[39;00m CMySQLConnection \u001b[38;5;129;01mand\u001b[39;00m \u001b[38;5;129;01mnot\u001b[39;00m use_pure:\n\u001b[1;32m--> 322\u001b[0m     \u001b[38;5;28;01mreturn\u001b[39;00m CMySQLConnection(\u001b[38;5;241m*\u001b[39margs, \u001b[38;5;241m*\u001b[39m\u001b[38;5;241m*\u001b[39mkwargs)\n\u001b[0;32m    323\u001b[0m \u001b[38;5;28;01mreturn\u001b[39;00m MySQLConnection(\u001b[38;5;241m*\u001b[39margs, \u001b[38;5;241m*\u001b[39m\u001b[38;5;241m*\u001b[39mkwargs)\n",
      "File \u001b[1;32m~\\anaconda3\\Lib\\site-packages\\mysql\\connector\\connection_cext.py:140\u001b[0m, in \u001b[0;36mCMySQLConnection.__init__\u001b[1;34m(self, **kwargs)\u001b[0m\n\u001b[0;32m    138\u001b[0m \u001b[38;5;28;01mif\u001b[39;00m kwargs:\n\u001b[0;32m    139\u001b[0m     \u001b[38;5;28;01mtry\u001b[39;00m:\n\u001b[1;32m--> 140\u001b[0m         \u001b[38;5;28mself\u001b[39m\u001b[38;5;241m.\u001b[39mconnect(\u001b[38;5;241m*\u001b[39m\u001b[38;5;241m*\u001b[39mkwargs)\n\u001b[0;32m    141\u001b[0m     \u001b[38;5;28;01mexcept\u001b[39;00m \u001b[38;5;167;01mException\u001b[39;00m:\n\u001b[0;32m    142\u001b[0m         \u001b[38;5;28mself\u001b[39m\u001b[38;5;241m.\u001b[39mclose()\n",
      "File \u001b[1;32m~\\anaconda3\\Lib\\site-packages\\mysql\\connector\\abstracts.py:1363\u001b[0m, in \u001b[0;36mMySQLConnectionAbstract.connect\u001b[1;34m(self, **kwargs)\u001b[0m\n\u001b[0;32m   1360\u001b[0m     \u001b[38;5;28mself\u001b[39m\u001b[38;5;241m.\u001b[39mconfig(\u001b[38;5;241m*\u001b[39m\u001b[38;5;241m*\u001b[39mkwargs)\n\u001b[0;32m   1362\u001b[0m \u001b[38;5;28mself\u001b[39m\u001b[38;5;241m.\u001b[39mdisconnect()\n\u001b[1;32m-> 1363\u001b[0m \u001b[38;5;28mself\u001b[39m\u001b[38;5;241m.\u001b[39m_open_connection()\n\u001b[0;32m   1365\u001b[0m charset, collation \u001b[38;5;241m=\u001b[39m (\n\u001b[0;32m   1366\u001b[0m     kwargs\u001b[38;5;241m.\u001b[39mpop(\u001b[38;5;124m\"\u001b[39m\u001b[38;5;124mcharset\u001b[39m\u001b[38;5;124m\"\u001b[39m, \u001b[38;5;28;01mNone\u001b[39;00m),\n\u001b[0;32m   1367\u001b[0m     kwargs\u001b[38;5;241m.\u001b[39mpop(\u001b[38;5;124m\"\u001b[39m\u001b[38;5;124mcollation\u001b[39m\u001b[38;5;124m\"\u001b[39m, \u001b[38;5;28;01mNone\u001b[39;00m),\n\u001b[0;32m   1368\u001b[0m )\n\u001b[0;32m   1369\u001b[0m \u001b[38;5;28;01mif\u001b[39;00m charset \u001b[38;5;129;01mor\u001b[39;00m collation:\n",
      "File \u001b[1;32m~\\anaconda3\\Lib\\site-packages\\mysql\\connector\\connection_cext.py:328\u001b[0m, in \u001b[0;36mCMySQLConnection._open_connection\u001b[1;34m(self)\u001b[0m\n\u001b[0;32m    326\u001b[0m         \u001b[38;5;28mself\u001b[39m\u001b[38;5;241m.\u001b[39mconverter\u001b[38;5;241m.\u001b[39mstr_fallback \u001b[38;5;241m=\u001b[39m \u001b[38;5;28mself\u001b[39m\u001b[38;5;241m.\u001b[39m_converter_str_fallback\n\u001b[0;32m    327\u001b[0m \u001b[38;5;28;01mexcept\u001b[39;00m MySQLInterfaceError \u001b[38;5;28;01mas\u001b[39;00m err:\n\u001b[1;32m--> 328\u001b[0m     \u001b[38;5;28;01mraise\u001b[39;00m get_mysql_exception(\n\u001b[0;32m    329\u001b[0m         msg\u001b[38;5;241m=\u001b[39merr\u001b[38;5;241m.\u001b[39mmsg, errno\u001b[38;5;241m=\u001b[39merr\u001b[38;5;241m.\u001b[39merrno, sqlstate\u001b[38;5;241m=\u001b[39merr\u001b[38;5;241m.\u001b[39msqlstate\n\u001b[0;32m    330\u001b[0m     ) \u001b[38;5;28;01mfrom\u001b[39;00m \u001b[38;5;21;01merr\u001b[39;00m\n\u001b[0;32m    332\u001b[0m \u001b[38;5;28mself\u001b[39m\u001b[38;5;241m.\u001b[39m_do_handshake()\n",
      "\u001b[1;31mDatabaseError\u001b[0m: 2003 (HY000): Can't connect to MySQL server on 'localhost:3306' (10061)"
     ]
    }
   ],
   "source": [
    "connection = mysql.connector.connect(host='localhost',database='mfe2024',user='johnw',password='AI_2022coding')"
   ]
  },
  {
   "cell_type": "code",
   "execution_count": 54,
   "id": "8aeb3385",
   "metadata": {},
   "outputs": [],
   "source": [
    "mySql_newTable= \"\"\"CREATE TABLE firsttable ( \n",
    "                             Id int(11) NOT NULL,\n",
    "                             Names varchar(250) NOT NULL,\n",
    "                             citi_origin varchar(250) NOT NULL,\n",
    "                             Annual_salary float NOT NULL,\n",
    "                             PRIMARY KEY (Id)) \"\"\"\n"
   ]
  },
  {
   "cell_type": "markdown",
   "id": "e92f53fa",
   "metadata": {},
   "source": [
    "## the table is now created, we can insert rows"
   ]
  },
  {
   "cell_type": "code",
   "execution_count": 55,
   "id": "64141553",
   "metadata": {},
   "outputs": [],
   "source": [
    "mySql_query1 = \"\"\"INSERT INTO firsttable (Id, Names,citi_origin, Annual_salary) \n",
    "                           VALUES \n",
    "                           (100, 'Jean Luc Mubenga', 'Lubumbashi', 65000) \"\"\"\n"
   ]
  },
  {
   "cell_type": "code",
   "execution_count": 56,
   "id": "04313be4",
   "metadata": {},
   "outputs": [
    {
     "name": "stdout",
     "output_type": "stream",
     "text": [
      "0 Record inserted successfully into firsttable\n"
     ]
    }
   ],
   "source": [
    "cursor = connection.cursor()\n",
    "cursor.execute(mySql_newTable)\n",
    "connection.commit()\n",
    "print(cursor.rowcount, \"Record inserted successfully into firsttable\")    "
   ]
  },
  {
   "cell_type": "markdown",
   "id": "495ad89c",
   "metadata": {},
   "source": [
    "   ### insert multiple rows: must be less than 10 rows"
   ]
  },
  {
   "cell_type": "code",
   "execution_count": 57,
   "id": "84db2458",
   "metadata": {},
   "outputs": [],
   "source": [
    "### initialise the query contents\n",
    "mySql_insert_query = \"\"\"INSERT INTO firsttable (Id, Names,citi_origin, Annual_salary) \n",
    "                           VALUES (%s, %s, %s, %s) \"\"\"\n",
    "### identifying rows to insert\n",
    "multiple_rows_to_insert = [(101, 'Ben Mudiangombe', 'kinshasa', 64000),\n",
    "                         (102, 'Guy Maja', 'Durbin', 69000),\n",
    "                        \n",
    "                          (110,'Alfred Zuma','London',105000)]\n"
   ]
  },
  {
   "cell_type": "code",
   "execution_count": 58,
   "id": "a4476790",
   "metadata": {},
   "outputs": [
    {
     "name": "stdout",
     "output_type": "stream",
     "text": [
      "3 Multiple Record inserted successfully into firsttable table\n"
     ]
    }
   ],
   "source": [
    "### Now execute this multiple rows query\n",
    "cursor = connection.cursor()\n",
    "cursor.executemany(mySql_insert_query, multiple_rows_to_insert)\n",
    "connection.commit()\n",
    "print(cursor.rowcount, \"Multiple Record inserted successfully into firsttable table\")"
   ]
  },
  {
   "cell_type": "code",
   "execution_count": 59,
   "id": "34ffd062",
   "metadata": {},
   "outputs": [],
   "source": [
    "\n",
    "multiple_rows_to_insert2 = [(103, ' Felicia Zulu', 'Johannesburg', 80000),\n",
    "                          (104,'Queen Mabe','Mpumalanga',48000),\n",
    "                          (105,'Justin Tshabalala','Harare',49000),\n",
    "                          (106,'Morgan Vusi','Johannesburg',93000),\n",
    "                          (107,'Juri Jao','CapeTown',83000),\n",
    "                          (108,'Calvin Manvagure','Paris',102000),\n",
    "                          (109,'Joakin Malewa','Durbin',98000)]"
   ]
  },
  {
   "cell_type": "code",
   "execution_count": 60,
   "id": "c8469c77",
   "metadata": {},
   "outputs": [
    {
     "name": "stdout",
     "output_type": "stream",
     "text": [
      "7 Multiple Record inserted successfully into firsttable table\n"
     ]
    }
   ],
   "source": [
    "cursor = connection.cursor()\n",
    "cursor.executemany(mySql_insert_query, multiple_rows_to_insert2)\n",
    "connection.commit()\n",
    "print(cursor.rowcount, \"Multiple Record inserted successfully into firsttable table\")"
   ]
  },
  {
   "cell_type": "markdown",
   "id": "6be2f07d",
   "metadata": {},
   "source": [
    "### select allrows from the table"
   ]
  },
  {
   "cell_type": "code",
   "execution_count": 61,
   "id": "b1e068c5",
   "metadata": {},
   "outputs": [],
   "source": [
    "sql_select_Query = \"select * from firsttable\"\n",
    "cursor = connection.cursor()\n",
    "cursor.execute(sql_select_Query)\n",
    "   "
   ]
  },
  {
   "cell_type": "markdown",
   "id": "d0ed8777",
   "metadata": {},
   "source": [
    "## or use fetch all "
   ]
  },
  {
   "cell_type": "code",
   "execution_count": 62,
   "id": "321c7baa",
   "metadata": {},
   "outputs": [
    {
     "name": "stdout",
     "output_type": "stream",
     "text": [
      "Total number of rows in table:  10\n",
      "\n",
      "Printing each row\n",
      "Id =  101\n",
      "Names =  Ben Mudiangombe\n",
      "citi_origin =  kinshasa\n",
      "Annual_salary =  64000.0 \n",
      "\n",
      "Id =  102\n",
      "Names =  Guy Maja\n",
      "citi_origin =  Durbin\n",
      "Annual_salary =  69000.0 \n",
      "\n",
      "Id =  103\n",
      "Names =   Felicia Zulu\n",
      "citi_origin =  Johannesburg\n",
      "Annual_salary =  80000.0 \n",
      "\n",
      "Id =  104\n",
      "Names =  Queen Mabe\n",
      "citi_origin =  Mpumalanga\n",
      "Annual_salary =  48000.0 \n",
      "\n",
      "Id =  105\n",
      "Names =  Justin Tshabalala\n",
      "citi_origin =  Harare\n",
      "Annual_salary =  49000.0 \n",
      "\n",
      "Id =  106\n",
      "Names =  Morgan Vusi\n",
      "citi_origin =  Johannesburg\n",
      "Annual_salary =  93000.0 \n",
      "\n",
      "Id =  107\n",
      "Names =  Juri Jao\n",
      "citi_origin =  CapeTown\n",
      "Annual_salary =  83000.0 \n",
      "\n",
      "Id =  108\n",
      "Names =  Calvin Manvagure\n",
      "citi_origin =  Paris\n",
      "Annual_salary =  102000.0 \n",
      "\n",
      "Id =  109\n",
      "Names =  Joakin Malewa\n",
      "citi_origin =  Durbin\n",
      "Annual_salary =  98000.0 \n",
      "\n",
      "Id =  110\n",
      "Names =  Alfred Zuma\n",
      "citi_origin =  London\n",
      "Annual_salary =  105000.0 \n",
      "\n"
     ]
    }
   ],
   "source": [
    "# get all records\n",
    "records = cursor.fetchall()\n",
    "print(\"Total number of rows in table: \", cursor.rowcount)\n",
    "\n",
    "print(\"\\nPrinting each row\")\n",
    "for row in records:\n",
    "        print(\"Id = \", row[0], )\n",
    "        print(\"Names = \", row[1])\n",
    "        print(\"citi_origin = \", row[2])\n",
    "        print(\"Annual_salary = \", row[3], \"\\n\")"
   ]
  },
  {
   "cell_type": "markdown",
   "id": "08a5ed72",
   "metadata": {},
   "source": [
    "### Call the Table in Python as Dataframe for deployment"
   ]
  },
  {
   "cell_type": "code",
   "execution_count": 63,
   "id": "67a03b7e",
   "metadata": {},
   "outputs": [],
   "source": [
    "import pandas as pd\n",
    "df_table = pd.read_sql('SELECT * FROM firsttable', con=connection)\n"
   ]
  },
  {
   "cell_type": "code",
   "execution_count": 64,
   "id": "aa38710d",
   "metadata": {},
   "outputs": [
    {
     "data": {
      "text/html": [
       "<div>\n",
       "<style scoped>\n",
       "    .dataframe tbody tr th:only-of-type {\n",
       "        vertical-align: middle;\n",
       "    }\n",
       "\n",
       "    .dataframe tbody tr th {\n",
       "        vertical-align: top;\n",
       "    }\n",
       "\n",
       "    .dataframe thead th {\n",
       "        text-align: right;\n",
       "    }\n",
       "</style>\n",
       "<table border=\"1\" class=\"dataframe\">\n",
       "  <thead>\n",
       "    <tr style=\"text-align: right;\">\n",
       "      <th></th>\n",
       "      <th>Id</th>\n",
       "      <th>Names</th>\n",
       "      <th>citi_origin</th>\n",
       "      <th>Annual_salary</th>\n",
       "    </tr>\n",
       "  </thead>\n",
       "  <tbody>\n",
       "    <tr>\n",
       "      <th>0</th>\n",
       "      <td>101</td>\n",
       "      <td>Ben Mudiangombe</td>\n",
       "      <td>kinshasa</td>\n",
       "      <td>64000.0</td>\n",
       "    </tr>\n",
       "    <tr>\n",
       "      <th>1</th>\n",
       "      <td>102</td>\n",
       "      <td>Guy Maja</td>\n",
       "      <td>Durbin</td>\n",
       "      <td>69000.0</td>\n",
       "    </tr>\n",
       "    <tr>\n",
       "      <th>2</th>\n",
       "      <td>103</td>\n",
       "      <td>Felicia Zulu</td>\n",
       "      <td>Johannesburg</td>\n",
       "      <td>80000.0</td>\n",
       "    </tr>\n",
       "    <tr>\n",
       "      <th>3</th>\n",
       "      <td>104</td>\n",
       "      <td>Queen Mabe</td>\n",
       "      <td>Mpumalanga</td>\n",
       "      <td>48000.0</td>\n",
       "    </tr>\n",
       "    <tr>\n",
       "      <th>4</th>\n",
       "      <td>105</td>\n",
       "      <td>Justin Tshabalala</td>\n",
       "      <td>Harare</td>\n",
       "      <td>49000.0</td>\n",
       "    </tr>\n",
       "    <tr>\n",
       "      <th>5</th>\n",
       "      <td>106</td>\n",
       "      <td>Morgan Vusi</td>\n",
       "      <td>Johannesburg</td>\n",
       "      <td>93000.0</td>\n",
       "    </tr>\n",
       "    <tr>\n",
       "      <th>6</th>\n",
       "      <td>107</td>\n",
       "      <td>Juri Jao</td>\n",
       "      <td>CapeTown</td>\n",
       "      <td>83000.0</td>\n",
       "    </tr>\n",
       "    <tr>\n",
       "      <th>7</th>\n",
       "      <td>108</td>\n",
       "      <td>Calvin Manvagure</td>\n",
       "      <td>Paris</td>\n",
       "      <td>102000.0</td>\n",
       "    </tr>\n",
       "    <tr>\n",
       "      <th>8</th>\n",
       "      <td>109</td>\n",
       "      <td>Joakin Malewa</td>\n",
       "      <td>Durbin</td>\n",
       "      <td>98000.0</td>\n",
       "    </tr>\n",
       "    <tr>\n",
       "      <th>9</th>\n",
       "      <td>110</td>\n",
       "      <td>Alfred Zuma</td>\n",
       "      <td>London</td>\n",
       "      <td>105000.0</td>\n",
       "    </tr>\n",
       "  </tbody>\n",
       "</table>\n",
       "</div>"
      ],
      "text/plain": [
       "    Id              Names   citi_origin  Annual_salary\n",
       "0  101    Ben Mudiangombe      kinshasa        64000.0\n",
       "1  102           Guy Maja        Durbin        69000.0\n",
       "2  103       Felicia Zulu  Johannesburg        80000.0\n",
       "3  104         Queen Mabe    Mpumalanga        48000.0\n",
       "4  105  Justin Tshabalala        Harare        49000.0\n",
       "5  106        Morgan Vusi  Johannesburg        93000.0\n",
       "6  107           Juri Jao      CapeTown        83000.0\n",
       "7  108   Calvin Manvagure         Paris       102000.0\n",
       "8  109      Joakin Malewa        Durbin        98000.0\n",
       "9  110        Alfred Zuma        London       105000.0"
      ]
     },
     "execution_count": 64,
     "metadata": {},
     "output_type": "execute_result"
    }
   ],
   "source": [
    "df_table"
   ]
  },
  {
   "cell_type": "code",
   "execution_count": 65,
   "id": "b2724071",
   "metadata": {},
   "outputs": [
    {
     "data": {
      "text/plain": [
       "79100.0"
      ]
     },
     "execution_count": 65,
     "metadata": {},
     "output_type": "execute_result"
    }
   ],
   "source": [
    "df_table['Annual_salary'].mean()"
   ]
  },
  {
   "cell_type": "code",
   "execution_count": 66,
   "id": "78b3a4a9",
   "metadata": {},
   "outputs": [
    {
     "data": {
      "text/plain": [
       "20989.150636565653"
      ]
     },
     "execution_count": 66,
     "metadata": {},
     "output_type": "execute_result"
    }
   ],
   "source": [
    "df_table['Annual_salary'].std()"
   ]
  },
  {
   "cell_type": "code",
   "execution_count": 67,
   "id": "e444f53d",
   "metadata": {},
   "outputs": [
    {
     "data": {
      "text/html": [
       "<div>\n",
       "<style scoped>\n",
       "    .dataframe tbody tr th:only-of-type {\n",
       "        vertical-align: middle;\n",
       "    }\n",
       "\n",
       "    .dataframe tbody tr th {\n",
       "        vertical-align: top;\n",
       "    }\n",
       "\n",
       "    .dataframe thead th {\n",
       "        text-align: right;\n",
       "    }\n",
       "</style>\n",
       "<table border=\"1\" class=\"dataframe\">\n",
       "  <thead>\n",
       "    <tr style=\"text-align: right;\">\n",
       "      <th></th>\n",
       "      <th>Id</th>\n",
       "      <th>Annual_salary</th>\n",
       "    </tr>\n",
       "    <tr>\n",
       "      <th>citi_origin</th>\n",
       "      <th></th>\n",
       "      <th></th>\n",
       "    </tr>\n",
       "  </thead>\n",
       "  <tbody>\n",
       "    <tr>\n",
       "      <th>CapeTown</th>\n",
       "      <td>107.0</td>\n",
       "      <td>83000.0</td>\n",
       "    </tr>\n",
       "    <tr>\n",
       "      <th>Durbin</th>\n",
       "      <td>105.5</td>\n",
       "      <td>83500.0</td>\n",
       "    </tr>\n",
       "    <tr>\n",
       "      <th>Harare</th>\n",
       "      <td>105.0</td>\n",
       "      <td>49000.0</td>\n",
       "    </tr>\n",
       "    <tr>\n",
       "      <th>Johannesburg</th>\n",
       "      <td>104.5</td>\n",
       "      <td>86500.0</td>\n",
       "    </tr>\n",
       "    <tr>\n",
       "      <th>London</th>\n",
       "      <td>110.0</td>\n",
       "      <td>105000.0</td>\n",
       "    </tr>\n",
       "    <tr>\n",
       "      <th>Mpumalanga</th>\n",
       "      <td>104.0</td>\n",
       "      <td>48000.0</td>\n",
       "    </tr>\n",
       "    <tr>\n",
       "      <th>Paris</th>\n",
       "      <td>108.0</td>\n",
       "      <td>102000.0</td>\n",
       "    </tr>\n",
       "    <tr>\n",
       "      <th>kinshasa</th>\n",
       "      <td>101.0</td>\n",
       "      <td>64000.0</td>\n",
       "    </tr>\n",
       "  </tbody>\n",
       "</table>\n",
       "</div>"
      ],
      "text/plain": [
       "                 Id  Annual_salary\n",
       "citi_origin                       \n",
       "CapeTown      107.0        83000.0\n",
       "Durbin        105.5        83500.0\n",
       "Harare        105.0        49000.0\n",
       "Johannesburg  104.5        86500.0\n",
       "London        110.0       105000.0\n",
       "Mpumalanga    104.0        48000.0\n",
       "Paris         108.0       102000.0\n",
       "kinshasa      101.0        64000.0"
      ]
     },
     "execution_count": 67,
     "metadata": {},
     "output_type": "execute_result"
    }
   ],
   "source": [
    "df_table.groupby('citi_origin').mean()"
   ]
  },
  {
   "cell_type": "code",
   "execution_count": 68,
   "id": "ddc6cefe",
   "metadata": {},
   "outputs": [
    {
     "data": {
      "text/html": [
       "<div>\n",
       "<style scoped>\n",
       "    .dataframe tbody tr th:only-of-type {\n",
       "        vertical-align: middle;\n",
       "    }\n",
       "\n",
       "    .dataframe tbody tr th {\n",
       "        vertical-align: top;\n",
       "    }\n",
       "\n",
       "    .dataframe thead th {\n",
       "        text-align: right;\n",
       "    }\n",
       "</style>\n",
       "<table border=\"1\" class=\"dataframe\">\n",
       "  <thead>\n",
       "    <tr style=\"text-align: right;\">\n",
       "      <th></th>\n",
       "      <th>Id</th>\n",
       "      <th>Annual_salary</th>\n",
       "    </tr>\n",
       "    <tr>\n",
       "      <th>Names</th>\n",
       "      <th></th>\n",
       "      <th></th>\n",
       "    </tr>\n",
       "  </thead>\n",
       "  <tbody>\n",
       "    <tr>\n",
       "      <th>Felicia Zulu</th>\n",
       "      <td>103.0</td>\n",
       "      <td>80000.0</td>\n",
       "    </tr>\n",
       "    <tr>\n",
       "      <th>Alfred Zuma</th>\n",
       "      <td>110.0</td>\n",
       "      <td>105000.0</td>\n",
       "    </tr>\n",
       "    <tr>\n",
       "      <th>Ben Mudiangombe</th>\n",
       "      <td>101.0</td>\n",
       "      <td>64000.0</td>\n",
       "    </tr>\n",
       "    <tr>\n",
       "      <th>Calvin Manvagure</th>\n",
       "      <td>108.0</td>\n",
       "      <td>102000.0</td>\n",
       "    </tr>\n",
       "    <tr>\n",
       "      <th>Guy Maja</th>\n",
       "      <td>102.0</td>\n",
       "      <td>69000.0</td>\n",
       "    </tr>\n",
       "    <tr>\n",
       "      <th>Joakin Malewa</th>\n",
       "      <td>109.0</td>\n",
       "      <td>98000.0</td>\n",
       "    </tr>\n",
       "    <tr>\n",
       "      <th>Juri Jao</th>\n",
       "      <td>107.0</td>\n",
       "      <td>83000.0</td>\n",
       "    </tr>\n",
       "    <tr>\n",
       "      <th>Justin Tshabalala</th>\n",
       "      <td>105.0</td>\n",
       "      <td>49000.0</td>\n",
       "    </tr>\n",
       "    <tr>\n",
       "      <th>Morgan Vusi</th>\n",
       "      <td>106.0</td>\n",
       "      <td>93000.0</td>\n",
       "    </tr>\n",
       "    <tr>\n",
       "      <th>Queen Mabe</th>\n",
       "      <td>104.0</td>\n",
       "      <td>48000.0</td>\n",
       "    </tr>\n",
       "  </tbody>\n",
       "</table>\n",
       "</div>"
      ],
      "text/plain": [
       "                      Id  Annual_salary\n",
       "Names                                  \n",
       " Felicia Zulu      103.0        80000.0\n",
       "Alfred Zuma        110.0       105000.0\n",
       "Ben Mudiangombe    101.0        64000.0\n",
       "Calvin Manvagure   108.0       102000.0\n",
       "Guy Maja           102.0        69000.0\n",
       "Joakin Malewa      109.0        98000.0\n",
       "Juri Jao           107.0        83000.0\n",
       "Justin Tshabalala  105.0        49000.0\n",
       "Morgan Vusi        106.0        93000.0\n",
       "Queen Mabe         104.0        48000.0"
      ]
     },
     "execution_count": 68,
     "metadata": {},
     "output_type": "execute_result"
    }
   ],
   "source": [
    "df_table.groupby('Names').mean()"
   ]
  },
  {
   "cell_type": "code",
   "execution_count": 69,
   "id": "c26abd0c",
   "metadata": {},
   "outputs": [
    {
     "data": {
      "text/plain": [
       "[<matplotlib.lines.Line2D at 0x224a84207c0>]"
      ]
     },
     "execution_count": 69,
     "metadata": {},
     "output_type": "execute_result"
    },
    {
     "data": {
      "image/png": "[encoded data removed]",
      "text/plain": [
       "<Figure size 432x288 with 1 Axes>"
      ]
     },
     "metadata": {
      "needs_background": "light"
     },
     "output_type": "display_data"
    }
   ],
   "source": [
    "import matplotlib.pyplot as plt\n",
    "import seaborn as sn\n",
    "plt.plot(df_table['Annual_salary'])"
   ]
  },
  {
   "cell_type": "code",
   "execution_count": 70,
   "id": "55f54a0e",
   "metadata": {},
   "outputs": [
    {
     "data": {
      "text/plain": [
       "<AxesSubplot:xlabel='Annual_salary', ylabel='Count'>"
      ]
     },
     "execution_count": 70,
     "metadata": {},
     "output_type": "execute_result"
    },
    {
     "data": {
      "image/png": "[encoded data removed]",
      "text/plain": [
       "<Figure size 432x288 with 1 Axes>"
      ]
     },
     "metadata": {
      "needs_background": "light"
     },
     "output_type": "display_data"
    }
   ],
   "source": [
    "sn.histplot(df_table['Annual_salary'],kde=True)"
   ]
  },
  {
   "cell_type": "code",
   "execution_count": 71,
   "id": "b806cedc",
   "metadata": {},
   "outputs": [
    {
     "data": {
      "text/plain": [
       "<AxesSubplot:ylabel='Count'>"
      ]
     },
     "execution_count": 71,
     "metadata": {},
     "output_type": "execute_result"
    },
    {
     "data": {
      "image/png": "[encoded data removed]",
      "text/plain": [
       "<Figure size 432x288 with 1 Axes>"
      ]
     },
     "metadata": {
      "needs_background": "light"
     },
     "output_type": "display_data"
    }
   ],
   "source": [
    "sn.histplot(df_table)"
   ]
  },
  {
   "cell_type": "code",
   "execution_count": null,
   "id": "7a84679b",
   "metadata": {},
   "outputs": [],
   "source": []
  }
 ],
 "metadata": {
  "kernelspec": {
   "display_name": "Python 3 (ipykernel)",
   "language": "python",
   "name": "python3"
  },
  "language_info": {
   "codemirror_mode": {
    "name": "ipython",
    "version": 3
   },
   "file_extension": ".py",
   "mimetype": "text/x-python",
   "name": "python",
   "nbconvert_exporter": "python",
   "pygments_lexer": "ipython3",
   "version": "3.11.7"
  }
 },
 "nbformat": 4,
 "nbformat_minor": 5
}
