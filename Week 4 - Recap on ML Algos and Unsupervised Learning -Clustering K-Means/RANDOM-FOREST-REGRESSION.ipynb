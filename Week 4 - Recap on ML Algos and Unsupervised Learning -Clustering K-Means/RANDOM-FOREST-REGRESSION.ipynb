{
 "cells": [
  {
   "cell_type": "code",
   "execution_count": 1,
   "metadata": {},
   "outputs": [],
   "source": [
    "import numpy as np \n",
    "import matplotlib.pyplot as plt\n",
    "import pandas as pd"
   ]
  },
  {
   "cell_type": "code",
   "execution_count": 2,
   "metadata": {},
   "outputs": [],
   "source": [
    "dat=pd.read_clipboard(header=0,squeeze=True)"
   ]
  },
  {
   "cell_type": "code",
   "execution_count": 3,
   "metadata": {},
   "outputs": [
    {
     "data": {
      "text/html": [
       "<div>\n",
       "<style scoped>\n",
       "    .dataframe tbody tr th:only-of-type {\n",
       "        vertical-align: middle;\n",
       "    }\n",
       "\n",
       "    .dataframe tbody tr th {\n",
       "        vertical-align: top;\n",
       "    }\n",
       "\n",
       "    .dataframe thead th {\n",
       "        text-align: right;\n",
       "    }\n",
       "</style>\n",
       "<table border=\"1\" class=\"dataframe\">\n",
       "  <thead>\n",
       "    <tr style=\"text-align: right;\">\n",
       "      <th></th>\n",
       "      <th>direction</th>\n",
       "      <th>pe</th>\n",
       "      <th>dv</th>\n",
       "      <th>retALSI</th>\n",
       "      <th>lag</th>\n",
       "    </tr>\n",
       "  </thead>\n",
       "  <tbody>\n",
       "    <tr>\n",
       "      <th>6037</th>\n",
       "      <td>1</td>\n",
       "      <td>4.615059</td>\n",
       "      <td>-1.346822</td>\n",
       "      <td>1.629155</td>\n",
       "      <td>1.629155</td>\n",
       "    </tr>\n",
       "    <tr>\n",
       "      <th>6038</th>\n",
       "      <td>1</td>\n",
       "      <td>-0.437425</td>\n",
       "      <td>-0.339559</td>\n",
       "      <td>0.135424</td>\n",
       "      <td>0.135424</td>\n",
       "    </tr>\n",
       "    <tr>\n",
       "      <th>6039</th>\n",
       "      <td>1</td>\n",
       "      <td>1.065902</td>\n",
       "      <td>-1.025650</td>\n",
       "      <td>1.013595</td>\n",
       "      <td>1.013595</td>\n",
       "    </tr>\n",
       "    <tr>\n",
       "      <th>6040</th>\n",
       "      <td>1</td>\n",
       "      <td>1.006961</td>\n",
       "      <td>-1.384105</td>\n",
       "      <td>1.448496</td>\n",
       "      <td>1.448496</td>\n",
       "    </tr>\n",
       "    <tr>\n",
       "      <th>6041</th>\n",
       "      <td>1</td>\n",
       "      <td>0.665718</td>\n",
       "      <td>-0.699304</td>\n",
       "      <td>0.641149</td>\n",
       "      <td>0.641149</td>\n",
       "    </tr>\n",
       "  </tbody>\n",
       "</table>\n",
       "</div>"
      ],
      "text/plain": [
       "      direction        pe        dv   retALSI       lag\n",
       "6037          1  4.615059 -1.346822  1.629155  1.629155\n",
       "6038          1 -0.437425 -0.339559  0.135424  0.135424\n",
       "6039          1  1.065902 -1.025650  1.013595  1.013595\n",
       "6040          1  1.006961 -1.384105  1.448496  1.448496\n",
       "6041          1  0.665718 -0.699304  0.641149  0.641149"
      ]
     },
     "execution_count": 3,
     "metadata": {},
     "output_type": "execute_result"
    }
   ],
   "source": [
    "dat.tail()"
   ]
  },
  {
   "cell_type": "code",
   "execution_count": 4,
   "metadata": {},
   "outputs": [],
   "source": [
    "Y=dat['retALSI']"
   ]
  },
  {
   "cell_type": "code",
   "execution_count": 5,
   "metadata": {},
   "outputs": [],
   "source": [
    "X=dat.drop(['retALSI','direction'],axis=1)"
   ]
  },
  {
   "cell_type": "code",
   "execution_count": 6,
   "metadata": {},
   "outputs": [],
   "source": [
    "from sklearn.model_selection import train_test_split\n",
    "X_train,X_test,Y_train,Y_test=train_test_split(X,Y,test_size=0.3,random_state=42)"
   ]
  },
  {
   "cell_type": "code",
   "execution_count": 7,
   "metadata": {},
   "outputs": [],
   "source": [
    "from sklearn.ensemble import RandomForestRegressor\n",
    "regr = RandomForestRegressor(max_depth=2, random_state=0, n_estimators=100)\n",
    "RFregr=regr.fit(X_train, Y_train) "
   ]
  },
  {
   "cell_type": "code",
   "execution_count": 8,
   "metadata": {},
   "outputs": [],
   "source": [
    "RF_train_score = RFregr.score(X_train,Y_train)\n",
    "RF_test_score = RFregr.score(X_test, Y_test)"
   ]
  },
  {
   "cell_type": "code",
   "execution_count": 22,
   "metadata": {},
   "outputs": [
    {
     "name": "stdout",
     "output_type": "stream",
     "text": [
      "Random Forest regression train score low alpha: 0.849869350469207\n",
      "Random Forest regression test score low alpha: 0.8669687728279566\n"
     ]
    }
   ],
   "source": [
    "print(\"Random Forest regression train score low alpha:\", RF_train_score)\n",
    "print(\"Random Forest regression test score low alpha:\", RF_test_score)"
   ]
  },
  {
   "cell_type": "markdown",
   "metadata": {},
   "source": [
    "# Prediction"
   ]
  },
  {
   "cell_type": "code",
   "execution_count": 23,
   "metadata": {},
   "outputs": [
    {
     "name": "stdout",
     "output_type": "stream",
     "text": [
      "Random Forest regression pmse: 0.17729602934160396\n"
     ]
    }
   ],
   "source": [
    "Prediction=RFregr.predict(X_test)\n",
    "from sklearn.metrics import mean_squared_error\n",
    "test_mse=mean_squared_error(Y_test, Prediction)\n",
    "print(\"Random Forest regression pmse:\", test_mse)"
   ]
  },
  {
   "cell_type": "code",
   "execution_count": 13,
   "metadata": {},
   "outputs": [],
   "source": [
    "# Feature Importance"
   ]
  },
  {
   "cell_type": "code",
   "execution_count": 19,
   "metadata": {},
   "outputs": [
    {
     "name": "stdout",
     "output_type": "stream",
     "text": [
      "[0. 0. 1.]\n"
     ]
    },
    {
     "data": {
      "image/png": "[encoded data removed]",
      "text/plain": [
       "<Figure size 432x288 with 1 Axes>"
      ]
     },
     "metadata": {
      "needs_background": "light"
     },
     "output_type": "display_data"
    }
   ],
   "source": [
    "print(RFregr.feature_importances_)##\n",
    "import matplotlib.pyplot as plt\n",
    "feat_importances = pd.Series(RFregr.feature_importances_,index=X.columns)\n",
    "feat_importances.nlargest(10).plot(kind='barh')\n",
    "plt.show()"
   ]
  },
  {
   "cell_type": "code",
   "execution_count": null,
   "metadata": {},
   "outputs": [],
   "source": [
    "residuals=Y_test-Prediction"
   ]
  }
 ],
 "metadata": {
  "kernelspec": {
   "display_name": "Python 3 (ipykernel)",
   "language": "python",
   "name": "python3"
  },
  "language_info": {
   "codemirror_mode": {
    "name": "ipython",
    "version": 3
   },
   "file_extension": ".py",
   "mimetype": "text/x-python",
   "name": "python",
   "nbconvert_exporter": "python",
   "pygments_lexer": "ipython3",
   "version": "3.9.7"
  }
 },
 "nbformat": 4,
 "nbformat_minor": 4
}
